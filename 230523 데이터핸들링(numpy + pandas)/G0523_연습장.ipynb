{
  "nbformat": 4,
  "nbformat_minor": 0,
  "metadata": {
    "colab": {
      "provenance": []
    },
    "kernelspec": {
      "name": "python3",
      "display_name": "Python 3"
    },
    "language_info": {
      "name": "python"
    }
  },
  "cells": [
    {
      "cell_type": "markdown",
      "source": [
        "브로드 캐스팅\n",
        "\n",
        "- 두 배열의 차원의 크기가 같다 -> 그냥 계산\n",
        "- 두 배열의 차원이 다르고 한 배열의 차원이 1차원(벡터)\n",
        "- 차원을 늘렸을 때 계산이 가능한 경우!**"
      ],
      "metadata": {
        "id": "k8x6NyH4Bcq-"
      }
    },
    {
      "cell_type": "markdown",
      "source": [
        "# 난수 생성 함수"
      ],
      "metadata": {
        "id": "WkprNMxpB9xV"
      }
    },
    {
      "cell_type": "code",
      "source": [
        "import numpy as np"
      ],
      "metadata": {
        "id": "zwp1BfeaBWjj"
      },
      "execution_count": null,
      "outputs": []
    },
    {
      "cell_type": "code",
      "source": [
        "a = np.random.rand(2,2) # 0~1 사이에 값 랜덤\n",
        "print(a)"
      ],
      "metadata": {
        "colab": {
          "base_uri": "https://localhost:8080/"
        },
        "id": "VEwn1_gyCaLC",
        "outputId": "48f7145b-14b1-4aef-e601-2ea735a04c8c"
      },
      "execution_count": null,
      "outputs": [
        {
          "output_type": "stream",
          "name": "stdout",
          "text": [
            "[[0.4005604  0.63533585]\n",
            " [0.3403159  0.95083351]]\n"
          ]
        }
      ]
    },
    {
      "cell_type": "code",
      "source": [
        "b = np.random.randn(2,2) #평균이 0, 분산이 1: 표준 정규 분포\n",
        "print(b)"
      ],
      "metadata": {
        "colab": {
          "base_uri": "https://localhost:8080/"
        },
        "id": "87eetvMgC72e",
        "outputId": "12a699cf-c093-493f-9b5c-f2c95e1c4c64"
      },
      "execution_count": null,
      "outputs": [
        {
          "output_type": "stream",
          "name": "stdout",
          "text": [
            "[[ 1.22980499  1.87067131]\n",
            " [-1.34558468  0.98043874]]\n"
          ]
        }
      ]
    },
    {
      "cell_type": "code",
      "source": [
        "c = np.random.randint(0,10,size=5)\n",
        "print(c)"
      ],
      "metadata": {
        "colab": {
          "base_uri": "https://localhost:8080/"
        },
        "id": "ngZ97__hDXSO",
        "outputId": "63c4f448-c2da-4513-97b1-3285b696649c"
      },
      "execution_count": null,
      "outputs": [
        {
          "output_type": "stream",
          "name": "stdout",
          "text": [
            "[3 1 1 5 9]\n"
          ]
        }
      ]
    },
    {
      "cell_type": "code",
      "source": [
        "c2 = np.random.randint(0,10,size=(2,2))\n",
        "print(c2)"
      ],
      "metadata": {
        "colab": {
          "base_uri": "https://localhost:8080/"
        },
        "id": "xxbfzbi1DtAU",
        "outputId": "4c622b2a-5c4e-4f65-ba91-f3bbef550aee"
      },
      "execution_count": null,
      "outputs": [
        {
          "output_type": "stream",
          "name": "stdout",
          "text": [
            "[[1 9]\n",
            " [0 3]]\n"
          ]
        }
      ]
    },
    {
      "cell_type": "code",
      "source": [
        "d = np.arange(10) # 0~9까지\n",
        "np.random.shuffle(d) # 복사본 생성이 x, 원본 값이 변한다.\n",
        "print(d)"
      ],
      "metadata": {
        "colab": {
          "base_uri": "https://localhost:8080/"
        },
        "id": "C82eheN_FaBR",
        "outputId": "6e6be0ae-0fa1-4964-ef15-c5b3283d27fe"
      },
      "execution_count": null,
      "outputs": [
        {
          "output_type": "stream",
          "name": "stdout",
          "text": [
            "[8 5 2 4 6 3 9 7 1 0]\n"
          ]
        }
      ]
    },
    {
      "cell_type": "code",
      "source": [
        "choice = np.random.choice(d,5) # 중복이 허용\n",
        "print(choice)"
      ],
      "metadata": {
        "colab": {
          "base_uri": "https://localhost:8080/"
        },
        "id": "B8nBZXr3IvWZ",
        "outputId": "20c95c97-dc04-4056-a626-49c3a3c15471"
      },
      "execution_count": null,
      "outputs": [
        {
          "output_type": "stream",
          "name": "stdout",
          "text": [
            "[5 4 6 4 4]\n"
          ]
        }
      ]
    },
    {
      "cell_type": "code",
      "source": [
        "choice = np.random.choice(d,5,replace=False) # 중복이 허용 x\n",
        "print(choice)"
      ],
      "metadata": {
        "colab": {
          "base_uri": "https://localhost:8080/"
        },
        "id": "hkQLpJ4lJEBj",
        "outputId": "c5c3f428-1dc1-40f6-faef-41d1a992f241"
      },
      "execution_count": null,
      "outputs": [
        {
          "output_type": "stream",
          "name": "stdout",
          "text": [
            "[7 9 4 2 3]\n"
          ]
        }
      ]
    },
    {
      "cell_type": "code",
      "source": [
        "choice = np.random.choice(d,5,p=[0.1, 0, 0.3, 0.2, 0.4, 0, 0, 0, 0, 0]) # 중복이 허용 x\n",
        "print(choice) # 지정확률"
      ],
      "metadata": {
        "colab": {
          "base_uri": "https://localhost:8080/"
        },
        "id": "nHvtPNZoJbch",
        "outputId": "45136f21-09d9-4491-bba4-548f686b07e0"
      },
      "execution_count": null,
      "outputs": [
        {
          "output_type": "stream",
          "name": "stdout",
          "text": [
            "[6 2 2 2 4]\n"
          ]
        }
      ]
    },
    {
      "cell_type": "code",
      "source": [
        "# permutation 순열\n",
        "a = np.arange(10)\n",
        "a_p = np.random.permutation(a)\n",
        "\n",
        "print(a_p)\n",
        "print(a)"
      ],
      "metadata": {
        "colab": {
          "base_uri": "https://localhost:8080/"
        },
        "id": "1kfppmNELKB7",
        "outputId": "0516df0e-43e1-4bb0-a906-3002057dcc96"
      },
      "execution_count": null,
      "outputs": [
        {
          "output_type": "stream",
          "name": "stdout",
          "text": [
            "[2 1 7 8 3 4 5 0 6 9]\n",
            "[0 1 2 3 4 5 6 7 8 9]\n"
          ]
        }
      ]
    },
    {
      "cell_type": "code",
      "source": [
        "# 정규분포를 따르는 난수 생성\n",
        "# a = np.random.normal('평균', '표준편차', '갯수')\n",
        "a = np.random.normal(0,1,3)\n",
        "print(a)"
      ],
      "metadata": {
        "colab": {
          "base_uri": "https://localhost:8080/"
        },
        "id": "RnPvVIjgMlDJ",
        "outputId": "b9027786-e602-449c-e05f-eea95eb91bab"
      },
      "execution_count": null,
      "outputs": [
        {
          "output_type": "stream",
          "name": "stdout",
          "text": [
            "[-0.8693275   0.5428389  -1.13598067]\n"
          ]
        }
      ]
    },
    {
      "cell_type": "markdown",
      "source": [
        "# pandas\n",
        "\n",
        "- 데이터 자체를 분석, 파악\n",
        "- 표\n",
        "- 데이터 다루는 데 초점\n",
        "- 정렬, 필터링, 그룹화, 집계"
      ],
      "metadata": {
        "id": "fjxwIJZrZMh9"
      }
    },
    {
      "cell_type": "markdown",
      "source": [
        "- 데이터 로딩 및 저장\n",
        "- 데이터 인덱싱 및 슬라이싱\n",
        "- 결측치 처리\n",
        "- 데이터 변환\n",
        "- 데이터 집계 및 그룹화\n",
        "-----\n",
        "- 시계열 데이터\n",
        "- 데이터 시각화\n"
      ],
      "metadata": {
        "id": "JhlAaLJoaCHj"
      }
    },
    {
      "cell_type": "markdown",
      "source": [
        "## 1. series(시리즈)\n",
        "- 인덱스를 지정할 수 있음"
      ],
      "metadata": {
        "id": "nDIrm8RxbgQh"
      }
    },
    {
      "cell_type": "code",
      "source": [
        "import pandas as pd"
      ],
      "metadata": {
        "id": "r6LNtfJcZIlH"
      },
      "execution_count": null,
      "outputs": []
    },
    {
      "cell_type": "code",
      "source": [
        "s = pd.Series([1,2,3,4])\n",
        "print(s)"
      ],
      "metadata": {
        "colab": {
          "base_uri": "https://localhost:8080/"
        },
        "id": "S4MycU6eb6T9",
        "outputId": "e56aabca-9be5-4e16-86bc-e54023d4707b"
      },
      "execution_count": null,
      "outputs": [
        {
          "output_type": "stream",
          "name": "stdout",
          "text": [
            "0    1\n",
            "1    2\n",
            "2    3\n",
            "3    4\n",
            "dtype: int64\n"
          ]
        }
      ]
    },
    {
      "cell_type": "code",
      "source": [
        "s2 = pd.Series({'a': 1, 'b' : 2, 'c' : 3, 'd' : 4})\n",
        "print(s2)"
      ],
      "metadata": {
        "colab": {
          "base_uri": "https://localhost:8080/"
        },
        "id": "WtTOntsKcdjo",
        "outputId": "b567fc6e-c534-4403-8c53-d22efcdd7b31"
      },
      "execution_count": null,
      "outputs": [
        {
          "output_type": "stream",
          "name": "stdout",
          "text": [
            "a    1\n",
            "b    2\n",
            "c    3\n",
            "d    4\n",
            "dtype: int64\n"
          ]
        }
      ]
    },
    {
      "cell_type": "code",
      "source": [
        "s3 = pd.Series(5, index=[0,1,2])\n",
        "print(s3)"
      ],
      "metadata": {
        "colab": {
          "base_uri": "https://localhost:8080/"
        },
        "id": "22SGIj5Vc9dl",
        "outputId": "efe207ac-0b07-4a95-ce1b-1031414e8bfc"
      },
      "execution_count": null,
      "outputs": [
        {
          "output_type": "stream",
          "name": "stdout",
          "text": [
            "0    5\n",
            "1    5\n",
            "2    5\n",
            "dtype: int64\n"
          ]
        }
      ]
    },
    {
      "cell_type": "code",
      "source": [
        "data = [1,2,3,4,5]\n",
        "index = ['a','b','c','d','e']\n",
        "series = pd.Series(data, index=index) #활용\n",
        "print(series)"
      ],
      "metadata": {
        "colab": {
          "base_uri": "https://localhost:8080/"
        },
        "id": "V4JhpG9ddQZx",
        "outputId": "0d1a2044-6a04-4b5d-bcdf-d7682f5bbb89"
      },
      "execution_count": null,
      "outputs": [
        {
          "output_type": "stream",
          "name": "stdout",
          "text": [
            "a    1\n",
            "b    2\n",
            "c    3\n",
            "d    4\n",
            "e    5\n",
            "dtype: int64\n"
          ]
        }
      ]
    },
    {
      "cell_type": "code",
      "source": [
        "s = pd.Series(data)\n",
        "print(s)"
      ],
      "metadata": {
        "colab": {
          "base_uri": "https://localhost:8080/"
        },
        "id": "f67H7Mtrd8Im",
        "outputId": "db1c06a0-8130-409c-f2c5-16056ec27a86"
      },
      "execution_count": null,
      "outputs": [
        {
          "output_type": "stream",
          "name": "stdout",
          "text": [
            "0    1\n",
            "1    2\n",
            "2    3\n",
            "3    4\n",
            "4    5\n",
            "dtype: int64\n"
          ]
        }
      ]
    },
    {
      "cell_type": "code",
      "source": [
        "s[::-1]"
      ],
      "metadata": {
        "colab": {
          "base_uri": "https://localhost:8080/"
        },
        "id": "Urc7g_S51Ovt",
        "outputId": "18015778-d521-48ab-c890-f8226232a8be"
      },
      "execution_count": null,
      "outputs": [
        {
          "output_type": "execute_result",
          "data": {
            "text/plain": [
              "4    5\n",
              "3    4\n",
              "2    3\n",
              "1    2\n",
              "0    1\n",
              "dtype: int64"
            ]
          },
          "metadata": {},
          "execution_count": 27
        }
      ]
    },
    {
      "cell_type": "code",
      "source": [
        "s[:-1]"
      ],
      "metadata": {
        "colab": {
          "base_uri": "https://localhost:8080/"
        },
        "id": "NpJvszLa1Wtj",
        "outputId": "63fac75f-1469-461d-bcbd-616f9187efab"
      },
      "execution_count": null,
      "outputs": [
        {
          "output_type": "execute_result",
          "data": {
            "text/plain": [
              "0    1\n",
              "1    2\n",
              "2    3\n",
              "3    4\n",
              "dtype: int64"
            ]
          },
          "metadata": {},
          "execution_count": 28
        }
      ]
    },
    {
      "cell_type": "code",
      "source": [
        "s[:4]"
      ],
      "metadata": {
        "colab": {
          "base_uri": "https://localhost:8080/"
        },
        "id": "xrXl3ZhA1cMW",
        "outputId": "d641b167-f2dc-4cc0-c627-584a91a2e122"
      },
      "execution_count": null,
      "outputs": [
        {
          "output_type": "execute_result",
          "data": {
            "text/plain": [
              "0    1\n",
              "1    2\n",
              "2    3\n",
              "3    4\n",
              "dtype: int64"
            ]
          },
          "metadata": {},
          "execution_count": 29
        }
      ]
    },
    {
      "cell_type": "markdown",
      "source": [
        "## Boolean indexing"
      ],
      "metadata": {
        "id": "I0VCEA4G1jW_"
      }
    },
    {
      "cell_type": "code",
      "source": [
        "print(s > 2)"
      ],
      "metadata": {
        "colab": {
          "base_uri": "https://localhost:8080/"
        },
        "id": "QNZj4Rak1m72",
        "outputId": "f93a17b3-571b-4ee7-8385-47648056dafe"
      },
      "execution_count": null,
      "outputs": [
        {
          "output_type": "stream",
          "name": "stdout",
          "text": [
            "0    False\n",
            "1    False\n",
            "2     True\n",
            "3     True\n",
            "4     True\n",
            "dtype: bool\n"
          ]
        }
      ]
    },
    {
      "cell_type": "code",
      "source": [
        "print(s[s>2])"
      ],
      "metadata": {
        "colab": {
          "base_uri": "https://localhost:8080/"
        },
        "id": "AhM3WaTa2Ft6",
        "outputId": "99b40fd2-e12c-49cd-c68c-ae2737035863"
      },
      "execution_count": null,
      "outputs": [
        {
          "output_type": "stream",
          "name": "stdout",
          "text": [
            "2    3\n",
            "3    4\n",
            "4    5\n",
            "dtype: int64\n"
          ]
        }
      ]
    },
    {
      "cell_type": "code",
      "source": [
        "print(s[s<5])"
      ],
      "metadata": {
        "colab": {
          "base_uri": "https://localhost:8080/"
        },
        "id": "KLa1xkwe2ZDt",
        "outputId": "49640ab1-9219-48b9-c345-15b0ca88c8f6"
      },
      "execution_count": null,
      "outputs": [
        {
          "output_type": "stream",
          "name": "stdout",
          "text": [
            "0    1\n",
            "1    2\n",
            "2    3\n",
            "3    4\n",
            "dtype: int64\n"
          ]
        }
      ]
    },
    {
      "cell_type": "code",
      "source": [
        "print(s + 100)\n",
        "print(s - 100)\n",
        "print(s * 100)\n",
        "print(s ** 100)\n",
        "print(s / 100)\n",
        "print(s % 100)\n",
        "print(s // 100)"
      ],
      "metadata": {
        "colab": {
          "base_uri": "https://localhost:8080/"
        },
        "id": "rC3uTNn24ikj",
        "outputId": "2919589f-551b-4327-88fe-5ee25eeeb9b1"
      },
      "execution_count": null,
      "outputs": [
        {
          "output_type": "stream",
          "name": "stdout",
          "text": [
            "0    101\n",
            "1    102\n",
            "2    103\n",
            "3    104\n",
            "4    105\n",
            "dtype: int64\n",
            "0   -99\n",
            "1   -98\n",
            "2   -97\n",
            "3   -96\n",
            "4   -95\n",
            "dtype: int64\n",
            "0    100\n",
            "1    200\n",
            "2    300\n",
            "3    400\n",
            "4    500\n",
            "dtype: int64\n",
            "0                      1\n",
            "1                      0\n",
            "2   -2984622845537545263\n",
            "3                      0\n",
            "4   -3842938066129721103\n",
            "dtype: int64\n",
            "0    0.01\n",
            "1    0.02\n",
            "2    0.03\n",
            "3    0.04\n",
            "4    0.05\n",
            "dtype: float64\n",
            "0    1\n",
            "1    2\n",
            "2    3\n",
            "3    4\n",
            "4    5\n",
            "dtype: int64\n",
            "0    0\n",
            "1    0\n",
            "2    0\n",
            "3    0\n",
            "4    0\n",
            "dtype: int64\n"
          ]
        }
      ]
    },
    {
      "cell_type": "markdown",
      "source": [
        "## series 객체에 접근"
      ],
      "metadata": {
        "id": "x4eASVK_5_ZK"
      }
    },
    {
      "cell_type": "code",
      "source": [
        "print(s.keys)\n",
        "print(s.values)"
      ],
      "metadata": {
        "colab": {
          "base_uri": "https://localhost:8080/"
        },
        "id": "1q8R8ANK7HhS",
        "outputId": "be611271-be33-40b4-b4f7-e3f692754978"
      },
      "execution_count": null,
      "outputs": [
        {
          "output_type": "stream",
          "name": "stdout",
          "text": [
            "<bound method Series.keys of 0    1\n",
            "1    2\n",
            "2    3\n",
            "3    4\n",
            "4    5\n",
            "dtype: int64>\n",
            "[1 2 3 4 5]\n"
          ]
        }
      ]
    },
    {
      "cell_type": "code",
      "source": [
        "s2 = pd.Series({'a': 1, 'b': 2, 'c': 3, 'd': 4})\n",
        "print(s2.keys)"
      ],
      "metadata": {
        "colab": {
          "base_uri": "https://localhost:8080/"
        },
        "id": "AuCtqMNl59is",
        "outputId": "6668a984-4064-4339-febd-7f05e1338e2e"
      },
      "execution_count": null,
      "outputs": [
        {
          "output_type": "stream",
          "name": "stdout",
          "text": [
            "<bound method Series.keys of a    1\n",
            "b    2\n",
            "c    3\n",
            "d    4\n",
            "dtype: int64>\n"
          ]
        }
      ]
    },
    {
      "cell_type": "code",
      "source": [
        "s2.index"
      ],
      "metadata": {
        "colab": {
          "base_uri": "https://localhost:8080/"
        },
        "id": "_km1pj3e7SvQ",
        "outputId": "188f367f-271d-486f-daa7-91a3c468f5ef"
      },
      "execution_count": null,
      "outputs": [
        {
          "output_type": "execute_result",
          "data": {
            "text/plain": [
              "Index(['a', 'b', 'c', 'd'], dtype='object')"
            ]
          },
          "metadata": {},
          "execution_count": 40
        }
      ]
    },
    {
      "cell_type": "code",
      "source": [
        "s.index"
      ],
      "metadata": {
        "colab": {
          "base_uri": "https://localhost:8080/"
        },
        "id": "Q0R4hh2v7WrG",
        "outputId": "154883bf-e77d-4fc2-fdf9-9174cb32d8a6"
      },
      "execution_count": null,
      "outputs": [
        {
          "output_type": "execute_result",
          "data": {
            "text/plain": [
              "RangeIndex(start=0, stop=5, step=1)"
            ]
          },
          "metadata": {},
          "execution_count": 41
        }
      ]
    },
    {
      "cell_type": "code",
      "source": [
        "# items\n",
        "\n",
        "print(s2.items()) # zip ->  순회가 가능, 쌍"
      ],
      "metadata": {
        "colab": {
          "base_uri": "https://localhost:8080/"
        },
        "id": "EsjCP3D1_Wft",
        "outputId": "0a67cde2-80db-4730-a64a-470d0e79d117"
      },
      "execution_count": null,
      "outputs": [
        {
          "output_type": "stream",
          "name": "stdout",
          "text": [
            "<zip object at 0x7f6dfd99b380>\n"
          ]
        }
      ]
    },
    {
      "cell_type": "code",
      "source": [
        "for a, b in s2.items():\n",
        "    print(f'인덱스: {a}, 데이터: {b}')"
      ],
      "metadata": {
        "colab": {
          "base_uri": "https://localhost:8080/"
        },
        "id": "MAXv0R6kANoW",
        "outputId": "8f8ba27d-a3e2-4560-a169-36f1804089ff"
      },
      "execution_count": null,
      "outputs": [
        {
          "output_type": "stream",
          "name": "stdout",
          "text": [
            "인덱스: a, 데이터: 1\n",
            "인덱스: b, 데이터: 2\n",
            "인덱스: c, 데이터: 3\n",
            "인덱스: d, 데이터: 4\n"
          ]
        }
      ]
    },
    {
      "cell_type": "code",
      "source": [
        "s = pd.Series([10,20,30,40], index=['a','b','c','d'])\n",
        "print(s)"
      ],
      "metadata": {
        "colab": {
          "base_uri": "https://localhost:8080/"
        },
        "id": "avpxF0-7B20J",
        "outputId": "d8be0e4d-81e7-4bbf-d2bb-c1702a170f25"
      },
      "execution_count": null,
      "outputs": [
        {
          "output_type": "stream",
          "name": "stdout",
          "text": [
            "a    10\n",
            "b    20\n",
            "c    30\n",
            "d    40\n",
            "dtype: int64\n"
          ]
        }
      ]
    },
    {
      "cell_type": "code",
      "source": [
        "print(s.loc['b']) # 행에 접근\n",
        "print(s.loc['b':'d'])"
      ],
      "metadata": {
        "colab": {
          "base_uri": "https://localhost:8080/"
        },
        "id": "RLCzWbE2CJlb",
        "outputId": "5dea70e2-b9bc-412a-c227-348a6139e2d0"
      },
      "execution_count": null,
      "outputs": [
        {
          "output_type": "stream",
          "name": "stdout",
          "text": [
            "20\n",
            "b    20\n",
            "c    30\n",
            "d    40\n",
            "dtype: int64\n"
          ]
        }
      ]
    },
    {
      "cell_type": "code",
      "source": [
        "print(s.iloc[1]) #(행에 기반한) 열에 접근"
      ],
      "metadata": {
        "colab": {
          "base_uri": "https://localhost:8080/"
        },
        "id": "Q6dLwzXTCuuP",
        "outputId": "ea3a77ea-15ca-4610-f6da-611c9987a462"
      },
      "execution_count": null,
      "outputs": [
        {
          "output_type": "stream",
          "name": "stdout",
          "text": [
            "20\n"
          ]
        }
      ]
    },
    {
      "cell_type": "code",
      "source": [
        "print(s.at['a']) # loc과 비슷, 하나의 값만 가져올 때"
      ],
      "metadata": {
        "colab": {
          "base_uri": "https://localhost:8080/"
        },
        "id": "YwtqLhweDi-l",
        "outputId": "14e49f0c-6786-42b9-f970-8fda8798dd0a"
      },
      "execution_count": null,
      "outputs": [
        {
          "output_type": "stream",
          "name": "stdout",
          "text": [
            "10\n"
          ]
        }
      ]
    },
    {
      "cell_type": "code",
      "source": [
        "print(s.iat[0]) # at에 기반"
      ],
      "metadata": {
        "colab": {
          "base_uri": "https://localhost:8080/"
        },
        "id": "VSPBlLUZDvut",
        "outputId": "7c6ced5e-43d9-4e7e-c49a-c7a8e416c037"
      },
      "execution_count": null,
      "outputs": [
        {
          "output_type": "stream",
          "name": "stdout",
          "text": [
            "10\n"
          ]
        }
      ]
    },
    {
      "cell_type": "code",
      "source": [
        "print(s.get('e'))  # 없을 때 값 처리 방법이 다름, error가 나지 않고 없다는 걸 알려줌"
      ],
      "metadata": {
        "colab": {
          "base_uri": "https://localhost:8080/"
        },
        "id": "OVagCwPOD92W",
        "outputId": "df493bed-dfe4-4478-b127-c1409ad8e04e"
      },
      "execution_count": null,
      "outputs": [
        {
          "output_type": "stream",
          "name": "stdout",
          "text": [
            "None\n"
          ]
        }
      ]
    },
    {
      "cell_type": "code",
      "source": [
        "print(s.get('e', default=-1)) # 없을 때 값 처리 방법이 다름, error가 나지 않고 없다는 걸 알려줌"
      ],
      "metadata": {
        "colab": {
          "base_uri": "https://localhost:8080/"
        },
        "id": "lpERK8b8EpeT",
        "outputId": "ff69f1fe-f098-469f-fa13-cfc0b9a668a2"
      },
      "execution_count": null,
      "outputs": [
        {
          "output_type": "stream",
          "name": "stdout",
          "text": [
            "-1\n"
          ]
        }
      ]
    },
    {
      "cell_type": "markdown",
      "source": [
        "## 결측값 (Nan, None)\n",
        "\n",
        "- isna()\n",
        "- isnull()\n",
        "\n",
        "Nan(Not a number) -> float\n",
        "None -> none "
      ],
      "metadata": {
        "id": "aMEol5YSP3rM"
      }
    },
    {
      "cell_type": "code",
      "source": [
        "data = [1,2,3,None]\n",
        "print(pd.Series(data))"
      ],
      "metadata": {
        "colab": {
          "base_uri": "https://localhost:8080/"
        },
        "id": "dimCt4lwRm81",
        "outputId": "c36a0078-b995-4d55-c626-c99faa2fe401"
      },
      "execution_count": null,
      "outputs": [
        {
          "output_type": "stream",
          "name": "stdout",
          "text": [
            "0    1.0\n",
            "1    2.0\n",
            "2    3.0\n",
            "3    NaN\n",
            "dtype: float64\n"
          ]
        }
      ]
    },
    {
      "cell_type": "code",
      "source": [
        "data = [1,2,3,None]\n",
        "\n",
        "s = pd.Series(data)\n",
        "\n",
        "print(s.isna())\n",
        "print(s.isnull())"
      ],
      "metadata": {
        "colab": {
          "base_uri": "https://localhost:8080/"
        },
        "id": "nPPpestESYJA",
        "outputId": "7ff84ae4-9797-442f-8812-6dc613d3b2c9"
      },
      "execution_count": null,
      "outputs": [
        {
          "output_type": "stream",
          "name": "stdout",
          "text": [
            "0    False\n",
            "1    False\n",
            "2    False\n",
            "3     True\n",
            "dtype: bool\n",
            "0    False\n",
            "1    False\n",
            "2    False\n",
            "3     True\n",
            "dtype: bool\n"
          ]
        }
      ]
    },
    {
      "cell_type": "code",
      "source": [
        "print(s.isna().sum())\n"
      ],
      "metadata": {
        "colab": {
          "base_uri": "https://localhost:8080/"
        },
        "id": "9MyUj7SeUPy0",
        "outputId": "d36ff3ab-1a70-4bac-ac6a-710d8dd8ce52"
      },
      "execution_count": null,
      "outputs": [
        {
          "output_type": "stream",
          "name": "stdout",
          "text": [
            "1\n"
          ]
        }
      ]
    },
    {
      "cell_type": "markdown",
      "source": [
        "결측치 제거"
      ],
      "metadata": {
        "id": "T1WhR6T8UWsy"
      }
    },
    {
      "cell_type": "code",
      "source": [
        "s.dropna()"
      ],
      "metadata": {
        "colab": {
          "base_uri": "https://localhost:8080/"
        },
        "id": "IHaTvtK9UZen",
        "outputId": "6baf87cd-9676-46bb-9f3b-61e0d09da528"
      },
      "execution_count": null,
      "outputs": [
        {
          "output_type": "execute_result",
          "data": {
            "text/plain": [
              "0    1.0\n",
              "1    2.0\n",
              "2    3.0\n",
              "dtype: float64"
            ]
          },
          "metadata": {},
          "execution_count": 62
        }
      ]
    },
    {
      "cell_type": "markdown",
      "source": [
        "결측치를 0을 치환"
      ],
      "metadata": {
        "id": "A8A_lFRBUfmB"
      }
    },
    {
      "cell_type": "code",
      "source": [
        "s"
      ],
      "metadata": {
        "colab": {
          "base_uri": "https://localhost:8080/"
        },
        "id": "Aq3S79wWUd2k",
        "outputId": "5c39c4ce-50f3-4143-c38e-591613c65cbf"
      },
      "execution_count": null,
      "outputs": [
        {
          "output_type": "execute_result",
          "data": {
            "text/plain": [
              "0    1.0\n",
              "1    2.0\n",
              "2    3.0\n",
              "3    NaN\n",
              "dtype: float64"
            ]
          },
          "metadata": {},
          "execution_count": 63
        }
      ]
    },
    {
      "cell_type": "code",
      "source": [
        "s.fillna(0)"
      ],
      "metadata": {
        "colab": {
          "base_uri": "https://localhost:8080/"
        },
        "id": "MifkNbthUpDP",
        "outputId": "18449de9-4737-4c92-dd03-3e60a58c8828"
      },
      "execution_count": null,
      "outputs": [
        {
          "output_type": "execute_result",
          "data": {
            "text/plain": [
              "0    1.0\n",
              "1    2.0\n",
              "2    3.0\n",
              "3    0.0\n",
              "dtype: float64"
            ]
          },
          "metadata": {},
          "execution_count": 65
        }
      ]
    },
    {
      "cell_type": "markdown",
      "source": [
        "## series함수"
      ],
      "metadata": {
        "id": "AK9SlpkKVsIw"
      }
    },
    {
      "cell_type": "code",
      "source": [
        "s = pd.Series([1,3,5,7,9])"
      ],
      "metadata": {
        "id": "14JBwyzfVq79"
      },
      "execution_count": null,
      "outputs": []
    },
    {
      "cell_type": "code",
      "source": [
        "s.count() # 카운트 함수"
      ],
      "metadata": {
        "colab": {
          "base_uri": "https://localhost:8080/"
        },
        "id": "9xOSWm0jV9Xo",
        "outputId": "b2e4c047-b99a-4656-a124-c47152c476de"
      },
      "execution_count": null,
      "outputs": [
        {
          "output_type": "execute_result",
          "data": {
            "text/plain": [
              "5"
            ]
          },
          "metadata": {},
          "execution_count": 67
        }
      ]
    },
    {
      "cell_type": "code",
      "source": [
        "s.min() # 최소값"
      ],
      "metadata": {
        "colab": {
          "base_uri": "https://localhost:8080/"
        },
        "id": "J-kQ_tsGWKcm",
        "outputId": "e11ac4c4-ded7-4ca0-8353-1dd9fe6a5f1b"
      },
      "execution_count": null,
      "outputs": [
        {
          "output_type": "execute_result",
          "data": {
            "text/plain": [
              "1"
            ]
          },
          "metadata": {},
          "execution_count": 68
        }
      ]
    },
    {
      "cell_type": "code",
      "source": [
        "s.max()"
      ],
      "metadata": {
        "colab": {
          "base_uri": "https://localhost:8080/"
        },
        "id": "951u-NtRWTXt",
        "outputId": "3f6238fa-32cf-4519-af3b-2b77b95d4f13"
      },
      "execution_count": null,
      "outputs": [
        {
          "output_type": "execute_result",
          "data": {
            "text/plain": [
              "9"
            ]
          },
          "metadata": {},
          "execution_count": 69
        }
      ]
    },
    {
      "cell_type": "code",
      "source": [
        "s.max()"
      ],
      "metadata": {
        "colab": {
          "base_uri": "https://localhost:8080/"
        },
        "id": "73X37VNWWXjI",
        "outputId": "57f399a9-663d-42e5-b098-420ba89e4170"
      },
      "execution_count": null,
      "outputs": [
        {
          "output_type": "execute_result",
          "data": {
            "text/plain": [
              "9"
            ]
          },
          "metadata": {},
          "execution_count": 71
        }
      ]
    },
    {
      "cell_type": "code",
      "source": [
        "print(s.mean())\n",
        "print(s.median())\n",
        "print(s.std())\n",
        "print(s.var())"
      ],
      "metadata": {
        "colab": {
          "base_uri": "https://localhost:8080/"
        },
        "id": "-syC0QJUWbX8",
        "outputId": "cf57acb6-892b-4792-936d-31f12936f317"
      },
      "execution_count": null,
      "outputs": [
        {
          "output_type": "stream",
          "name": "stdout",
          "text": [
            "5.0\n",
            "5.0\n",
            "3.1622776601683795\n",
            "10.0\n"
          ]
        }
      ]
    },
    {
      "cell_type": "code",
      "source": [
        "s.describe() # 기초통계내용"
      ],
      "metadata": {
        "colab": {
          "base_uri": "https://localhost:8080/"
        },
        "id": "uO8R3s7lWwIH",
        "outputId": "55618c0d-98de-4db5-e473-c1a9027d1009"
      },
      "execution_count": null,
      "outputs": [
        {
          "output_type": "execute_result",
          "data": {
            "text/plain": [
              "count    5.000000\n",
              "mean     5.000000\n",
              "std      3.162278\n",
              "min      1.000000\n",
              "25%      3.000000\n",
              "50%      5.000000\n",
              "75%      7.000000\n",
              "max      9.000000\n",
              "dtype: float64"
            ]
          },
          "metadata": {},
          "execution_count": 74
        }
      ]
    }
  ]
}