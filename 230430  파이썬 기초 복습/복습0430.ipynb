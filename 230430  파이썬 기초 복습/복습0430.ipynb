{
  "nbformat": 4,
  "nbformat_minor": 0,
  "metadata": {
    "colab": {
      "provenance": []
    },
    "kernelspec": {
      "name": "python3",
      "display_name": "Python 3"
    },
    "language_info": {
      "name": "python"
    }
  },
  "cells": [
    {
      "cell_type": "code",
      "execution_count": null,
      "metadata": {
        "id": "nKii4g9VKVaI"
      },
      "outputs": [],
      "source": [
        "## 코드순서\n",
        "\n",
        "# https://pythontutor.com/visualize.html#mode=edit  "
      ]
    },
    {
      "cell_type": "code",
      "source": [
        "def function1(x):\n",
        "    print('world1')\n",
        "    print('world2')\n",
        "    print('world3')\n",
        "    return x + x\n",
        "\n",
        "def function2(x, y):\n",
        "    print('hello1')\n",
        "    print('hello2')\n",
        "    z = function1(10)\n",
        "    return x + y + z\n",
        "\n",
        "a = function1(1)\n",
        "b = function2(3, 4)\n",
        "print(a, b)"
      ],
      "metadata": {
        "colab": {
          "base_uri": "https://localhost:8080/"
        },
        "id": "xGYHWXywKhNW",
        "outputId": "07b3d162-4042-4d56-bb1e-6770e3f576c1"
      },
      "execution_count": 1,
      "outputs": [
        {
          "output_type": "stream",
          "name": "stdout",
          "text": [
            "world1\n",
            "world2\n",
            "world3\n",
            "hello1\n",
            "hello2\n",
            "world1\n",
            "world2\n",
            "world3\n",
            "2 27\n"
          ]
        }
      ]
    },
    {
      "cell_type": "code",
      "source": [
        "def f2(x, y):\n",
        "    def f1(x):\n",
        "        print('world1')\n",
        "        return x + x\n",
        "    print('hello1')\n",
        "    z = f1(10)\n",
        "    return x + y + z\n",
        "\n",
        "# a = f1(1) # 함수 안에 있는 함수는 밖에서 호출할 수 있지 않습니다.\n",
        "b = f2(3, 4)\n",
        "print(b)"
      ],
      "metadata": {
        "colab": {
          "base_uri": "https://localhost:8080/"
        },
        "id": "mgwaBYYWMt_O",
        "outputId": "34a76e72-afb7-49cc-ac8a-d1802db26c41"
      },
      "execution_count": 2,
      "outputs": [
        {
          "output_type": "stream",
          "name": "stdout",
          "text": [
            "hello1\n",
            "world1\n",
            "27\n"
          ]
        }
      ]
    }
  ]
}