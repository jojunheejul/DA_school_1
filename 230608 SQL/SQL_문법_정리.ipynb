{
  "nbformat": 4,
  "nbformat_minor": 0,
  "metadata": {
    "colab": {
      "provenance": []
    },
    "kernelspec": {
      "name": "python3",
      "display_name": "Python 3"
    },
    "language_info": {
      "name": "python"
    }
  },
  "cells": [
    {
      "cell_type": "markdown",
      "source": [
        "1. Select 쿼리문\n",
        " Select 쿼리문은, 데이터베이스에서 '데이터를 선택해서 가져오겠다'는 의미\n",
        "\n",
        "2. where\n",
        "Where 절은, Select 쿼리문으로 가져올 데이터에 조건을 걸어주는 것을 의미\n",
        "(=!, between, in, like, Limit, Distinct, Count  )\n",
        "\n",
        "3. Group by\n",
        "동일한 범주를 갖는 데이터를 하나로 묶어서, 범주별 통계를 내주는 것\n",
        "\n",
        "4. Order by\n",
        "정렬 기능\n",
        "\n",
        "5. Alias(as)\n",
        "별칭 기능\n",
        "\n",
        "6. Join\n",
        "두 테이블의 공통된 정보 (key값)를 기준으로 테이블을 연결해서 한 테이블처럼 보는 것\n",
        "(Left Join, Inner Join)\n",
        "\n",
        "7. Union\n",
        "아래 위로 결과를 연결\n",
        "\n",
        "8. Subquery\n",
        "쿼리 안의 쿼리\n",
        "(where, select, from, inner join, with절 )"
      ],
      "metadata": {
        "id": "yw8ehqLQ5-go"
      }
    }
  ]
}