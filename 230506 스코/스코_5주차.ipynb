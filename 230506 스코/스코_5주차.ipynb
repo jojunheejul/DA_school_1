{
  "nbformat": 4,
  "nbformat_minor": 0,
  "metadata": {
    "colab": {
      "provenance": []
    },
    "kernelspec": {
      "name": "python3",
      "display_name": "Python 3"
    },
    "language_info": {
      "name": "python"
    }
  },
  "cells": [
    {
      "cell_type": "code",
      "execution_count": null,
      "metadata": {
        "id": "mn7X8PUyiaFI"
      },
      "outputs": [],
      "source": [
        "!pip install yfinance pandas-datareader finance-datareader"
      ]
    },
    {
      "cell_type": "code",
      "source": [
        "from pandas_datareader import data as pdr\n",
        "\n",
        "import yfinance as yf\n",
        "yf.pdr_override()\n",
        "\n",
        "import numpy as np\n",
        "import pandas as pd\n",
        "\n",
        "import FinanceDataReader as fdr"
      ],
      "metadata": {
        "id": "HWRDbiYtkzZY"
      },
      "execution_count": null,
      "outputs": []
    },
    {
      "cell_type": "code",
      "source": [
        "def get_return(code,k):\n",
        "    df = fdr.DataReader(code,'2018')\n",
        "\n",
        "    df['buy_at'] = (df['High'].shift(1) - df['Low'].shift(1))*k+df['Open']\n",
        "\n",
        "    df['is_buy'] = np.where(df['High']>df['buy_at'],'buy','')\n",
        "\n",
        "    df['sell_at'] = df['Open'].shift(-1)\n",
        "\n",
        "    df = df[df['is_buy'] == 'buy']\n",
        "\n",
        "    df['return'] = df['sell_at'] / df['buy_at']\n",
        "\n",
        "    return df[['return']].cumprod().iloc[-1,-1] -1\n",
        "\n"
      ],
      "metadata": {
        "id": "qt5ALgSMlCDZ"
      },
      "execution_count": null,
      "outputs": []
    },
    {
      "cell_type": "code",
      "source": [
        "get_return('005930',0.43)"
      ],
      "metadata": {
        "id": "EhFXdpDIri4_"
      },
      "execution_count": null,
      "outputs": []
    },
    {
      "cell_type": "code",
      "source": [
        "df = pd.DataFrame()\n",
        "\n",
        "for k in np.arange(0.4, 0.6, 0.01):\n",
        "    doc = {\n",
        "        'k':k,\n",
        "        'return' : get_return('005930', k)\n",
        "    }\n",
        "    df = df.append(doc, ignore_index = True)\n",
        "\n",
        "df.sort_values(by = 'return', ascending=False)"
      ],
      "metadata": {
        "id": "MZeAyiyErsJt"
      },
      "execution_count": null,
      "outputs": []
    },
    {
      "cell_type": "code",
      "source": [
        "def get_return_mf(code):\n",
        "    df = fdr.DataReader(code, '2018')\n",
        "\n",
        "    df = df.reset_index()\n",
        "    df = df[['Date', 'Open']]\n",
        "\n",
        "    df['Day'] = pd.to_datetime(df['Date']).dt.day_name()\n",
        "\n",
        "    cond = (df['Day'] == 'Friday') | (df['Day'] == 'Monday')\n",
        "\n",
        "    df = df[cond]\n",
        "\n",
        "    if df.iloc[0, 2] == 'Friday':\n",
        "        df = df.drop(index=df.index[0])\n",
        "\n",
        "    if df.iloc[-1, 2] == 'Monday':\n",
        "        df = df.drop(index=df.index[-1])\n",
        "\n",
        "    cond = (df['Day'] == 'Monday') & (df['Day'].shift(-1) == 'Monday')\n",
        "    df = df.drop(index=df[cond].index)\n",
        "\n",
        "    cond = (df['Day'] == 'Friday') & (df['Day'].shift(1) == 'Friday')\n",
        "    df = df.drop(index=df[cond].index)\n",
        "\n",
        "    df['Open_fri'] = df['Open'].shift(-1)\n",
        "\n",
        "    df = df[df['Day'] == 'Monday']\n",
        "\n",
        "    df = df[['Open', 'Open_fri']]\n",
        "\n",
        "    df.columns = ['buy_at', 'sell_at']\n",
        "\n",
        "    df['return'] = df['sell_at'] / df['buy_at']\n",
        "\n",
        "    cond = (df['sell_at'] != 0) & (df['buy_at'] != 0)\n",
        "    df[cond]\n",
        "\n",
        "    return df[['return']].cumprod().iloc[-1, -1] -1"
      ],
      "metadata": {
        "id": "mAZpy7tnvteF"
      },
      "execution_count": null,
      "outputs": []
    },
    {
      "cell_type": "code",
      "source": [
        "!pip install dart-fss"
      ],
      "metadata": {
        "id": "NNSBGf2W7oII"
      },
      "execution_count": null,
      "outputs": []
    },
    {
      "cell_type": "code",
      "source": [
        "import dart_fss as dart_fss\n",
        "import pandas as pd\n",
        "\n",
        "api_key = '852a7d11eaff31427834cceb019daf257a923c33'\n",
        "dart_fss.set_api_key(api_key=api_key)\n",
        "\n",
        "all = dart_fss.api.filings.get_corp_code()\n",
        "\n",
        "df = pd.DataFrame(all)\n",
        "\n",
        "df_listed = df[df['stock_code'].notnull()]\n",
        "\n"
      ],
      "metadata": {
        "id": "GHWnviFN8D1S"
      },
      "execution_count": null,
      "outputs": []
    },
    {
      "cell_type": "code",
      "source": [
        "df = pd.DataFrame()\n",
        "for row in df_listed.sample(10)[['stock_code','corp_name']].itertuples():\n",
        "  try:\n",
        "    doc = {\n",
        "      'name' : row[2],\n",
        "      'return' : get_return_mf(row[1])\n",
        "    }\n",
        "    df = df.append(doc, ignore_index = True)\n",
        "  except:\n",
        "    print(f'error - {row[2]}')  \n",
        "\n",
        "df.sort_values(by= 'return', ascending = False)    \n"
      ],
      "metadata": {
        "colab": {
          "base_uri": "https://localhost:8080/",
          "height": 695
        },
        "id": "k7uihLZg8VWJ",
        "outputId": "f210a9ac-21fb-4080-82a2-9bc83bc7196c"
      },
      "execution_count": null,
      "outputs": [
        {
          "output_type": "stream",
          "name": "stdout",
          "text": [
            "\"001490\" invalid symbol or has no data\n",
            "error - 천지산업\n"
          ]
        },
        {
          "output_type": "stream",
          "name": "stderr",
          "text": [
            "<ipython-input-71-07efbceb0bb1>:8: FutureWarning: The frame.append method is deprecated and will be removed from pandas in a future version. Use pandas.concat instead.\n",
            "  df = df.append(doc, ignore_index = True)\n",
            "<ipython-input-71-07efbceb0bb1>:8: FutureWarning: The frame.append method is deprecated and will be removed from pandas in a future version. Use pandas.concat instead.\n",
            "  df = df.append(doc, ignore_index = True)\n",
            "<ipython-input-71-07efbceb0bb1>:8: FutureWarning: The frame.append method is deprecated and will be removed from pandas in a future version. Use pandas.concat instead.\n",
            "  df = df.append(doc, ignore_index = True)\n",
            "<ipython-input-71-07efbceb0bb1>:8: FutureWarning: The frame.append method is deprecated and will be removed from pandas in a future version. Use pandas.concat instead.\n",
            "  df = df.append(doc, ignore_index = True)\n",
            "<ipython-input-71-07efbceb0bb1>:8: FutureWarning: The frame.append method is deprecated and will be removed from pandas in a future version. Use pandas.concat instead.\n",
            "  df = df.append(doc, ignore_index = True)\n",
            "<ipython-input-71-07efbceb0bb1>:8: FutureWarning: The frame.append method is deprecated and will be removed from pandas in a future version. Use pandas.concat instead.\n",
            "  df = df.append(doc, ignore_index = True)\n",
            "/usr/local/lib/python3.10/dist-packages/numpy/core/fromnumeric.py:57: RuntimeWarning: invalid value encountered in accumulate\n",
            "  return bound(*args, **kwds)\n",
            "<ipython-input-71-07efbceb0bb1>:8: FutureWarning: The frame.append method is deprecated and will be removed from pandas in a future version. Use pandas.concat instead.\n",
            "  df = df.append(doc, ignore_index = True)\n"
          ]
        },
        {
          "output_type": "stream",
          "name": "stdout",
          "text": [
            "error - 영진코퍼레이션\n"
          ]
        },
        {
          "output_type": "stream",
          "name": "stderr",
          "text": [
            "<ipython-input-71-07efbceb0bb1>:8: FutureWarning: The frame.append method is deprecated and will be removed from pandas in a future version. Use pandas.concat instead.\n",
            "  df = df.append(doc, ignore_index = True)\n"
          ]
        },
        {
          "output_type": "execute_result",
          "data": {
            "text/plain": [
              "        name    return\n",
              "7       명신산업  1.102294\n",
              "0      국보디자인  0.381533\n",
              "4       LG화학  0.232679\n",
              "1       싸이버원 -0.145379\n",
              "5      대림비앤코 -0.420065\n",
              "2       노바렉스 -0.509602\n",
              "3  하나금융20호스팩       NaN\n",
              "6         휴럼       NaN"
            ],
            "text/html": [
              "\n",
              "  <div id=\"df-3a910eb7-b3fa-4013-801b-1453f0843ba0\">\n",
              "    <div class=\"colab-df-container\">\n",
              "      <div>\n",
              "<style scoped>\n",
              "    .dataframe tbody tr th:only-of-type {\n",
              "        vertical-align: middle;\n",
              "    }\n",
              "\n",
              "    .dataframe tbody tr th {\n",
              "        vertical-align: top;\n",
              "    }\n",
              "\n",
              "    .dataframe thead th {\n",
              "        text-align: right;\n",
              "    }\n",
              "</style>\n",
              "<table border=\"1\" class=\"dataframe\">\n",
              "  <thead>\n",
              "    <tr style=\"text-align: right;\">\n",
              "      <th></th>\n",
              "      <th>name</th>\n",
              "      <th>return</th>\n",
              "    </tr>\n",
              "  </thead>\n",
              "  <tbody>\n",
              "    <tr>\n",
              "      <th>7</th>\n",
              "      <td>명신산업</td>\n",
              "      <td>1.102294</td>\n",
              "    </tr>\n",
              "    <tr>\n",
              "      <th>0</th>\n",
              "      <td>국보디자인</td>\n",
              "      <td>0.381533</td>\n",
              "    </tr>\n",
              "    <tr>\n",
              "      <th>4</th>\n",
              "      <td>LG화학</td>\n",
              "      <td>0.232679</td>\n",
              "    </tr>\n",
              "    <tr>\n",
              "      <th>1</th>\n",
              "      <td>싸이버원</td>\n",
              "      <td>-0.145379</td>\n",
              "    </tr>\n",
              "    <tr>\n",
              "      <th>5</th>\n",
              "      <td>대림비앤코</td>\n",
              "      <td>-0.420065</td>\n",
              "    </tr>\n",
              "    <tr>\n",
              "      <th>2</th>\n",
              "      <td>노바렉스</td>\n",
              "      <td>-0.509602</td>\n",
              "    </tr>\n",
              "    <tr>\n",
              "      <th>3</th>\n",
              "      <td>하나금융20호스팩</td>\n",
              "      <td>NaN</td>\n",
              "    </tr>\n",
              "    <tr>\n",
              "      <th>6</th>\n",
              "      <td>휴럼</td>\n",
              "      <td>NaN</td>\n",
              "    </tr>\n",
              "  </tbody>\n",
              "</table>\n",
              "</div>\n",
              "      <button class=\"colab-df-convert\" onclick=\"convertToInteractive('df-3a910eb7-b3fa-4013-801b-1453f0843ba0')\"\n",
              "              title=\"Convert this dataframe to an interactive table.\"\n",
              "              style=\"display:none;\">\n",
              "        \n",
              "  <svg xmlns=\"http://www.w3.org/2000/svg\" height=\"24px\"viewBox=\"0 0 24 24\"\n",
              "       width=\"24px\">\n",
              "    <path d=\"M0 0h24v24H0V0z\" fill=\"none\"/>\n",
              "    <path d=\"M18.56 5.44l.94 2.06.94-2.06 2.06-.94-2.06-.94-.94-2.06-.94 2.06-2.06.94zm-11 1L8.5 8.5l.94-2.06 2.06-.94-2.06-.94L8.5 2.5l-.94 2.06-2.06.94zm10 10l.94 2.06.94-2.06 2.06-.94-2.06-.94-.94-2.06-.94 2.06-2.06.94z\"/><path d=\"M17.41 7.96l-1.37-1.37c-.4-.4-.92-.59-1.43-.59-.52 0-1.04.2-1.43.59L10.3 9.45l-7.72 7.72c-.78.78-.78 2.05 0 2.83L4 21.41c.39.39.9.59 1.41.59.51 0 1.02-.2 1.41-.59l7.78-7.78 2.81-2.81c.8-.78.8-2.07 0-2.86zM5.41 20L4 18.59l7.72-7.72 1.47 1.35L5.41 20z\"/>\n",
              "  </svg>\n",
              "      </button>\n",
              "      \n",
              "  <style>\n",
              "    .colab-df-container {\n",
              "      display:flex;\n",
              "      flex-wrap:wrap;\n",
              "      gap: 12px;\n",
              "    }\n",
              "\n",
              "    .colab-df-convert {\n",
              "      background-color: #E8F0FE;\n",
              "      border: none;\n",
              "      border-radius: 50%;\n",
              "      cursor: pointer;\n",
              "      display: none;\n",
              "      fill: #1967D2;\n",
              "      height: 32px;\n",
              "      padding: 0 0 0 0;\n",
              "      width: 32px;\n",
              "    }\n",
              "\n",
              "    .colab-df-convert:hover {\n",
              "      background-color: #E2EBFA;\n",
              "      box-shadow: 0px 1px 2px rgba(60, 64, 67, 0.3), 0px 1px 3px 1px rgba(60, 64, 67, 0.15);\n",
              "      fill: #174EA6;\n",
              "    }\n",
              "\n",
              "    [theme=dark] .colab-df-convert {\n",
              "      background-color: #3B4455;\n",
              "      fill: #D2E3FC;\n",
              "    }\n",
              "\n",
              "    [theme=dark] .colab-df-convert:hover {\n",
              "      background-color: #434B5C;\n",
              "      box-shadow: 0px 1px 3px 1px rgba(0, 0, 0, 0.15);\n",
              "      filter: drop-shadow(0px 1px 2px rgba(0, 0, 0, 0.3));\n",
              "      fill: #FFFFFF;\n",
              "    }\n",
              "  </style>\n",
              "\n",
              "      <script>\n",
              "        const buttonEl =\n",
              "          document.querySelector('#df-3a910eb7-b3fa-4013-801b-1453f0843ba0 button.colab-df-convert');\n",
              "        buttonEl.style.display =\n",
              "          google.colab.kernel.accessAllowed ? 'block' : 'none';\n",
              "\n",
              "        async function convertToInteractive(key) {\n",
              "          const element = document.querySelector('#df-3a910eb7-b3fa-4013-801b-1453f0843ba0');\n",
              "          const dataTable =\n",
              "            await google.colab.kernel.invokeFunction('convertToInteractive',\n",
              "                                                     [key], {});\n",
              "          if (!dataTable) return;\n",
              "\n",
              "          const docLinkHtml = 'Like what you see? Visit the ' +\n",
              "            '<a target=\"_blank\" href=https://colab.research.google.com/notebooks/data_table.ipynb>data table notebook</a>'\n",
              "            + ' to learn more about interactive tables.';\n",
              "          element.innerHTML = '';\n",
              "          dataTable['output_type'] = 'display_data';\n",
              "          await google.colab.output.renderOutput(dataTable, element);\n",
              "          const docLink = document.createElement('div');\n",
              "          docLink.innerHTML = docLinkHtml;\n",
              "          element.appendChild(docLink);\n",
              "        }\n",
              "      </script>\n",
              "    </div>\n",
              "  </div>\n",
              "  "
            ]
          },
          "metadata": {},
          "execution_count": 71
        }
      ]
    }
  ]
}