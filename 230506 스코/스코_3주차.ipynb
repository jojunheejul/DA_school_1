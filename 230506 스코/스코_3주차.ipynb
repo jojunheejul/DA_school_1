{
  "nbformat": 4,
  "nbformat_minor": 0,
  "metadata": {
    "colab": {
      "provenance": []
    },
    "kernelspec": {
      "name": "python3",
      "display_name": "Python 3"
    },
    "language_info": {
      "name": "python"
    }
  },
  "cells": [
    {
      "cell_type": "code",
      "execution_count": null,
      "metadata": {
        "id": "fC_p9_j_qsXz"
      },
      "outputs": [],
      "source": [
        "!pip install dart-fss"
      ]
    },
    {
      "cell_type": "code",
      "source": [
        "import dart_fss as dart_fss\n",
        "import pandas as pd\n",
        "\n",
        "api_key = '852a7d11eaff31427834cceb019daf257a923c33'\n",
        "dart_fss.set_api_key(api_key=api_key)\n"
      ],
      "metadata": {
        "id": "j4_ELow4skN2"
      },
      "execution_count": null,
      "outputs": []
    },
    {
      "cell_type": "code",
      "source": [
        "all = dart_fss.api.filings.get_corp_code()"
      ],
      "metadata": {
        "id": "6D8htHZMtR_o"
      },
      "execution_count": null,
      "outputs": []
    },
    {
      "cell_type": "code",
      "source": [
        "df = pd.DataFrame(all)\n",
        "\n",
        "df_listed = df[df['stock_code'].notnull()]\n",
        "df_non_listed = df[df['stock_code'].isnull()]\n"
      ],
      "metadata": {
        "id": "aLedgwq6toZC"
      },
      "execution_count": null,
      "outputs": []
    },
    {
      "cell_type": "code",
      "source": [
        "def get_salary(corp_code):\n",
        "  data = dart_fss.api.info.emp_sttus(corp_code, '2021', '11011')\n",
        "\n",
        "  df = pd.DataFrame(data['list'])\n",
        "  df = df[['corp_name','sexdstn','jan_salary_am']]\n",
        "\n",
        "  df_result = pd.DataFrame()\n",
        "  doc = {\n",
        "      '기업명':df.iloc[0,0],\n",
        "      '연봉(남)':df[df['sexdstn'] == '남'].iloc[0,2],\n",
        "      '연봉(여)':df[df['sexdstn'] == '여'].iloc[0,2]\n",
        "  }\n",
        "  df_result = df_result.append(doc, ignore_index=True)\n",
        "\n",
        "  df_result['연봉(남)'] = pd.to_numeric(df_result['연봉(남)'].str.replace(',',''))\n",
        "  df_result['연봉(여)'] = pd.to_numeric(df_result['연봉(여)'].str.replace(',',''))\n",
        "\n",
        "  return df_result"
      ],
      "metadata": {
        "id": "K2ItMkSeWwIU"
      },
      "execution_count": null,
      "outputs": []
    },
    {
      "cell_type": "code",
      "source": [
        "corp_codes = list(df_listed.sample(10)['corp_code'])\n",
        "\n",
        "dfs = []\n",
        "for corp_code in corp_codes:\n",
        "  try:\n",
        "    df = get_salary(corp_code)\n",
        "    dfs.append(df)\n",
        "  except:\n",
        "    print(f'error - {corp_code}')\n",
        "\n",
        "df_result = pd.concat(dfs)\n",
        "\n",
        "df_result['차이(남-여)'] = df_result['연봉(남)'] - df_result['연봉(여)']\n",
        "df_result['평균'] = (df_result['연봉(남)']+df_result['연봉(여)'])/2\n",
        "\n",
        "df_result.sort_values(by=\"차이(남-여)\",ascending=True)"
      ],
      "metadata": {
        "colab": {
          "base_uri": "https://localhost:8080/",
          "height": 642
        },
        "id": "FiKCmX9bX-8F",
        "outputId": "e14dc3ec-6acd-4959-ee81-9fbac15ee810"
      },
      "execution_count": null,
      "outputs": [
        {
          "output_type": "stream",
          "name": "stdout",
          "text": [
            "error - 00814810\n"
          ]
        },
        {
          "output_type": "stream",
          "name": "stderr",
          "text": [
            "<ipython-input-79-5b34c460d59b>:13: FutureWarning: The frame.append method is deprecated and will be removed from pandas in a future version. Use pandas.concat instead.\n",
            "  df_result = df_result.append(doc, ignore_index=True)\n",
            "<ipython-input-79-5b34c460d59b>:13: FutureWarning: The frame.append method is deprecated and will be removed from pandas in a future version. Use pandas.concat instead.\n",
            "  df_result = df_result.append(doc, ignore_index=True)\n",
            "<ipython-input-79-5b34c460d59b>:13: FutureWarning: The frame.append method is deprecated and will be removed from pandas in a future version. Use pandas.concat instead.\n",
            "  df_result = df_result.append(doc, ignore_index=True)\n",
            "<ipython-input-79-5b34c460d59b>:13: FutureWarning: The frame.append method is deprecated and will be removed from pandas in a future version. Use pandas.concat instead.\n",
            "  df_result = df_result.append(doc, ignore_index=True)\n",
            "<ipython-input-79-5b34c460d59b>:13: FutureWarning: The frame.append method is deprecated and will be removed from pandas in a future version. Use pandas.concat instead.\n",
            "  df_result = df_result.append(doc, ignore_index=True)\n",
            "<ipython-input-79-5b34c460d59b>:13: FutureWarning: The frame.append method is deprecated and will be removed from pandas in a future version. Use pandas.concat instead.\n",
            "  df_result = df_result.append(doc, ignore_index=True)\n",
            "<ipython-input-79-5b34c460d59b>:13: FutureWarning: The frame.append method is deprecated and will be removed from pandas in a future version. Use pandas.concat instead.\n",
            "  df_result = df_result.append(doc, ignore_index=True)\n"
          ]
        },
        {
          "output_type": "stream",
          "name": "stdout",
          "text": [
            "error - 00636045\n"
          ]
        },
        {
          "output_type": "stream",
          "name": "stderr",
          "text": [
            "<ipython-input-79-5b34c460d59b>:13: FutureWarning: The frame.append method is deprecated and will be removed from pandas in a future version. Use pandas.concat instead.\n",
            "  df_result = df_result.append(doc, ignore_index=True)\n"
          ]
        },
        {
          "output_type": "execute_result",
          "data": {
            "text/plain": [
              "         기업명     연봉(남)     연봉(여)   차이(남-여)          평균\n",
              "0      핸디소프트  58903000  55935000   2968000  57419000.0\n",
              "0      바이옵트로  44000000  38000000   6000000  41000000.0\n",
              "0      효성오앤비  44716000  32137000  12579000  38426500.0\n",
              "0  휴니드테크놀러지스  56411000  41209000  15202000  48810000.0\n",
              "0        네오팜  63000000  47000000  16000000  55000000.0\n",
              "0       동일금속  60374000  37431000  22943000  48902500.0\n",
              "0      에치에프알  68000000  44000000  24000000  56000000.0\n",
              "0        시스웍  78000000  25000000  53000000  51500000.0"
            ],
            "text/html": [
              "\n",
              "  <div id=\"df-9890eaa2-6fb7-4e7b-805b-56eeb2a68e28\">\n",
              "    <div class=\"colab-df-container\">\n",
              "      <div>\n",
              "<style scoped>\n",
              "    .dataframe tbody tr th:only-of-type {\n",
              "        vertical-align: middle;\n",
              "    }\n",
              "\n",
              "    .dataframe tbody tr th {\n",
              "        vertical-align: top;\n",
              "    }\n",
              "\n",
              "    .dataframe thead th {\n",
              "        text-align: right;\n",
              "    }\n",
              "</style>\n",
              "<table border=\"1\" class=\"dataframe\">\n",
              "  <thead>\n",
              "    <tr style=\"text-align: right;\">\n",
              "      <th></th>\n",
              "      <th>기업명</th>\n",
              "      <th>연봉(남)</th>\n",
              "      <th>연봉(여)</th>\n",
              "      <th>차이(남-여)</th>\n",
              "      <th>평균</th>\n",
              "    </tr>\n",
              "  </thead>\n",
              "  <tbody>\n",
              "    <tr>\n",
              "      <th>0</th>\n",
              "      <td>핸디소프트</td>\n",
              "      <td>58903000</td>\n",
              "      <td>55935000</td>\n",
              "      <td>2968000</td>\n",
              "      <td>57419000.0</td>\n",
              "    </tr>\n",
              "    <tr>\n",
              "      <th>0</th>\n",
              "      <td>바이옵트로</td>\n",
              "      <td>44000000</td>\n",
              "      <td>38000000</td>\n",
              "      <td>6000000</td>\n",
              "      <td>41000000.0</td>\n",
              "    </tr>\n",
              "    <tr>\n",
              "      <th>0</th>\n",
              "      <td>효성오앤비</td>\n",
              "      <td>44716000</td>\n",
              "      <td>32137000</td>\n",
              "      <td>12579000</td>\n",
              "      <td>38426500.0</td>\n",
              "    </tr>\n",
              "    <tr>\n",
              "      <th>0</th>\n",
              "      <td>휴니드테크놀러지스</td>\n",
              "      <td>56411000</td>\n",
              "      <td>41209000</td>\n",
              "      <td>15202000</td>\n",
              "      <td>48810000.0</td>\n",
              "    </tr>\n",
              "    <tr>\n",
              "      <th>0</th>\n",
              "      <td>네오팜</td>\n",
              "      <td>63000000</td>\n",
              "      <td>47000000</td>\n",
              "      <td>16000000</td>\n",
              "      <td>55000000.0</td>\n",
              "    </tr>\n",
              "    <tr>\n",
              "      <th>0</th>\n",
              "      <td>동일금속</td>\n",
              "      <td>60374000</td>\n",
              "      <td>37431000</td>\n",
              "      <td>22943000</td>\n",
              "      <td>48902500.0</td>\n",
              "    </tr>\n",
              "    <tr>\n",
              "      <th>0</th>\n",
              "      <td>에치에프알</td>\n",
              "      <td>68000000</td>\n",
              "      <td>44000000</td>\n",
              "      <td>24000000</td>\n",
              "      <td>56000000.0</td>\n",
              "    </tr>\n",
              "    <tr>\n",
              "      <th>0</th>\n",
              "      <td>시스웍</td>\n",
              "      <td>78000000</td>\n",
              "      <td>25000000</td>\n",
              "      <td>53000000</td>\n",
              "      <td>51500000.0</td>\n",
              "    </tr>\n",
              "  </tbody>\n",
              "</table>\n",
              "</div>\n",
              "      <button class=\"colab-df-convert\" onclick=\"convertToInteractive('df-9890eaa2-6fb7-4e7b-805b-56eeb2a68e28')\"\n",
              "              title=\"Convert this dataframe to an interactive table.\"\n",
              "              style=\"display:none;\">\n",
              "        \n",
              "  <svg xmlns=\"http://www.w3.org/2000/svg\" height=\"24px\"viewBox=\"0 0 24 24\"\n",
              "       width=\"24px\">\n",
              "    <path d=\"M0 0h24v24H0V0z\" fill=\"none\"/>\n",
              "    <path d=\"M18.56 5.44l.94 2.06.94-2.06 2.06-.94-2.06-.94-.94-2.06-.94 2.06-2.06.94zm-11 1L8.5 8.5l.94-2.06 2.06-.94-2.06-.94L8.5 2.5l-.94 2.06-2.06.94zm10 10l.94 2.06.94-2.06 2.06-.94-2.06-.94-.94-2.06-.94 2.06-2.06.94z\"/><path d=\"M17.41 7.96l-1.37-1.37c-.4-.4-.92-.59-1.43-.59-.52 0-1.04.2-1.43.59L10.3 9.45l-7.72 7.72c-.78.78-.78 2.05 0 2.83L4 21.41c.39.39.9.59 1.41.59.51 0 1.02-.2 1.41-.59l7.78-7.78 2.81-2.81c.8-.78.8-2.07 0-2.86zM5.41 20L4 18.59l7.72-7.72 1.47 1.35L5.41 20z\"/>\n",
              "  </svg>\n",
              "      </button>\n",
              "      \n",
              "  <style>\n",
              "    .colab-df-container {\n",
              "      display:flex;\n",
              "      flex-wrap:wrap;\n",
              "      gap: 12px;\n",
              "    }\n",
              "\n",
              "    .colab-df-convert {\n",
              "      background-color: #E8F0FE;\n",
              "      border: none;\n",
              "      border-radius: 50%;\n",
              "      cursor: pointer;\n",
              "      display: none;\n",
              "      fill: #1967D2;\n",
              "      height: 32px;\n",
              "      padding: 0 0 0 0;\n",
              "      width: 32px;\n",
              "    }\n",
              "\n",
              "    .colab-df-convert:hover {\n",
              "      background-color: #E2EBFA;\n",
              "      box-shadow: 0px 1px 2px rgba(60, 64, 67, 0.3), 0px 1px 3px 1px rgba(60, 64, 67, 0.15);\n",
              "      fill: #174EA6;\n",
              "    }\n",
              "\n",
              "    [theme=dark] .colab-df-convert {\n",
              "      background-color: #3B4455;\n",
              "      fill: #D2E3FC;\n",
              "    }\n",
              "\n",
              "    [theme=dark] .colab-df-convert:hover {\n",
              "      background-color: #434B5C;\n",
              "      box-shadow: 0px 1px 3px 1px rgba(0, 0, 0, 0.15);\n",
              "      filter: drop-shadow(0px 1px 2px rgba(0, 0, 0, 0.3));\n",
              "      fill: #FFFFFF;\n",
              "    }\n",
              "  </style>\n",
              "\n",
              "      <script>\n",
              "        const buttonEl =\n",
              "          document.querySelector('#df-9890eaa2-6fb7-4e7b-805b-56eeb2a68e28 button.colab-df-convert');\n",
              "        buttonEl.style.display =\n",
              "          google.colab.kernel.accessAllowed ? 'block' : 'none';\n",
              "\n",
              "        async function convertToInteractive(key) {\n",
              "          const element = document.querySelector('#df-9890eaa2-6fb7-4e7b-805b-56eeb2a68e28');\n",
              "          const dataTable =\n",
              "            await google.colab.kernel.invokeFunction('convertToInteractive',\n",
              "                                                     [key], {});\n",
              "          if (!dataTable) return;\n",
              "\n",
              "          const docLinkHtml = 'Like what you see? Visit the ' +\n",
              "            '<a target=\"_blank\" href=https://colab.research.google.com/notebooks/data_table.ipynb>data table notebook</a>'\n",
              "            + ' to learn more about interactive tables.';\n",
              "          element.innerHTML = '';\n",
              "          dataTable['output_type'] = 'display_data';\n",
              "          await google.colab.output.renderOutput(dataTable, element);\n",
              "          const docLink = document.createElement('div');\n",
              "          docLink.innerHTML = docLinkHtml;\n",
              "          element.appendChild(docLink);\n",
              "        }\n",
              "      </script>\n",
              "    </div>\n",
              "  </div>\n",
              "  "
            ]
          },
          "metadata": {},
          "execution_count": 80
        }
      ]
    }
  ]
}