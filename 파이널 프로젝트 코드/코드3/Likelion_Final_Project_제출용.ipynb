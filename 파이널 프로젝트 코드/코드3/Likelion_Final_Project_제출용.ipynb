{
  "nbformat": 4,
  "nbformat_minor": 0,
  "metadata": {
    "colab": {
      "provenance": []
    },
    "kernelspec": {
      "name": "python3",
      "display_name": "Python 3"
    },
    "language_info": {
      "name": "python"
    }
  },
  "cells": [
    {
      "cell_type": "markdown",
      "source": [
        "# 커피템플 오프라인 원두 판매량"
      ],
      "metadata": {
        "id": "hJaUT8Uo2AnT"
      }
    },
    {
      "cell_type": "code",
      "source": [
        "df2.head()"
      ],
      "metadata": {
        "id": "M7TVDAOTz6B7",
        "colab": {
          "base_uri": "https://localhost:8080/",
          "height": 384
        },
        "outputId": "9b32a92a-68fe-4380-f7cf-9da7a53653c5"
      },
      "execution_count": null,
      "outputs": [
        {
          "output_type": "execute_result",
          "data": {
            "text/plain": [
              "          결제일      결제시간 주문 채널          결제내역     합계 상품별 할인 결제 할인  카드 결제 현금 결제  \\\n",
              "0  2022-02-28  18:24:04    셀러  드립백 클래식 외 1건  18100      -     -  18100     -   \n",
              "1         NaN       NaN   NaN           NaN    NaN    NaN   NaN    NaN   NaN   \n",
              "2  2022-02-28  18:23:51    셀러  드립백 클래식 외 1건  18100      -     -  18100     -   \n",
              "3         NaN       NaN   NaN           NaN    NaN    NaN   NaN    NaN   NaN   \n",
              "4  2022-02-28  18:12:49    셀러   캡슐 클래식 외 2건  30100      -     -  30100     -   \n",
              "\n",
              "  간편 결제  ...   환불 환불 일시 배달팁(매출 포함x)    카테고리      상품명 옵션 수량 상품별 단가 상품별 합계 결제메모  \n",
              "0     -  ...    -     -           -   블렌딩원두      종이백  -  1    100    100    -  \n",
              "1   NaN  ...  NaN   NaN         NaN  드립백/캡슐  드립백 클래식  -  1  18000  18000  NaN  \n",
              "2     -  ...    -     -           -  드립백/캡슐  드립백 클래식  -  1  18000  18000    -  \n",
              "3   NaN  ...  NaN   NaN         NaN   블렌딩원두      종이백  -  1    100    100  NaN  \n",
              "4     -  ...    -     -           -  드립백/캡슐   캡슐 클래식  -  1  15000  15000    -  \n",
              "\n",
              "[5 rows x 25 columns]"
            ],
            "text/html": [
              "\n",
              "\n",
              "  <div id=\"df-a78fad77-49d3-43ef-835f-570658f167b6\">\n",
              "    <div class=\"colab-df-container\">\n",
              "      <div>\n",
              "<style scoped>\n",
              "    .dataframe tbody tr th:only-of-type {\n",
              "        vertical-align: middle;\n",
              "    }\n",
              "\n",
              "    .dataframe tbody tr th {\n",
              "        vertical-align: top;\n",
              "    }\n",
              "\n",
              "    .dataframe thead th {\n",
              "        text-align: right;\n",
              "    }\n",
              "</style>\n",
              "<table border=\"1\" class=\"dataframe\">\n",
              "  <thead>\n",
              "    <tr style=\"text-align: right;\">\n",
              "      <th></th>\n",
              "      <th>결제일</th>\n",
              "      <th>결제시간</th>\n",
              "      <th>주문 채널</th>\n",
              "      <th>결제내역</th>\n",
              "      <th>합계</th>\n",
              "      <th>상품별 할인</th>\n",
              "      <th>결제 할인</th>\n",
              "      <th>카드 결제</th>\n",
              "      <th>현금 결제</th>\n",
              "      <th>간편 결제</th>\n",
              "      <th>...</th>\n",
              "      <th>환불</th>\n",
              "      <th>환불 일시</th>\n",
              "      <th>배달팁(매출 포함x)</th>\n",
              "      <th>카테고리</th>\n",
              "      <th>상품명</th>\n",
              "      <th>옵션</th>\n",
              "      <th>수량</th>\n",
              "      <th>상품별 단가</th>\n",
              "      <th>상품별 합계</th>\n",
              "      <th>결제메모</th>\n",
              "    </tr>\n",
              "  </thead>\n",
              "  <tbody>\n",
              "    <tr>\n",
              "      <th>0</th>\n",
              "      <td>2022-02-28</td>\n",
              "      <td>18:24:04</td>\n",
              "      <td>셀러</td>\n",
              "      <td>드립백 클래식 외 1건</td>\n",
              "      <td>18100</td>\n",
              "      <td>-</td>\n",
              "      <td>-</td>\n",
              "      <td>18100</td>\n",
              "      <td>-</td>\n",
              "      <td>-</td>\n",
              "      <td>...</td>\n",
              "      <td>-</td>\n",
              "      <td>-</td>\n",
              "      <td>-</td>\n",
              "      <td>블렌딩원두</td>\n",
              "      <td>종이백</td>\n",
              "      <td>-</td>\n",
              "      <td>1</td>\n",
              "      <td>100</td>\n",
              "      <td>100</td>\n",
              "      <td>-</td>\n",
              "    </tr>\n",
              "    <tr>\n",
              "      <th>1</th>\n",
              "      <td>NaN</td>\n",
              "      <td>NaN</td>\n",
              "      <td>NaN</td>\n",
              "      <td>NaN</td>\n",
              "      <td>NaN</td>\n",
              "      <td>NaN</td>\n",
              "      <td>NaN</td>\n",
              "      <td>NaN</td>\n",
              "      <td>NaN</td>\n",
              "      <td>NaN</td>\n",
              "      <td>...</td>\n",
              "      <td>NaN</td>\n",
              "      <td>NaN</td>\n",
              "      <td>NaN</td>\n",
              "      <td>드립백/캡슐</td>\n",
              "      <td>드립백 클래식</td>\n",
              "      <td>-</td>\n",
              "      <td>1</td>\n",
              "      <td>18000</td>\n",
              "      <td>18000</td>\n",
              "      <td>NaN</td>\n",
              "    </tr>\n",
              "    <tr>\n",
              "      <th>2</th>\n",
              "      <td>2022-02-28</td>\n",
              "      <td>18:23:51</td>\n",
              "      <td>셀러</td>\n",
              "      <td>드립백 클래식 외 1건</td>\n",
              "      <td>18100</td>\n",
              "      <td>-</td>\n",
              "      <td>-</td>\n",
              "      <td>18100</td>\n",
              "      <td>-</td>\n",
              "      <td>-</td>\n",
              "      <td>...</td>\n",
              "      <td>-</td>\n",
              "      <td>-</td>\n",
              "      <td>-</td>\n",
              "      <td>드립백/캡슐</td>\n",
              "      <td>드립백 클래식</td>\n",
              "      <td>-</td>\n",
              "      <td>1</td>\n",
              "      <td>18000</td>\n",
              "      <td>18000</td>\n",
              "      <td>-</td>\n",
              "    </tr>\n",
              "    <tr>\n",
              "      <th>3</th>\n",
              "      <td>NaN</td>\n",
              "      <td>NaN</td>\n",
              "      <td>NaN</td>\n",
              "      <td>NaN</td>\n",
              "      <td>NaN</td>\n",
              "      <td>NaN</td>\n",
              "      <td>NaN</td>\n",
              "      <td>NaN</td>\n",
              "      <td>NaN</td>\n",
              "      <td>NaN</td>\n",
              "      <td>...</td>\n",
              "      <td>NaN</td>\n",
              "      <td>NaN</td>\n",
              "      <td>NaN</td>\n",
              "      <td>블렌딩원두</td>\n",
              "      <td>종이백</td>\n",
              "      <td>-</td>\n",
              "      <td>1</td>\n",
              "      <td>100</td>\n",
              "      <td>100</td>\n",
              "      <td>NaN</td>\n",
              "    </tr>\n",
              "    <tr>\n",
              "      <th>4</th>\n",
              "      <td>2022-02-28</td>\n",
              "      <td>18:12:49</td>\n",
              "      <td>셀러</td>\n",
              "      <td>캡슐 클래식 외 2건</td>\n",
              "      <td>30100</td>\n",
              "      <td>-</td>\n",
              "      <td>-</td>\n",
              "      <td>30100</td>\n",
              "      <td>-</td>\n",
              "      <td>-</td>\n",
              "      <td>...</td>\n",
              "      <td>-</td>\n",
              "      <td>-</td>\n",
              "      <td>-</td>\n",
              "      <td>드립백/캡슐</td>\n",
              "      <td>캡슐 클래식</td>\n",
              "      <td>-</td>\n",
              "      <td>1</td>\n",
              "      <td>15000</td>\n",
              "      <td>15000</td>\n",
              "      <td>-</td>\n",
              "    </tr>\n",
              "  </tbody>\n",
              "</table>\n",
              "<p>5 rows × 25 columns</p>\n",
              "</div>\n",
              "      <button class=\"colab-df-convert\" onclick=\"convertToInteractive('df-a78fad77-49d3-43ef-835f-570658f167b6')\"\n",
              "              title=\"Convert this dataframe to an interactive table.\"\n",
              "              style=\"display:none;\">\n",
              "\n",
              "  <svg xmlns=\"http://www.w3.org/2000/svg\" height=\"24px\"viewBox=\"0 0 24 24\"\n",
              "       width=\"24px\">\n",
              "    <path d=\"M0 0h24v24H0V0z\" fill=\"none\"/>\n",
              "    <path d=\"M18.56 5.44l.94 2.06.94-2.06 2.06-.94-2.06-.94-.94-2.06-.94 2.06-2.06.94zm-11 1L8.5 8.5l.94-2.06 2.06-.94-2.06-.94L8.5 2.5l-.94 2.06-2.06.94zm10 10l.94 2.06.94-2.06 2.06-.94-2.06-.94-.94-2.06-.94 2.06-2.06.94z\"/><path d=\"M17.41 7.96l-1.37-1.37c-.4-.4-.92-.59-1.43-.59-.52 0-1.04.2-1.43.59L10.3 9.45l-7.72 7.72c-.78.78-.78 2.05 0 2.83L4 21.41c.39.39.9.59 1.41.59.51 0 1.02-.2 1.41-.59l7.78-7.78 2.81-2.81c.8-.78.8-2.07 0-2.86zM5.41 20L4 18.59l7.72-7.72 1.47 1.35L5.41 20z\"/>\n",
              "  </svg>\n",
              "      </button>\n",
              "\n",
              "\n",
              "\n",
              "    <div id=\"df-efc1c49c-7ad8-4489-9f7e-91d07c3946d0\">\n",
              "      <button class=\"colab-df-quickchart\" onclick=\"quickchart('df-efc1c49c-7ad8-4489-9f7e-91d07c3946d0')\"\n",
              "              title=\"Suggest charts.\"\n",
              "              style=\"display:none;\">\n",
              "\n",
              "<svg xmlns=\"http://www.w3.org/2000/svg\" height=\"24px\"viewBox=\"0 0 24 24\"\n",
              "     width=\"24px\">\n",
              "    <g>\n",
              "        <path d=\"M19 3H5c-1.1 0-2 .9-2 2v14c0 1.1.9 2 2 2h14c1.1 0 2-.9 2-2V5c0-1.1-.9-2-2-2zM9 17H7v-7h2v7zm4 0h-2V7h2v10zm4 0h-2v-4h2v4z\"/>\n",
              "    </g>\n",
              "</svg>\n",
              "      </button>\n",
              "    </div>\n",
              "\n",
              "<style>\n",
              "  .colab-df-quickchart {\n",
              "    background-color: #E8F0FE;\n",
              "    border: none;\n",
              "    border-radius: 50%;\n",
              "    cursor: pointer;\n",
              "    display: none;\n",
              "    fill: #1967D2;\n",
              "    height: 32px;\n",
              "    padding: 0 0 0 0;\n",
              "    width: 32px;\n",
              "  }\n",
              "\n",
              "  .colab-df-quickchart:hover {\n",
              "    background-color: #E2EBFA;\n",
              "    box-shadow: 0px 1px 2px rgba(60, 64, 67, 0.3), 0px 1px 3px 1px rgba(60, 64, 67, 0.15);\n",
              "    fill: #174EA6;\n",
              "  }\n",
              "\n",
              "  [theme=dark] .colab-df-quickchart {\n",
              "    background-color: #3B4455;\n",
              "    fill: #D2E3FC;\n",
              "  }\n",
              "\n",
              "  [theme=dark] .colab-df-quickchart:hover {\n",
              "    background-color: #434B5C;\n",
              "    box-shadow: 0px 1px 3px 1px rgba(0, 0, 0, 0.15);\n",
              "    filter: drop-shadow(0px 1px 2px rgba(0, 0, 0, 0.3));\n",
              "    fill: #FFFFFF;\n",
              "  }\n",
              "</style>\n",
              "\n",
              "    <script>\n",
              "      async function quickchart(key) {\n",
              "        const containerElement = document.querySelector('#' + key);\n",
              "        const charts = await google.colab.kernel.invokeFunction(\n",
              "            'suggestCharts', [key], {});\n",
              "      }\n",
              "    </script>\n",
              "\n",
              "      <script>\n",
              "\n",
              "function displayQuickchartButton(domScope) {\n",
              "  let quickchartButtonEl =\n",
              "    domScope.querySelector('#df-efc1c49c-7ad8-4489-9f7e-91d07c3946d0 button.colab-df-quickchart');\n",
              "  quickchartButtonEl.style.display =\n",
              "    google.colab.kernel.accessAllowed ? 'block' : 'none';\n",
              "}\n",
              "\n",
              "        displayQuickchartButton(document);\n",
              "      </script>\n",
              "      <style>\n",
              "    .colab-df-container {\n",
              "      display:flex;\n",
              "      flex-wrap:wrap;\n",
              "      gap: 12px;\n",
              "    }\n",
              "\n",
              "    .colab-df-convert {\n",
              "      background-color: #E8F0FE;\n",
              "      border: none;\n",
              "      border-radius: 50%;\n",
              "      cursor: pointer;\n",
              "      display: none;\n",
              "      fill: #1967D2;\n",
              "      height: 32px;\n",
              "      padding: 0 0 0 0;\n",
              "      width: 32px;\n",
              "    }\n",
              "\n",
              "    .colab-df-convert:hover {\n",
              "      background-color: #E2EBFA;\n",
              "      box-shadow: 0px 1px 2px rgba(60, 64, 67, 0.3), 0px 1px 3px 1px rgba(60, 64, 67, 0.15);\n",
              "      fill: #174EA6;\n",
              "    }\n",
              "\n",
              "    [theme=dark] .colab-df-convert {\n",
              "      background-color: #3B4455;\n",
              "      fill: #D2E3FC;\n",
              "    }\n",
              "\n",
              "    [theme=dark] .colab-df-convert:hover {\n",
              "      background-color: #434B5C;\n",
              "      box-shadow: 0px 1px 3px 1px rgba(0, 0, 0, 0.15);\n",
              "      filter: drop-shadow(0px 1px 2px rgba(0, 0, 0, 0.3));\n",
              "      fill: #FFFFFF;\n",
              "    }\n",
              "  </style>\n",
              "\n",
              "      <script>\n",
              "        const buttonEl =\n",
              "          document.querySelector('#df-a78fad77-49d3-43ef-835f-570658f167b6 button.colab-df-convert');\n",
              "        buttonEl.style.display =\n",
              "          google.colab.kernel.accessAllowed ? 'block' : 'none';\n",
              "\n",
              "        async function convertToInteractive(key) {\n",
              "          const element = document.querySelector('#df-a78fad77-49d3-43ef-835f-570658f167b6');\n",
              "          const dataTable =\n",
              "            await google.colab.kernel.invokeFunction('convertToInteractive',\n",
              "                                                     [key], {});\n",
              "          if (!dataTable) return;\n",
              "\n",
              "          const docLinkHtml = 'Like what you see? Visit the ' +\n",
              "            '<a target=\"_blank\" href=https://colab.research.google.com/notebooks/data_table.ipynb>data table notebook</a>'\n",
              "            + ' to learn more about interactive tables.';\n",
              "          element.innerHTML = '';\n",
              "          dataTable['output_type'] = 'display_data';\n",
              "          await google.colab.output.renderOutput(dataTable, element);\n",
              "          const docLink = document.createElement('div');\n",
              "          docLink.innerHTML = docLinkHtml;\n",
              "          element.appendChild(docLink);\n",
              "        }\n",
              "      </script>\n",
              "    </div>\n",
              "  </div>\n"
            ]
          },
          "metadata": {},
          "execution_count": 6
        }
      ]
    },
    {
      "cell_type": "code",
      "source": [
        "df2_c = df2['카테고리'].count()"
      ],
      "metadata": {
        "id": "PuN-kHdGz6AP"
      },
      "execution_count": null,
      "outputs": []
    },
    {
      "cell_type": "code",
      "source": [
        "se_li = ['드립백/캡슐', '블렌딩원두', '사업자', '싱글원두']"
      ],
      "metadata": {
        "id": "TDp0gnua3OS0"
      },
      "execution_count": null,
      "outputs": []
    },
    {
      "cell_type": "code",
      "source": [
        "df_cb = df2[df2['카테고리'].str.contains('|'.join(se_li))]"
      ],
      "metadata": {
        "id": "KizhCrL0z58e"
      },
      "execution_count": null,
      "outputs": []
    },
    {
      "cell_type": "code",
      "source": [
        "df2[df2['카테고리'].str.contains('|'.join(se_li))]['카테고리'].count()"
      ],
      "metadata": {
        "colab": {
          "base_uri": "https://localhost:8080/"
        },
        "id": "YJxU6L-n5Mub",
        "outputId": "13553809-cd13-47f4-9bb7-90fa23066774"
      },
      "execution_count": null,
      "outputs": [
        {
          "output_type": "execute_result",
          "data": {
            "text/plain": [
              "848"
            ]
          },
          "metadata": {},
          "execution_count": 44
        }
      ]
    },
    {
      "cell_type": "code",
      "source": [
        "df_cb_c = df_cb[df_cb['상품명'] != '종이백']['카테고리'].count()"
      ],
      "metadata": {
        "id": "lF3hwCBN2WGv"
      },
      "execution_count": null,
      "outputs": []
    },
    {
      "cell_type": "code",
      "source": [
        "df_cb_c"
      ],
      "metadata": {
        "colab": {
          "base_uri": "https://localhost:8080/"
        },
        "id": "4m5-NdngRdpx",
        "outputId": "45dbae0e-9940-49c2-fbf6-ae4196ba88e9"
      },
      "execution_count": null,
      "outputs": [
        {
          "output_type": "execute_result",
          "data": {
            "text/plain": [
              "667"
            ]
          },
          "metadata": {},
          "execution_count": 45
        }
      ]
    },
    {
      "cell_type": "code",
      "source": [
        "cb_r = round((df_cb_c/df2_c)*100,2)\n",
        "cb_r"
      ],
      "metadata": {
        "colab": {
          "base_uri": "https://localhost:8080/"
        },
        "id": "9dKmkDL12WEw",
        "outputId": "1d7ef765-12e1-440d-8bda-a998bb61b884"
      },
      "execution_count": null,
      "outputs": [
        {
          "output_type": "execute_result",
          "data": {
            "text/plain": [
              "10.4"
            ]
          },
          "metadata": {},
          "execution_count": 84
        }
      ]
    },
    {
      "cell_type": "code",
      "source": [
        "df_list = [df2, df3, df4, df5, df6, df7, df8, df9, df10, df11, df12, df13, df14, df15, df16, df17]"
      ],
      "metadata": {
        "id": "bT9qJtqg2WC6"
      },
      "execution_count": null,
      "outputs": []
    },
    {
      "cell_type": "code",
      "source": [
        "cb_rate = []\n",
        "for i in df_list:\n",
        "    k = i[i['카테고리'].str.contains('|'.join(se_li))]\n",
        "    cb_rate.append(round((k[k['상품명'] != '종이백']['카테고리'].count() / i['카테고리'].count()*100), 2))"
      ],
      "metadata": {
        "id": "kHnX_B0y2WA7"
      },
      "execution_count": null,
      "outputs": []
    },
    {
      "cell_type": "code",
      "source": [
        "cb_rate"
      ],
      "metadata": {
        "colab": {
          "base_uri": "https://localhost:8080/"
        },
        "id": "o09H8LJA5jQU",
        "outputId": "b0dd86a1-f63c-4874-c391-88dcb14686ca"
      },
      "execution_count": null,
      "outputs": [
        {
          "output_type": "execute_result",
          "data": {
            "text/plain": [
              "[10.48,\n",
              " 9.03,\n",
              " 8.46,\n",
              " 9.02,\n",
              " 8.79,\n",
              " 10.84,\n",
              " 11.76,\n",
              " 11.36,\n",
              " 9.82,\n",
              " 11.53,\n",
              " 12.05,\n",
              " 10.91,\n",
              " 10.24,\n",
              " 9.74,\n",
              " 10.36,\n",
              " 9.93]"
            ]
          },
          "metadata": {},
          "execution_count": 50
        }
      ]
    },
    {
      "cell_type": "code",
      "source": [
        "df2_drop = df2[df2['합계'].notnull()]"
      ],
      "metadata": {
        "id": "KQWGVoPD2V9U"
      },
      "execution_count": null,
      "outputs": []
    },
    {
      "cell_type": "code",
      "source": [
        "df2_drop = df2_drop[df2_drop['합계'] != '-']"
      ],
      "metadata": {
        "id": "YzJn9KOq2V7J"
      },
      "execution_count": null,
      "outputs": []
    },
    {
      "cell_type": "code",
      "source": [
        "df2_drop['합계'].sum()"
      ],
      "metadata": {
        "colab": {
          "base_uri": "https://localhost:8080/"
        },
        "id": "BIvnCV0d6i5w",
        "outputId": "1c9eeff3-890f-45fb-964e-73e21111e8b6"
      },
      "execution_count": null,
      "outputs": [
        {
          "output_type": "execute_result",
          "data": {
            "text/plain": [
              "48337300"
            ]
          },
          "metadata": {},
          "execution_count": 53
        }
      ]
    },
    {
      "cell_type": "code",
      "source": [
        "df2[df2['상품별 합계'] != '-']['상품별 합계'].sum()"
      ],
      "metadata": {
        "colab": {
          "base_uri": "https://localhost:8080/"
        },
        "id": "nUCPsYcm9glQ",
        "outputId": "2538e146-6863-4bc2-c166-fe0abcec0fb3"
      },
      "execution_count": null,
      "outputs": [
        {
          "output_type": "execute_result",
          "data": {
            "text/plain": [
              "48341300"
            ]
          },
          "metadata": {},
          "execution_count": 63
        }
      ]
    },
    {
      "cell_type": "code",
      "source": [
        "se_li = ['드립백/캡슐', '블렌딩원두', '사업자', '싱글원두']"
      ],
      "metadata": {
        "id": "yw9qhLHM6i3-"
      },
      "execution_count": null,
      "outputs": []
    },
    {
      "cell_type": "code",
      "source": [
        "df_cb = df2[df2['카테고리'].str.contains('|'.join(se_li))]"
      ],
      "metadata": {
        "id": "fWwZmW-O6i2T"
      },
      "execution_count": null,
      "outputs": []
    },
    {
      "cell_type": "code",
      "source": [
        "df_cb = df_cb[df_cb['상품별 합계'] != '-']"
      ],
      "metadata": {
        "id": "kbUnnKqu8ekG"
      },
      "execution_count": null,
      "outputs": []
    },
    {
      "cell_type": "code",
      "source": [
        "df_cb['상품별 합계'].sum()"
      ],
      "metadata": {
        "colab": {
          "base_uri": "https://localhost:8080/"
        },
        "id": "KU68HAe16i0c",
        "outputId": "56507d5f-0bde-43a8-b2c1-8d3550f7a1ae"
      },
      "execution_count": null,
      "outputs": [
        {
          "output_type": "execute_result",
          "data": {
            "text/plain": [
              "14074300"
            ]
          },
          "metadata": {},
          "execution_count": 61
        }
      ]
    },
    {
      "cell_type": "code",
      "source": [
        "df_list = [df2, df3, df4, df5, df6, df7, df8, df9, df10, df11, df12, df13, df14, df15, df16, df17]"
      ],
      "metadata": {
        "id": "dgDG5VlR8rL7"
      },
      "execution_count": null,
      "outputs": []
    },
    {
      "cell_type": "code",
      "source": [
        "sum_rate = []\n",
        "for i in df_list:\n",
        "    l = i[i['카테고리'].str.contains('|'.join(se_li))]\n",
        "    k = l[l['상품명'] != '종이백']\n",
        "    sum_rate.append(round((k[k['상품별 합계'] != '-']['상품별 합계'].sum() / i[i['상품별 합계'] != '-']['상품별 합계'].sum())*100, 2))"
      ],
      "metadata": {
        "id": "uCQLeY8-6iyg"
      },
      "execution_count": null,
      "outputs": []
    },
    {
      "cell_type": "code",
      "source": [
        "sum_rate"
      ],
      "metadata": {
        "colab": {
          "base_uri": "https://localhost:8080/"
        },
        "id": "85bhn-bZ6iu3",
        "outputId": "98feec5a-392d-4853-9d5b-a22b6cbdb39f"
      },
      "execution_count": null,
      "outputs": [
        {
          "output_type": "execute_result",
          "data": {
            "text/plain": [
              "[29.07,\n",
              " 21.71,\n",
              " 20.12,\n",
              " 22.52,\n",
              " 21.43,\n",
              " 24.79,\n",
              " 22.92,\n",
              " 23.53,\n",
              " 21.01,\n",
              " 22.32,\n",
              " 24.51,\n",
              " 25.22,\n",
              " 23.95,\n",
              " 21.79,\n",
              " 22.92,\n",
              " 24.65]"
            ]
          },
          "metadata": {},
          "execution_count": 55
        }
      ]
    },
    {
      "cell_type": "code",
      "source": [
        "dfcb = {'x' : ['2022-02','2022-03','2022-04','2022-05','2022-06',\n",
        "                '2022-07','2022-08','2022-09','2022-10','2022-11','2022-12',\n",
        "                '2023-01','2023-02','2023-03','2023-04','2023-05'],\n",
        "        'y' : cb_rate,\n",
        "        'z' : sum_rate}"
      ],
      "metadata": {
        "id": "F6fJ-hjU6is9"
      },
      "execution_count": null,
      "outputs": []
    },
    {
      "cell_type": "code",
      "source": [
        "# 원두 판매 개수 비율\n",
        "sns.lineplot(x='x', y='y', data=dfcb, color='#8BBAF0', label='원두 판매 개수 비율')\n",
        "\n",
        "# 원두 판매 금액 비율\n",
        "sns.barplot(x='x', y='z', data=dfcb, color='#FC7F77', label='원두 판매 금액 비율')\n",
        "\n",
        "plt.xlabel('날짜')\n",
        "plt.ylabel('비율 (단위 : %)')\n",
        "\n",
        "plt.legend()\n",
        "\n",
        "plt.xticks(rotation=45)\n",
        "\n",
        "plt.title('오프라인 월별 원두 판매 비율')\n",
        "\n",
        "plt.show()"
      ],
      "metadata": {
        "colab": {
          "base_uri": "https://localhost:8080/",
          "height": 504
        },
        "id": "7cn3EOkA6irZ",
        "outputId": "9b498dce-423c-4eed-ad0d-4e3c40cf39f9"
      },
      "execution_count": null,
      "outputs": [
        {
          "output_type": "display_data",
          "data": {
            "text/plain": [
              "<Figure size 640x480 with 1 Axes>"
            ],
            "image/png": "[encoded data removed]"
          },
          "metadata": {}
        }
      ]
    },
    {
      "cell_type": "code",
      "source": [],
      "metadata": {
        "id": "jx7kbeM84pmC"
      },
      "execution_count": null,
      "outputs": []
    },
    {
      "cell_type": "code",
      "source": [],
      "metadata": {
        "id": "oNXhsoEo4pQJ"
      },
      "execution_count": null,
      "outputs": []
    },
    {
      "cell_type": "markdown",
      "source": [
        "# 오프라인 리뷰 작성 비율"
      ],
      "metadata": {
        "id": "55Y4Wi5lCSvl"
      }
    },
    {
      "cell_type": "code",
      "source": [
        "df_r = pd.read_excel('/content/커피템플 월별 방문자 리뷰 개수.xlsx')"
      ],
      "metadata": {
        "id": "9EaejSuCDqhQ"
      },
      "execution_count": null,
      "outputs": []
    },
    {
      "cell_type": "code",
      "source": [
        "df_all = pd.concat([df2, df3, df4, df5, df6, df7, df8, df9, df10, df11, df12, df13, df14, df15, df16, df17], axis=0)"
      ],
      "metadata": {
        "id": "caqRHDvFIpne"
      },
      "execution_count": null,
      "outputs": []
    },
    {
      "cell_type": "code",
      "source": [
        "df_all.info()"
      ],
      "metadata": {
        "colab": {
          "base_uri": "https://localhost:8080/"
        },
        "id": "lbzfBOwACX3J",
        "outputId": "ca886b1d-9eb9-49b0-b2a3-235405d7a379"
      },
      "execution_count": null,
      "outputs": [
        {
          "output_type": "stream",
          "name": "stdout",
          "text": [
            "<class 'pandas.core.frame.DataFrame'>\n",
            "Int64Index: 145010 entries, 0 to 10568\n",
            "Data columns (total 25 columns):\n",
            " #   Column       Non-Null Count   Dtype \n",
            "---  ------       --------------   ----- \n",
            " 0   결제일          66668 non-null   object\n",
            " 1   결제시간         66668 non-null   object\n",
            " 2   주문 채널        66668 non-null   object\n",
            " 3   결제내역         66668 non-null   object\n",
            " 4   합계           66668 non-null   object\n",
            " 5   상품별 할인       66668 non-null   object\n",
            " 6   결제 할인        66668 non-null   object\n",
            " 7   카드 결제        66668 non-null   object\n",
            " 8   현금 결제        66668 non-null   object\n",
            " 9   간편 결제        66668 non-null   object\n",
            " 10  기타 결제        66668 non-null   object\n",
            " 11  온라인 스토어      66668 non-null   object\n",
            " 12  사용 포인트       66668 non-null   object\n",
            " 13  적립 포인트       66668 non-null   object\n",
            " 14  사용 선불권       66668 non-null   object\n",
            " 15  환불           66668 non-null   object\n",
            " 16  환불 일시        66668 non-null   object\n",
            " 17  배달팁(매출 포함x)  66668 non-null   object\n",
            " 18  카테고리         145010 non-null  object\n",
            " 19  상품명          145010 non-null  object\n",
            " 20  옵션           145010 non-null  object\n",
            " 21  수량           145010 non-null  int64 \n",
            " 22  상품별 단가       145010 non-null  int64 \n",
            " 23  상품별 합계       145010 non-null  object\n",
            " 24  결제메모         66668 non-null   object\n",
            "dtypes: int64(2), object(23)\n",
            "memory usage: 28.8+ MB\n"
          ]
        }
      ]
    },
    {
      "cell_type": "code",
      "source": [
        "df_ad = df_all[df_all['결제일'].notnull()]"
      ],
      "metadata": {
        "id": "eHJJHaVLCX0v"
      },
      "execution_count": null,
      "outputs": []
    },
    {
      "cell_type": "code",
      "source": [
        "df_ad.info()"
      ],
      "metadata": {
        "colab": {
          "base_uri": "https://localhost:8080/"
        },
        "id": "l83tzOTjCXy9",
        "outputId": "f6bf7f49-4e41-4cfd-abd6-779f38117fae"
      },
      "execution_count": null,
      "outputs": [
        {
          "output_type": "stream",
          "name": "stdout",
          "text": [
            "<class 'pandas.core.frame.DataFrame'>\n",
            "Int64Index: 66668 entries, 0 to 10567\n",
            "Data columns (total 25 columns):\n",
            " #   Column       Non-Null Count  Dtype \n",
            "---  ------       --------------  ----- \n",
            " 0   결제일          66668 non-null  object\n",
            " 1   결제시간         66668 non-null  object\n",
            " 2   주문 채널        66668 non-null  object\n",
            " 3   결제내역         66668 non-null  object\n",
            " 4   합계           66668 non-null  object\n",
            " 5   상품별 할인       66668 non-null  object\n",
            " 6   결제 할인        66668 non-null  object\n",
            " 7   카드 결제        66668 non-null  object\n",
            " 8   현금 결제        66668 non-null  object\n",
            " 9   간편 결제        66668 non-null  object\n",
            " 10  기타 결제        66668 non-null  object\n",
            " 11  온라인 스토어      66668 non-null  object\n",
            " 12  사용 포인트       66668 non-null  object\n",
            " 13  적립 포인트       66668 non-null  object\n",
            " 14  사용 선불권       66668 non-null  object\n",
            " 15  환불           66668 non-null  object\n",
            " 16  환불 일시        66668 non-null  object\n",
            " 17  배달팁(매출 포함x)  66668 non-null  object\n",
            " 18  카테고리         66668 non-null  object\n",
            " 19  상품명          66668 non-null  object\n",
            " 20  옵션           66668 non-null  object\n",
            " 21  수량           66668 non-null  int64 \n",
            " 22  상품별 단가       66668 non-null  int64 \n",
            " 23  상품별 합계       66668 non-null  object\n",
            " 24  결제메모         66668 non-null  object\n",
            "dtypes: int64(2), object(23)\n",
            "memory usage: 13.2+ MB\n"
          ]
        }
      ]
    },
    {
      "cell_type": "code",
      "source": [
        "df_ad.head()"
      ],
      "metadata": {
        "colab": {
          "base_uri": "https://localhost:8080/",
          "height": 384
        },
        "id": "yQSJMFsXCXw6",
        "outputId": "6e89a376-6868-4a36-b412-408481d5e3cf"
      },
      "execution_count": null,
      "outputs": [
        {
          "output_type": "execute_result",
          "data": {
            "text/plain": [
              "          결제일      결제시간 주문 채널             결제내역     합계 상품별 할인 결제 할인  카드 결제  \\\n",
              "0  2022-02-28  18:24:04    셀러     드립백 클래식 외 1건  18100      -     -  18100   \n",
              "2  2022-02-28  18:23:51    셀러     드립백 클래식 외 1건  18100      -     -  18100   \n",
              "4  2022-02-28  18:12:49    셀러      캡슐 클래식 외 2건  30100      -     -  30100   \n",
              "7  2022-02-28  18:09:20    셀러           캡슐 클래식  15000      -     -  15000   \n",
              "8  2022-02-28  17:50:11    셀러  아이스 텐저린 라떼 외 2건  21500      -     -  21500   \n",
              "\n",
              "  현금 결제 간편 결제  ... 환불 환불 일시 배달팁(매출 포함x)    카테고리       상품명 옵션 수량 상품별 단가 상품별 합계  \\\n",
              "0     -     -  ...  -     -           -   블렌딩원두       종이백  -  1    100    100   \n",
              "2     -     -  ...  -     -           -  드립백/캡슐   드립백 클래식  -  1  18000  18000   \n",
              "4     -     -  ...  -     -           -  드립백/캡슐    캡슐 클래식  -  1  15000  15000   \n",
              "7     -     -  ...  -     -           -  드립백/캡슐    캡슐 클래식  -  1  15000  15000   \n",
              "8     -     -  ...  -     -           -      MD  RTD 텐라보틀  -  1   8000   8000   \n",
              "\n",
              "  결제메모  \n",
              "0    -  \n",
              "2    -  \n",
              "4    -  \n",
              "7    -  \n",
              "8    -  \n",
              "\n",
              "[5 rows x 25 columns]"
            ],
            "text/html": [
              "\n",
              "\n",
              "  <div id=\"df-ef0bd2ef-9390-497c-ad35-ce6223e4173b\">\n",
              "    <div class=\"colab-df-container\">\n",
              "      <div>\n",
              "<style scoped>\n",
              "    .dataframe tbody tr th:only-of-type {\n",
              "        vertical-align: middle;\n",
              "    }\n",
              "\n",
              "    .dataframe tbody tr th {\n",
              "        vertical-align: top;\n",
              "    }\n",
              "\n",
              "    .dataframe thead th {\n",
              "        text-align: right;\n",
              "    }\n",
              "</style>\n",
              "<table border=\"1\" class=\"dataframe\">\n",
              "  <thead>\n",
              "    <tr style=\"text-align: right;\">\n",
              "      <th></th>\n",
              "      <th>결제일</th>\n",
              "      <th>결제시간</th>\n",
              "      <th>주문 채널</th>\n",
              "      <th>결제내역</th>\n",
              "      <th>합계</th>\n",
              "      <th>상품별 할인</th>\n",
              "      <th>결제 할인</th>\n",
              "      <th>카드 결제</th>\n",
              "      <th>현금 결제</th>\n",
              "      <th>간편 결제</th>\n",
              "      <th>...</th>\n",
              "      <th>환불</th>\n",
              "      <th>환불 일시</th>\n",
              "      <th>배달팁(매출 포함x)</th>\n",
              "      <th>카테고리</th>\n",
              "      <th>상품명</th>\n",
              "      <th>옵션</th>\n",
              "      <th>수량</th>\n",
              "      <th>상품별 단가</th>\n",
              "      <th>상품별 합계</th>\n",
              "      <th>결제메모</th>\n",
              "    </tr>\n",
              "  </thead>\n",
              "  <tbody>\n",
              "    <tr>\n",
              "      <th>0</th>\n",
              "      <td>2022-02-28</td>\n",
              "      <td>18:24:04</td>\n",
              "      <td>셀러</td>\n",
              "      <td>드립백 클래식 외 1건</td>\n",
              "      <td>18100</td>\n",
              "      <td>-</td>\n",
              "      <td>-</td>\n",
              "      <td>18100</td>\n",
              "      <td>-</td>\n",
              "      <td>-</td>\n",
              "      <td>...</td>\n",
              "      <td>-</td>\n",
              "      <td>-</td>\n",
              "      <td>-</td>\n",
              "      <td>블렌딩원두</td>\n",
              "      <td>종이백</td>\n",
              "      <td>-</td>\n",
              "      <td>1</td>\n",
              "      <td>100</td>\n",
              "      <td>100</td>\n",
              "      <td>-</td>\n",
              "    </tr>\n",
              "    <tr>\n",
              "      <th>2</th>\n",
              "      <td>2022-02-28</td>\n",
              "      <td>18:23:51</td>\n",
              "      <td>셀러</td>\n",
              "      <td>드립백 클래식 외 1건</td>\n",
              "      <td>18100</td>\n",
              "      <td>-</td>\n",
              "      <td>-</td>\n",
              "      <td>18100</td>\n",
              "      <td>-</td>\n",
              "      <td>-</td>\n",
              "      <td>...</td>\n",
              "      <td>-</td>\n",
              "      <td>-</td>\n",
              "      <td>-</td>\n",
              "      <td>드립백/캡슐</td>\n",
              "      <td>드립백 클래식</td>\n",
              "      <td>-</td>\n",
              "      <td>1</td>\n",
              "      <td>18000</td>\n",
              "      <td>18000</td>\n",
              "      <td>-</td>\n",
              "    </tr>\n",
              "    <tr>\n",
              "      <th>4</th>\n",
              "      <td>2022-02-28</td>\n",
              "      <td>18:12:49</td>\n",
              "      <td>셀러</td>\n",
              "      <td>캡슐 클래식 외 2건</td>\n",
              "      <td>30100</td>\n",
              "      <td>-</td>\n",
              "      <td>-</td>\n",
              "      <td>30100</td>\n",
              "      <td>-</td>\n",
              "      <td>-</td>\n",
              "      <td>...</td>\n",
              "      <td>-</td>\n",
              "      <td>-</td>\n",
              "      <td>-</td>\n",
              "      <td>드립백/캡슐</td>\n",
              "      <td>캡슐 클래식</td>\n",
              "      <td>-</td>\n",
              "      <td>1</td>\n",
              "      <td>15000</td>\n",
              "      <td>15000</td>\n",
              "      <td>-</td>\n",
              "    </tr>\n",
              "    <tr>\n",
              "      <th>7</th>\n",
              "      <td>2022-02-28</td>\n",
              "      <td>18:09:20</td>\n",
              "      <td>셀러</td>\n",
              "      <td>캡슐 클래식</td>\n",
              "      <td>15000</td>\n",
              "      <td>-</td>\n",
              "      <td>-</td>\n",
              "      <td>15000</td>\n",
              "      <td>-</td>\n",
              "      <td>-</td>\n",
              "      <td>...</td>\n",
              "      <td>-</td>\n",
              "      <td>-</td>\n",
              "      <td>-</td>\n",
              "      <td>드립백/캡슐</td>\n",
              "      <td>캡슐 클래식</td>\n",
              "      <td>-</td>\n",
              "      <td>1</td>\n",
              "      <td>15000</td>\n",
              "      <td>15000</td>\n",
              "      <td>-</td>\n",
              "    </tr>\n",
              "    <tr>\n",
              "      <th>8</th>\n",
              "      <td>2022-02-28</td>\n",
              "      <td>17:50:11</td>\n",
              "      <td>셀러</td>\n",
              "      <td>아이스 텐저린 라떼 외 2건</td>\n",
              "      <td>21500</td>\n",
              "      <td>-</td>\n",
              "      <td>-</td>\n",
              "      <td>21500</td>\n",
              "      <td>-</td>\n",
              "      <td>-</td>\n",
              "      <td>...</td>\n",
              "      <td>-</td>\n",
              "      <td>-</td>\n",
              "      <td>-</td>\n",
              "      <td>MD</td>\n",
              "      <td>RTD 텐라보틀</td>\n",
              "      <td>-</td>\n",
              "      <td>1</td>\n",
              "      <td>8000</td>\n",
              "      <td>8000</td>\n",
              "      <td>-</td>\n",
              "    </tr>\n",
              "  </tbody>\n",
              "</table>\n",
              "<p>5 rows × 25 columns</p>\n",
              "</div>\n",
              "      <button class=\"colab-df-convert\" onclick=\"convertToInteractive('df-ef0bd2ef-9390-497c-ad35-ce6223e4173b')\"\n",
              "              title=\"Convert this dataframe to an interactive table.\"\n",
              "              style=\"display:none;\">\n",
              "\n",
              "  <svg xmlns=\"http://www.w3.org/2000/svg\" height=\"24px\"viewBox=\"0 0 24 24\"\n",
              "       width=\"24px\">\n",
              "    <path d=\"M0 0h24v24H0V0z\" fill=\"none\"/>\n",
              "    <path d=\"M18.56 5.44l.94 2.06.94-2.06 2.06-.94-2.06-.94-.94-2.06-.94 2.06-2.06.94zm-11 1L8.5 8.5l.94-2.06 2.06-.94-2.06-.94L8.5 2.5l-.94 2.06-2.06.94zm10 10l.94 2.06.94-2.06 2.06-.94-2.06-.94-.94-2.06-.94 2.06-2.06.94z\"/><path d=\"M17.41 7.96l-1.37-1.37c-.4-.4-.92-.59-1.43-.59-.52 0-1.04.2-1.43.59L10.3 9.45l-7.72 7.72c-.78.78-.78 2.05 0 2.83L4 21.41c.39.39.9.59 1.41.59.51 0 1.02-.2 1.41-.59l7.78-7.78 2.81-2.81c.8-.78.8-2.07 0-2.86zM5.41 20L4 18.59l7.72-7.72 1.47 1.35L5.41 20z\"/>\n",
              "  </svg>\n",
              "      </button>\n",
              "\n",
              "\n",
              "\n",
              "    <div id=\"df-11e0a010-a29b-453f-b16c-ae8872ddf079\">\n",
              "      <button class=\"colab-df-quickchart\" onclick=\"quickchart('df-11e0a010-a29b-453f-b16c-ae8872ddf079')\"\n",
              "              title=\"Suggest charts.\"\n",
              "              style=\"display:none;\">\n",
              "\n",
              "<svg xmlns=\"http://www.w3.org/2000/svg\" height=\"24px\"viewBox=\"0 0 24 24\"\n",
              "     width=\"24px\">\n",
              "    <g>\n",
              "        <path d=\"M19 3H5c-1.1 0-2 .9-2 2v14c0 1.1.9 2 2 2h14c1.1 0 2-.9 2-2V5c0-1.1-.9-2-2-2zM9 17H7v-7h2v7zm4 0h-2V7h2v10zm4 0h-2v-4h2v4z\"/>\n",
              "    </g>\n",
              "</svg>\n",
              "      </button>\n",
              "    </div>\n",
              "\n",
              "<style>\n",
              "  .colab-df-quickchart {\n",
              "    background-color: #E8F0FE;\n",
              "    border: none;\n",
              "    border-radius: 50%;\n",
              "    cursor: pointer;\n",
              "    display: none;\n",
              "    fill: #1967D2;\n",
              "    height: 32px;\n",
              "    padding: 0 0 0 0;\n",
              "    width: 32px;\n",
              "  }\n",
              "\n",
              "  .colab-df-quickchart:hover {\n",
              "    background-color: #E2EBFA;\n",
              "    box-shadow: 0px 1px 2px rgba(60, 64, 67, 0.3), 0px 1px 3px 1px rgba(60, 64, 67, 0.15);\n",
              "    fill: #174EA6;\n",
              "  }\n",
              "\n",
              "  [theme=dark] .colab-df-quickchart {\n",
              "    background-color: #3B4455;\n",
              "    fill: #D2E3FC;\n",
              "  }\n",
              "\n",
              "  [theme=dark] .colab-df-quickchart:hover {\n",
              "    background-color: #434B5C;\n",
              "    box-shadow: 0px 1px 3px 1px rgba(0, 0, 0, 0.15);\n",
              "    filter: drop-shadow(0px 1px 2px rgba(0, 0, 0, 0.3));\n",
              "    fill: #FFFFFF;\n",
              "  }\n",
              "</style>\n",
              "\n",
              "    <script>\n",
              "      async function quickchart(key) {\n",
              "        const containerElement = document.querySelector('#' + key);\n",
              "        const charts = await google.colab.kernel.invokeFunction(\n",
              "            'suggestCharts', [key], {});\n",
              "      }\n",
              "    </script>\n",
              "\n",
              "      <script>\n",
              "\n",
              "function displayQuickchartButton(domScope) {\n",
              "  let quickchartButtonEl =\n",
              "    domScope.querySelector('#df-11e0a010-a29b-453f-b16c-ae8872ddf079 button.colab-df-quickchart');\n",
              "  quickchartButtonEl.style.display =\n",
              "    google.colab.kernel.accessAllowed ? 'block' : 'none';\n",
              "}\n",
              "\n",
              "        displayQuickchartButton(document);\n",
              "      </script>\n",
              "      <style>\n",
              "    .colab-df-container {\n",
              "      display:flex;\n",
              "      flex-wrap:wrap;\n",
              "      gap: 12px;\n",
              "    }\n",
              "\n",
              "    .colab-df-convert {\n",
              "      background-color: #E8F0FE;\n",
              "      border: none;\n",
              "      border-radius: 50%;\n",
              "      cursor: pointer;\n",
              "      display: none;\n",
              "      fill: #1967D2;\n",
              "      height: 32px;\n",
              "      padding: 0 0 0 0;\n",
              "      width: 32px;\n",
              "    }\n",
              "\n",
              "    .colab-df-convert:hover {\n",
              "      background-color: #E2EBFA;\n",
              "      box-shadow: 0px 1px 2px rgba(60, 64, 67, 0.3), 0px 1px 3px 1px rgba(60, 64, 67, 0.15);\n",
              "      fill: #174EA6;\n",
              "    }\n",
              "\n",
              "    [theme=dark] .colab-df-convert {\n",
              "      background-color: #3B4455;\n",
              "      fill: #D2E3FC;\n",
              "    }\n",
              "\n",
              "    [theme=dark] .colab-df-convert:hover {\n",
              "      background-color: #434B5C;\n",
              "      box-shadow: 0px 1px 3px 1px rgba(0, 0, 0, 0.15);\n",
              "      filter: drop-shadow(0px 1px 2px rgba(0, 0, 0, 0.3));\n",
              "      fill: #FFFFFF;\n",
              "    }\n",
              "  </style>\n",
              "\n",
              "      <script>\n",
              "        const buttonEl =\n",
              "          document.querySelector('#df-ef0bd2ef-9390-497c-ad35-ce6223e4173b button.colab-df-convert');\n",
              "        buttonEl.style.display =\n",
              "          google.colab.kernel.accessAllowed ? 'block' : 'none';\n",
              "\n",
              "        async function convertToInteractive(key) {\n",
              "          const element = document.querySelector('#df-ef0bd2ef-9390-497c-ad35-ce6223e4173b');\n",
              "          const dataTable =\n",
              "            await google.colab.kernel.invokeFunction('convertToInteractive',\n",
              "                                                     [key], {});\n",
              "          if (!dataTable) return;\n",
              "\n",
              "          const docLinkHtml = 'Like what you see? Visit the ' +\n",
              "            '<a target=\"_blank\" href=https://colab.research.google.com/notebooks/data_table.ipynb>data table notebook</a>'\n",
              "            + ' to learn more about interactive tables.';\n",
              "          element.innerHTML = '';\n",
              "          dataTable['output_type'] = 'display_data';\n",
              "          await google.colab.output.renderOutput(dataTable, element);\n",
              "          const docLink = document.createElement('div');\n",
              "          docLink.innerHTML = docLinkHtml;\n",
              "          element.appendChild(docLink);\n",
              "        }\n",
              "      </script>\n",
              "    </div>\n",
              "  </div>\n"
            ]
          },
          "metadata": {},
          "execution_count": 71
        }
      ]
    },
    {
      "cell_type": "code",
      "source": [
        "df_ad[['연도', '월', '일']] = df_ad['결제일'].str.split('-', expand=True)"
      ],
      "metadata": {
        "colab": {
          "base_uri": "https://localhost:8080/"
        },
        "id": "grwvLGKFCXu7",
        "outputId": "edb464c6-65b7-4d49-f68c-d5e8d468fd0a"
      },
      "execution_count": null,
      "outputs": [
        {
          "output_type": "stream",
          "name": "stderr",
          "text": [
            "<ipython-input-52-210ab20fe87d>:1: SettingWithCopyWarning: \n",
            "A value is trying to be set on a copy of a slice from a DataFrame.\n",
            "Try using .loc[row_indexer,col_indexer] = value instead\n",
            "\n",
            "See the caveats in the documentation: https://pandas.pydata.org/pandas-docs/stable/user_guide/indexing.html#returning-a-view-versus-a-copy\n",
            "  df_ad[['연도', '월', '일']] = df_ad['결제일'].str.split('-', expand=True)\n",
            "<ipython-input-52-210ab20fe87d>:1: SettingWithCopyWarning: \n",
            "A value is trying to be set on a copy of a slice from a DataFrame.\n",
            "Try using .loc[row_indexer,col_indexer] = value instead\n",
            "\n",
            "See the caveats in the documentation: https://pandas.pydata.org/pandas-docs/stable/user_guide/indexing.html#returning-a-view-versus-a-copy\n",
            "  df_ad[['연도', '월', '일']] = df_ad['결제일'].str.split('-', expand=True)\n",
            "<ipython-input-52-210ab20fe87d>:1: SettingWithCopyWarning: \n",
            "A value is trying to be set on a copy of a slice from a DataFrame.\n",
            "Try using .loc[row_indexer,col_indexer] = value instead\n",
            "\n",
            "See the caveats in the documentation: https://pandas.pydata.org/pandas-docs/stable/user_guide/indexing.html#returning-a-view-versus-a-copy\n",
            "  df_ad[['연도', '월', '일']] = df_ad['결제일'].str.split('-', expand=True)\n"
          ]
        }
      ]
    },
    {
      "cell_type": "code",
      "source": [
        "df_ad.head()"
      ],
      "metadata": {
        "colab": {
          "base_uri": "https://localhost:8080/",
          "height": 384
        },
        "id": "4v_LLfNVCXtC",
        "outputId": "a3c57696-b25e-48ee-e249-c5d9f85651e0"
      },
      "execution_count": null,
      "outputs": [
        {
          "output_type": "execute_result",
          "data": {
            "text/plain": [
              "          결제일      결제시간 주문 채널             결제내역     합계 상품별 할인 결제 할인  카드 결제  \\\n",
              "0  2022-02-28  18:24:04    셀러     드립백 클래식 외 1건  18100      -     -  18100   \n",
              "2  2022-02-28  18:23:51    셀러     드립백 클래식 외 1건  18100      -     -  18100   \n",
              "4  2022-02-28  18:12:49    셀러      캡슐 클래식 외 2건  30100      -     -  30100   \n",
              "7  2022-02-28  18:09:20    셀러           캡슐 클래식  15000      -     -  15000   \n",
              "8  2022-02-28  17:50:11    셀러  아이스 텐저린 라떼 외 2건  21500      -     -  21500   \n",
              "\n",
              "  현금 결제 간편 결제  ...    카테고리       상품명 옵션 수량 상품별 단가 상품별 합계 결제메모    연도   월   일  \n",
              "0     -     -  ...   블렌딩원두       종이백  -  1    100    100    -  2022  02  28  \n",
              "2     -     -  ...  드립백/캡슐   드립백 클래식  -  1  18000  18000    -  2022  02  28  \n",
              "4     -     -  ...  드립백/캡슐    캡슐 클래식  -  1  15000  15000    -  2022  02  28  \n",
              "7     -     -  ...  드립백/캡슐    캡슐 클래식  -  1  15000  15000    -  2022  02  28  \n",
              "8     -     -  ...      MD  RTD 텐라보틀  -  1   8000   8000    -  2022  02  28  \n",
              "\n",
              "[5 rows x 28 columns]"
            ],
            "text/html": [
              "\n",
              "\n",
              "  <div id=\"df-39bb9e03-ebf3-450a-be42-73a27e5d6318\">\n",
              "    <div class=\"colab-df-container\">\n",
              "      <div>\n",
              "<style scoped>\n",
              "    .dataframe tbody tr th:only-of-type {\n",
              "        vertical-align: middle;\n",
              "    }\n",
              "\n",
              "    .dataframe tbody tr th {\n",
              "        vertical-align: top;\n",
              "    }\n",
              "\n",
              "    .dataframe thead th {\n",
              "        text-align: right;\n",
              "    }\n",
              "</style>\n",
              "<table border=\"1\" class=\"dataframe\">\n",
              "  <thead>\n",
              "    <tr style=\"text-align: right;\">\n",
              "      <th></th>\n",
              "      <th>결제일</th>\n",
              "      <th>결제시간</th>\n",
              "      <th>주문 채널</th>\n",
              "      <th>결제내역</th>\n",
              "      <th>합계</th>\n",
              "      <th>상품별 할인</th>\n",
              "      <th>결제 할인</th>\n",
              "      <th>카드 결제</th>\n",
              "      <th>현금 결제</th>\n",
              "      <th>간편 결제</th>\n",
              "      <th>...</th>\n",
              "      <th>카테고리</th>\n",
              "      <th>상품명</th>\n",
              "      <th>옵션</th>\n",
              "      <th>수량</th>\n",
              "      <th>상품별 단가</th>\n",
              "      <th>상품별 합계</th>\n",
              "      <th>결제메모</th>\n",
              "      <th>연도</th>\n",
              "      <th>월</th>\n",
              "      <th>일</th>\n",
              "    </tr>\n",
              "  </thead>\n",
              "  <tbody>\n",
              "    <tr>\n",
              "      <th>0</th>\n",
              "      <td>2022-02-28</td>\n",
              "      <td>18:24:04</td>\n",
              "      <td>셀러</td>\n",
              "      <td>드립백 클래식 외 1건</td>\n",
              "      <td>18100</td>\n",
              "      <td>-</td>\n",
              "      <td>-</td>\n",
              "      <td>18100</td>\n",
              "      <td>-</td>\n",
              "      <td>-</td>\n",
              "      <td>...</td>\n",
              "      <td>블렌딩원두</td>\n",
              "      <td>종이백</td>\n",
              "      <td>-</td>\n",
              "      <td>1</td>\n",
              "      <td>100</td>\n",
              "      <td>100</td>\n",
              "      <td>-</td>\n",
              "      <td>2022</td>\n",
              "      <td>02</td>\n",
              "      <td>28</td>\n",
              "    </tr>\n",
              "    <tr>\n",
              "      <th>2</th>\n",
              "      <td>2022-02-28</td>\n",
              "      <td>18:23:51</td>\n",
              "      <td>셀러</td>\n",
              "      <td>드립백 클래식 외 1건</td>\n",
              "      <td>18100</td>\n",
              "      <td>-</td>\n",
              "      <td>-</td>\n",
              "      <td>18100</td>\n",
              "      <td>-</td>\n",
              "      <td>-</td>\n",
              "      <td>...</td>\n",
              "      <td>드립백/캡슐</td>\n",
              "      <td>드립백 클래식</td>\n",
              "      <td>-</td>\n",
              "      <td>1</td>\n",
              "      <td>18000</td>\n",
              "      <td>18000</td>\n",
              "      <td>-</td>\n",
              "      <td>2022</td>\n",
              "      <td>02</td>\n",
              "      <td>28</td>\n",
              "    </tr>\n",
              "    <tr>\n",
              "      <th>4</th>\n",
              "      <td>2022-02-28</td>\n",
              "      <td>18:12:49</td>\n",
              "      <td>셀러</td>\n",
              "      <td>캡슐 클래식 외 2건</td>\n",
              "      <td>30100</td>\n",
              "      <td>-</td>\n",
              "      <td>-</td>\n",
              "      <td>30100</td>\n",
              "      <td>-</td>\n",
              "      <td>-</td>\n",
              "      <td>...</td>\n",
              "      <td>드립백/캡슐</td>\n",
              "      <td>캡슐 클래식</td>\n",
              "      <td>-</td>\n",
              "      <td>1</td>\n",
              "      <td>15000</td>\n",
              "      <td>15000</td>\n",
              "      <td>-</td>\n",
              "      <td>2022</td>\n",
              "      <td>02</td>\n",
              "      <td>28</td>\n",
              "    </tr>\n",
              "    <tr>\n",
              "      <th>7</th>\n",
              "      <td>2022-02-28</td>\n",
              "      <td>18:09:20</td>\n",
              "      <td>셀러</td>\n",
              "      <td>캡슐 클래식</td>\n",
              "      <td>15000</td>\n",
              "      <td>-</td>\n",
              "      <td>-</td>\n",
              "      <td>15000</td>\n",
              "      <td>-</td>\n",
              "      <td>-</td>\n",
              "      <td>...</td>\n",
              "      <td>드립백/캡슐</td>\n",
              "      <td>캡슐 클래식</td>\n",
              "      <td>-</td>\n",
              "      <td>1</td>\n",
              "      <td>15000</td>\n",
              "      <td>15000</td>\n",
              "      <td>-</td>\n",
              "      <td>2022</td>\n",
              "      <td>02</td>\n",
              "      <td>28</td>\n",
              "    </tr>\n",
              "    <tr>\n",
              "      <th>8</th>\n",
              "      <td>2022-02-28</td>\n",
              "      <td>17:50:11</td>\n",
              "      <td>셀러</td>\n",
              "      <td>아이스 텐저린 라떼 외 2건</td>\n",
              "      <td>21500</td>\n",
              "      <td>-</td>\n",
              "      <td>-</td>\n",
              "      <td>21500</td>\n",
              "      <td>-</td>\n",
              "      <td>-</td>\n",
              "      <td>...</td>\n",
              "      <td>MD</td>\n",
              "      <td>RTD 텐라보틀</td>\n",
              "      <td>-</td>\n",
              "      <td>1</td>\n",
              "      <td>8000</td>\n",
              "      <td>8000</td>\n",
              "      <td>-</td>\n",
              "      <td>2022</td>\n",
              "      <td>02</td>\n",
              "      <td>28</td>\n",
              "    </tr>\n",
              "  </tbody>\n",
              "</table>\n",
              "<p>5 rows × 28 columns</p>\n",
              "</div>\n",
              "      <button class=\"colab-df-convert\" onclick=\"convertToInteractive('df-39bb9e03-ebf3-450a-be42-73a27e5d6318')\"\n",
              "              title=\"Convert this dataframe to an interactive table.\"\n",
              "              style=\"display:none;\">\n",
              "\n",
              "  <svg xmlns=\"http://www.w3.org/2000/svg\" height=\"24px\"viewBox=\"0 0 24 24\"\n",
              "       width=\"24px\">\n",
              "    <path d=\"M0 0h24v24H0V0z\" fill=\"none\"/>\n",
              "    <path d=\"M18.56 5.44l.94 2.06.94-2.06 2.06-.94-2.06-.94-.94-2.06-.94 2.06-2.06.94zm-11 1L8.5 8.5l.94-2.06 2.06-.94-2.06-.94L8.5 2.5l-.94 2.06-2.06.94zm10 10l.94 2.06.94-2.06 2.06-.94-2.06-.94-.94-2.06-.94 2.06-2.06.94z\"/><path d=\"M17.41 7.96l-1.37-1.37c-.4-.4-.92-.59-1.43-.59-.52 0-1.04.2-1.43.59L10.3 9.45l-7.72 7.72c-.78.78-.78 2.05 0 2.83L4 21.41c.39.39.9.59 1.41.59.51 0 1.02-.2 1.41-.59l7.78-7.78 2.81-2.81c.8-.78.8-2.07 0-2.86zM5.41 20L4 18.59l7.72-7.72 1.47 1.35L5.41 20z\"/>\n",
              "  </svg>\n",
              "      </button>\n",
              "\n",
              "\n",
              "\n",
              "    <div id=\"df-ed0c4e39-ecaf-4eb9-b30d-290caa76949f\">\n",
              "      <button class=\"colab-df-quickchart\" onclick=\"quickchart('df-ed0c4e39-ecaf-4eb9-b30d-290caa76949f')\"\n",
              "              title=\"Suggest charts.\"\n",
              "              style=\"display:none;\">\n",
              "\n",
              "<svg xmlns=\"http://www.w3.org/2000/svg\" height=\"24px\"viewBox=\"0 0 24 24\"\n",
              "     width=\"24px\">\n",
              "    <g>\n",
              "        <path d=\"M19 3H5c-1.1 0-2 .9-2 2v14c0 1.1.9 2 2 2h14c1.1 0 2-.9 2-2V5c0-1.1-.9-2-2-2zM9 17H7v-7h2v7zm4 0h-2V7h2v10zm4 0h-2v-4h2v4z\"/>\n",
              "    </g>\n",
              "</svg>\n",
              "      </button>\n",
              "    </div>\n",
              "\n",
              "<style>\n",
              "  .colab-df-quickchart {\n",
              "    background-color: #E8F0FE;\n",
              "    border: none;\n",
              "    border-radius: 50%;\n",
              "    cursor: pointer;\n",
              "    display: none;\n",
              "    fill: #1967D2;\n",
              "    height: 32px;\n",
              "    padding: 0 0 0 0;\n",
              "    width: 32px;\n",
              "  }\n",
              "\n",
              "  .colab-df-quickchart:hover {\n",
              "    background-color: #E2EBFA;\n",
              "    box-shadow: 0px 1px 2px rgba(60, 64, 67, 0.3), 0px 1px 3px 1px rgba(60, 64, 67, 0.15);\n",
              "    fill: #174EA6;\n",
              "  }\n",
              "\n",
              "  [theme=dark] .colab-df-quickchart {\n",
              "    background-color: #3B4455;\n",
              "    fill: #D2E3FC;\n",
              "  }\n",
              "\n",
              "  [theme=dark] .colab-df-quickchart:hover {\n",
              "    background-color: #434B5C;\n",
              "    box-shadow: 0px 1px 3px 1px rgba(0, 0, 0, 0.15);\n",
              "    filter: drop-shadow(0px 1px 2px rgba(0, 0, 0, 0.3));\n",
              "    fill: #FFFFFF;\n",
              "  }\n",
              "</style>\n",
              "\n",
              "    <script>\n",
              "      async function quickchart(key) {\n",
              "        const containerElement = document.querySelector('#' + key);\n",
              "        const charts = await google.colab.kernel.invokeFunction(\n",
              "            'suggestCharts', [key], {});\n",
              "      }\n",
              "    </script>\n",
              "\n",
              "      <script>\n",
              "\n",
              "function displayQuickchartButton(domScope) {\n",
              "  let quickchartButtonEl =\n",
              "    domScope.querySelector('#df-ed0c4e39-ecaf-4eb9-b30d-290caa76949f button.colab-df-quickchart');\n",
              "  quickchartButtonEl.style.display =\n",
              "    google.colab.kernel.accessAllowed ? 'block' : 'none';\n",
              "}\n",
              "\n",
              "        displayQuickchartButton(document);\n",
              "      </script>\n",
              "      <style>\n",
              "    .colab-df-container {\n",
              "      display:flex;\n",
              "      flex-wrap:wrap;\n",
              "      gap: 12px;\n",
              "    }\n",
              "\n",
              "    .colab-df-convert {\n",
              "      background-color: #E8F0FE;\n",
              "      border: none;\n",
              "      border-radius: 50%;\n",
              "      cursor: pointer;\n",
              "      display: none;\n",
              "      fill: #1967D2;\n",
              "      height: 32px;\n",
              "      padding: 0 0 0 0;\n",
              "      width: 32px;\n",
              "    }\n",
              "\n",
              "    .colab-df-convert:hover {\n",
              "      background-color: #E2EBFA;\n",
              "      box-shadow: 0px 1px 2px rgba(60, 64, 67, 0.3), 0px 1px 3px 1px rgba(60, 64, 67, 0.15);\n",
              "      fill: #174EA6;\n",
              "    }\n",
              "\n",
              "    [theme=dark] .colab-df-convert {\n",
              "      background-color: #3B4455;\n",
              "      fill: #D2E3FC;\n",
              "    }\n",
              "\n",
              "    [theme=dark] .colab-df-convert:hover {\n",
              "      background-color: #434B5C;\n",
              "      box-shadow: 0px 1px 3px 1px rgba(0, 0, 0, 0.15);\n",
              "      filter: drop-shadow(0px 1px 2px rgba(0, 0, 0, 0.3));\n",
              "      fill: #FFFFFF;\n",
              "    }\n",
              "  </style>\n",
              "\n",
              "      <script>\n",
              "        const buttonEl =\n",
              "          document.querySelector('#df-39bb9e03-ebf3-450a-be42-73a27e5d6318 button.colab-df-convert');\n",
              "        buttonEl.style.display =\n",
              "          google.colab.kernel.accessAllowed ? 'block' : 'none';\n",
              "\n",
              "        async function convertToInteractive(key) {\n",
              "          const element = document.querySelector('#df-39bb9e03-ebf3-450a-be42-73a27e5d6318');\n",
              "          const dataTable =\n",
              "            await google.colab.kernel.invokeFunction('convertToInteractive',\n",
              "                                                     [key], {});\n",
              "          if (!dataTable) return;\n",
              "\n",
              "          const docLinkHtml = 'Like what you see? Visit the ' +\n",
              "            '<a target=\"_blank\" href=https://colab.research.google.com/notebooks/data_table.ipynb>data table notebook</a>'\n",
              "            + ' to learn more about interactive tables.';\n",
              "          element.innerHTML = '';\n",
              "          dataTable['output_type'] = 'display_data';\n",
              "          await google.colab.output.renderOutput(dataTable, element);\n",
              "          const docLink = document.createElement('div');\n",
              "          docLink.innerHTML = docLinkHtml;\n",
              "          element.appendChild(docLink);\n",
              "        }\n",
              "      </script>\n",
              "    </div>\n",
              "  </div>\n"
            ]
          },
          "metadata": {},
          "execution_count": 73
        }
      ]
    },
    {
      "cell_type": "code",
      "source": [
        "df_ad = df_ad[df_ad['합계'] != '-']"
      ],
      "metadata": {
        "id": "QuYXpmwCCXrS"
      },
      "execution_count": null,
      "outputs": []
    },
    {
      "cell_type": "code",
      "source": [
        "df_ad.info()"
      ],
      "metadata": {
        "colab": {
          "base_uri": "https://localhost:8080/"
        },
        "id": "p0LAxR-WCXpS",
        "outputId": "9064eb6f-1916-45ba-919d-29c500b3828d"
      },
      "execution_count": null,
      "outputs": [
        {
          "output_type": "stream",
          "name": "stdout",
          "text": [
            "<class 'pandas.core.frame.DataFrame'>\n",
            "Int64Index: 65874 entries, 0 to 10567\n",
            "Data columns (total 28 columns):\n",
            " #   Column       Non-Null Count  Dtype \n",
            "---  ------       --------------  ----- \n",
            " 0   결제일          65874 non-null  object\n",
            " 1   결제시간         65874 non-null  object\n",
            " 2   주문 채널        65874 non-null  object\n",
            " 3   결제내역         65874 non-null  object\n",
            " 4   합계           65874 non-null  object\n",
            " 5   상품별 할인       65874 non-null  object\n",
            " 6   결제 할인        65874 non-null  object\n",
            " 7   카드 결제        65874 non-null  object\n",
            " 8   현금 결제        65874 non-null  object\n",
            " 9   간편 결제        65874 non-null  object\n",
            " 10  기타 결제        65874 non-null  object\n",
            " 11  온라인 스토어      65874 non-null  object\n",
            " 12  사용 포인트       65874 non-null  object\n",
            " 13  적립 포인트       65874 non-null  object\n",
            " 14  사용 선불권       65874 non-null  object\n",
            " 15  환불           65874 non-null  object\n",
            " 16  환불 일시        65874 non-null  object\n",
            " 17  배달팁(매출 포함x)  65874 non-null  object\n",
            " 18  카테고리         65874 non-null  object\n",
            " 19  상품명          65874 non-null  object\n",
            " 20  옵션           65874 non-null  object\n",
            " 21  수량           65874 non-null  int64 \n",
            " 22  상품별 단가       65874 non-null  int64 \n",
            " 23  상품별 합계       65874 non-null  object\n",
            " 24  결제메모         65874 non-null  object\n",
            " 25  연도           65874 non-null  object\n",
            " 26  월            65874 non-null  object\n",
            " 27  일            65874 non-null  object\n",
            "dtypes: int64(2), object(26)\n",
            "memory usage: 14.6+ MB\n"
          ]
        }
      ]
    },
    {
      "cell_type": "code",
      "source": [
        "# 연도와 월을 합쳐서 새로운 열 '연월'을 생성\n",
        "df_ad['연월'] = df_ad['연도'] + '-' + df_ad['월']"
      ],
      "metadata": {
        "id": "KXKZI3vEJ_cz"
      },
      "execution_count": null,
      "outputs": []
    },
    {
      "cell_type": "code",
      "source": [
        "df_ad['연월']"
      ],
      "metadata": {
        "colab": {
          "base_uri": "https://localhost:8080/"
        },
        "id": "YwZr9VdGKMdU",
        "outputId": "4c887949-1e6c-466d-ffed-ec00e270aaec"
      },
      "execution_count": null,
      "outputs": [
        {
          "output_type": "execute_result",
          "data": {
            "text/plain": [
              "0        2022-02\n",
              "2        2022-02\n",
              "4        2022-02\n",
              "7        2022-02\n",
              "8        2022-02\n",
              "          ...   \n",
              "10560    2023-05\n",
              "10561    2023-05\n",
              "10563    2023-05\n",
              "10566    2023-05\n",
              "10567    2023-05\n",
              "Name: 연월, Length: 65874, dtype: object"
            ]
          },
          "metadata": {},
          "execution_count": 59
        }
      ]
    },
    {
      "cell_type": "code",
      "source": [
        "df_ad_date_group = df_ad.groupby('연월')['합계'].count()"
      ],
      "metadata": {
        "id": "MS-78cVmIpj2"
      },
      "execution_count": null,
      "outputs": []
    },
    {
      "cell_type": "code",
      "source": [
        "df_ad_date_group = pd.DataFrame(df_ad_date_group)"
      ],
      "metadata": {
        "id": "MFwN1symIph1"
      },
      "execution_count": null,
      "outputs": []
    },
    {
      "cell_type": "code",
      "source": [
        "df_ad_date_group"
      ],
      "metadata": {
        "id": "s_aLqFYkIpf2",
        "colab": {
          "base_uri": "https://localhost:8080/",
          "height": 582
        },
        "outputId": "e8c87e0c-eb89-49e5-ce4c-dd16ada6ba46"
      },
      "execution_count": null,
      "outputs": [
        {
          "output_type": "execute_result",
          "data": {
            "text/plain": [
              "           합계\n",
              "연월           \n",
              "2022-02  2605\n",
              "2022-03  5134\n",
              "2022-04  5831\n",
              "2022-05  5382\n",
              "2022-06  4443\n",
              "2022-07  3772\n",
              "2022-08  3933\n",
              "2022-09  3545\n",
              "2022-10  3998\n",
              "2022-11  3731\n",
              "2022-12  3521\n",
              "2023-01  3568\n",
              "2023-02  3578\n",
              "2023-03  4436\n",
              "2023-04  4130\n",
              "2023-05  4267"
            ],
            "text/html": [
              "\n",
              "\n",
              "  <div id=\"df-6e23351d-3da8-4797-9f5b-2d820370c99f\">\n",
              "    <div class=\"colab-df-container\">\n",
              "      <div>\n",
              "<style scoped>\n",
              "    .dataframe tbody tr th:only-of-type {\n",
              "        vertical-align: middle;\n",
              "    }\n",
              "\n",
              "    .dataframe tbody tr th {\n",
              "        vertical-align: top;\n",
              "    }\n",
              "\n",
              "    .dataframe thead th {\n",
              "        text-align: right;\n",
              "    }\n",
              "</style>\n",
              "<table border=\"1\" class=\"dataframe\">\n",
              "  <thead>\n",
              "    <tr style=\"text-align: right;\">\n",
              "      <th></th>\n",
              "      <th>합계</th>\n",
              "    </tr>\n",
              "    <tr>\n",
              "      <th>연월</th>\n",
              "      <th></th>\n",
              "    </tr>\n",
              "  </thead>\n",
              "  <tbody>\n",
              "    <tr>\n",
              "      <th>2022-02</th>\n",
              "      <td>2605</td>\n",
              "    </tr>\n",
              "    <tr>\n",
              "      <th>2022-03</th>\n",
              "      <td>5134</td>\n",
              "    </tr>\n",
              "    <tr>\n",
              "      <th>2022-04</th>\n",
              "      <td>5831</td>\n",
              "    </tr>\n",
              "    <tr>\n",
              "      <th>2022-05</th>\n",
              "      <td>5382</td>\n",
              "    </tr>\n",
              "    <tr>\n",
              "      <th>2022-06</th>\n",
              "      <td>4443</td>\n",
              "    </tr>\n",
              "    <tr>\n",
              "      <th>2022-07</th>\n",
              "      <td>3772</td>\n",
              "    </tr>\n",
              "    <tr>\n",
              "      <th>2022-08</th>\n",
              "      <td>3933</td>\n",
              "    </tr>\n",
              "    <tr>\n",
              "      <th>2022-09</th>\n",
              "      <td>3545</td>\n",
              "    </tr>\n",
              "    <tr>\n",
              "      <th>2022-10</th>\n",
              "      <td>3998</td>\n",
              "    </tr>\n",
              "    <tr>\n",
              "      <th>2022-11</th>\n",
              "      <td>3731</td>\n",
              "    </tr>\n",
              "    <tr>\n",
              "      <th>2022-12</th>\n",
              "      <td>3521</td>\n",
              "    </tr>\n",
              "    <tr>\n",
              "      <th>2023-01</th>\n",
              "      <td>3568</td>\n",
              "    </tr>\n",
              "    <tr>\n",
              "      <th>2023-02</th>\n",
              "      <td>3578</td>\n",
              "    </tr>\n",
              "    <tr>\n",
              "      <th>2023-03</th>\n",
              "      <td>4436</td>\n",
              "    </tr>\n",
              "    <tr>\n",
              "      <th>2023-04</th>\n",
              "      <td>4130</td>\n",
              "    </tr>\n",
              "    <tr>\n",
              "      <th>2023-05</th>\n",
              "      <td>4267</td>\n",
              "    </tr>\n",
              "  </tbody>\n",
              "</table>\n",
              "</div>\n",
              "      <button class=\"colab-df-convert\" onclick=\"convertToInteractive('df-6e23351d-3da8-4797-9f5b-2d820370c99f')\"\n",
              "              title=\"Convert this dataframe to an interactive table.\"\n",
              "              style=\"display:none;\">\n",
              "\n",
              "  <svg xmlns=\"http://www.w3.org/2000/svg\" height=\"24px\"viewBox=\"0 0 24 24\"\n",
              "       width=\"24px\">\n",
              "    <path d=\"M0 0h24v24H0V0z\" fill=\"none\"/>\n",
              "    <path d=\"M18.56 5.44l.94 2.06.94-2.06 2.06-.94-2.06-.94-.94-2.06-.94 2.06-2.06.94zm-11 1L8.5 8.5l.94-2.06 2.06-.94-2.06-.94L8.5 2.5l-.94 2.06-2.06.94zm10 10l.94 2.06.94-2.06 2.06-.94-2.06-.94-.94-2.06-.94 2.06-2.06.94z\"/><path d=\"M17.41 7.96l-1.37-1.37c-.4-.4-.92-.59-1.43-.59-.52 0-1.04.2-1.43.59L10.3 9.45l-7.72 7.72c-.78.78-.78 2.05 0 2.83L4 21.41c.39.39.9.59 1.41.59.51 0 1.02-.2 1.41-.59l7.78-7.78 2.81-2.81c.8-.78.8-2.07 0-2.86zM5.41 20L4 18.59l7.72-7.72 1.47 1.35L5.41 20z\"/>\n",
              "  </svg>\n",
              "      </button>\n",
              "\n",
              "\n",
              "\n",
              "    <div id=\"df-c7c6b57a-2deb-44d7-97ec-5b1298059aa9\">\n",
              "      <button class=\"colab-df-quickchart\" onclick=\"quickchart('df-c7c6b57a-2deb-44d7-97ec-5b1298059aa9')\"\n",
              "              title=\"Suggest charts.\"\n",
              "              style=\"display:none;\">\n",
              "\n",
              "<svg xmlns=\"http://www.w3.org/2000/svg\" height=\"24px\"viewBox=\"0 0 24 24\"\n",
              "     width=\"24px\">\n",
              "    <g>\n",
              "        <path d=\"M19 3H5c-1.1 0-2 .9-2 2v14c0 1.1.9 2 2 2h14c1.1 0 2-.9 2-2V5c0-1.1-.9-2-2-2zM9 17H7v-7h2v7zm4 0h-2V7h2v10zm4 0h-2v-4h2v4z\"/>\n",
              "    </g>\n",
              "</svg>\n",
              "      </button>\n",
              "    </div>\n",
              "\n",
              "<style>\n",
              "  .colab-df-quickchart {\n",
              "    background-color: #E8F0FE;\n",
              "    border: none;\n",
              "    border-radius: 50%;\n",
              "    cursor: pointer;\n",
              "    display: none;\n",
              "    fill: #1967D2;\n",
              "    height: 32px;\n",
              "    padding: 0 0 0 0;\n",
              "    width: 32px;\n",
              "  }\n",
              "\n",
              "  .colab-df-quickchart:hover {\n",
              "    background-color: #E2EBFA;\n",
              "    box-shadow: 0px 1px 2px rgba(60, 64, 67, 0.3), 0px 1px 3px 1px rgba(60, 64, 67, 0.15);\n",
              "    fill: #174EA6;\n",
              "  }\n",
              "\n",
              "  [theme=dark] .colab-df-quickchart {\n",
              "    background-color: #3B4455;\n",
              "    fill: #D2E3FC;\n",
              "  }\n",
              "\n",
              "  [theme=dark] .colab-df-quickchart:hover {\n",
              "    background-color: #434B5C;\n",
              "    box-shadow: 0px 1px 3px 1px rgba(0, 0, 0, 0.15);\n",
              "    filter: drop-shadow(0px 1px 2px rgba(0, 0, 0, 0.3));\n",
              "    fill: #FFFFFF;\n",
              "  }\n",
              "</style>\n",
              "\n",
              "    <script>\n",
              "      async function quickchart(key) {\n",
              "        const containerElement = document.querySelector('#' + key);\n",
              "        const charts = await google.colab.kernel.invokeFunction(\n",
              "            'suggestCharts', [key], {});\n",
              "      }\n",
              "    </script>\n",
              "\n",
              "      <script>\n",
              "\n",
              "function displayQuickchartButton(domScope) {\n",
              "  let quickchartButtonEl =\n",
              "    domScope.querySelector('#df-c7c6b57a-2deb-44d7-97ec-5b1298059aa9 button.colab-df-quickchart');\n",
              "  quickchartButtonEl.style.display =\n",
              "    google.colab.kernel.accessAllowed ? 'block' : 'none';\n",
              "}\n",
              "\n",
              "        displayQuickchartButton(document);\n",
              "      </script>\n",
              "      <style>\n",
              "    .colab-df-container {\n",
              "      display:flex;\n",
              "      flex-wrap:wrap;\n",
              "      gap: 12px;\n",
              "    }\n",
              "\n",
              "    .colab-df-convert {\n",
              "      background-color: #E8F0FE;\n",
              "      border: none;\n",
              "      border-radius: 50%;\n",
              "      cursor: pointer;\n",
              "      display: none;\n",
              "      fill: #1967D2;\n",
              "      height: 32px;\n",
              "      padding: 0 0 0 0;\n",
              "      width: 32px;\n",
              "    }\n",
              "\n",
              "    .colab-df-convert:hover {\n",
              "      background-color: #E2EBFA;\n",
              "      box-shadow: 0px 1px 2px rgba(60, 64, 67, 0.3), 0px 1px 3px 1px rgba(60, 64, 67, 0.15);\n",
              "      fill: #174EA6;\n",
              "    }\n",
              "\n",
              "    [theme=dark] .colab-df-convert {\n",
              "      background-color: #3B4455;\n",
              "      fill: #D2E3FC;\n",
              "    }\n",
              "\n",
              "    [theme=dark] .colab-df-convert:hover {\n",
              "      background-color: #434B5C;\n",
              "      box-shadow: 0px 1px 3px 1px rgba(0, 0, 0, 0.15);\n",
              "      filter: drop-shadow(0px 1px 2px rgba(0, 0, 0, 0.3));\n",
              "      fill: #FFFFFF;\n",
              "    }\n",
              "  </style>\n",
              "\n",
              "      <script>\n",
              "        const buttonEl =\n",
              "          document.querySelector('#df-6e23351d-3da8-4797-9f5b-2d820370c99f button.colab-df-convert');\n",
              "        buttonEl.style.display =\n",
              "          google.colab.kernel.accessAllowed ? 'block' : 'none';\n",
              "\n",
              "        async function convertToInteractive(key) {\n",
              "          const element = document.querySelector('#df-6e23351d-3da8-4797-9f5b-2d820370c99f');\n",
              "          const dataTable =\n",
              "            await google.colab.kernel.invokeFunction('convertToInteractive',\n",
              "                                                     [key], {});\n",
              "          if (!dataTable) return;\n",
              "\n",
              "          const docLinkHtml = 'Like what you see? Visit the ' +\n",
              "            '<a target=\"_blank\" href=https://colab.research.google.com/notebooks/data_table.ipynb>data table notebook</a>'\n",
              "            + ' to learn more about interactive tables.';\n",
              "          element.innerHTML = '';\n",
              "          dataTable['output_type'] = 'display_data';\n",
              "          await google.colab.output.renderOutput(dataTable, element);\n",
              "          const docLink = document.createElement('div');\n",
              "          docLink.innerHTML = docLinkHtml;\n",
              "          element.appendChild(docLink);\n",
              "        }\n",
              "      </script>\n",
              "    </div>\n",
              "  </div>\n"
            ]
          },
          "metadata": {},
          "execution_count": 62
        }
      ]
    },
    {
      "cell_type": "code",
      "source": [
        "df_r.head()"
      ],
      "metadata": {
        "id": "Poxo0m4WIplv",
        "colab": {
          "base_uri": "https://localhost:8080/",
          "height": 206
        },
        "outputId": "83246b95-9aec-4039-93a3-a5ac4e25d806"
      },
      "execution_count": null,
      "outputs": [
        {
          "output_type": "execute_result",
          "data": {
            "text/plain": [
              "          날짜  리뷰개수\n",
              "0 2023-05-01    19\n",
              "1 2023-04-01    27\n",
              "2 2023-03-01    37\n",
              "3 2023-02-01    23\n",
              "4 2023-01-01    35"
            ],
            "text/html": [
              "\n",
              "\n",
              "  <div id=\"df-2d2ae4d0-a45e-410d-800c-f6b7cfc2ae32\">\n",
              "    <div class=\"colab-df-container\">\n",
              "      <div>\n",
              "<style scoped>\n",
              "    .dataframe tbody tr th:only-of-type {\n",
              "        vertical-align: middle;\n",
              "    }\n",
              "\n",
              "    .dataframe tbody tr th {\n",
              "        vertical-align: top;\n",
              "    }\n",
              "\n",
              "    .dataframe thead th {\n",
              "        text-align: right;\n",
              "    }\n",
              "</style>\n",
              "<table border=\"1\" class=\"dataframe\">\n",
              "  <thead>\n",
              "    <tr style=\"text-align: right;\">\n",
              "      <th></th>\n",
              "      <th>날짜</th>\n",
              "      <th>리뷰개수</th>\n",
              "    </tr>\n",
              "  </thead>\n",
              "  <tbody>\n",
              "    <tr>\n",
              "      <th>0</th>\n",
              "      <td>2023-05-01</td>\n",
              "      <td>19</td>\n",
              "    </tr>\n",
              "    <tr>\n",
              "      <th>1</th>\n",
              "      <td>2023-04-01</td>\n",
              "      <td>27</td>\n",
              "    </tr>\n",
              "    <tr>\n",
              "      <th>2</th>\n",
              "      <td>2023-03-01</td>\n",
              "      <td>37</td>\n",
              "    </tr>\n",
              "    <tr>\n",
              "      <th>3</th>\n",
              "      <td>2023-02-01</td>\n",
              "      <td>23</td>\n",
              "    </tr>\n",
              "    <tr>\n",
              "      <th>4</th>\n",
              "      <td>2023-01-01</td>\n",
              "      <td>35</td>\n",
              "    </tr>\n",
              "  </tbody>\n",
              "</table>\n",
              "</div>\n",
              "      <button class=\"colab-df-convert\" onclick=\"convertToInteractive('df-2d2ae4d0-a45e-410d-800c-f6b7cfc2ae32')\"\n",
              "              title=\"Convert this dataframe to an interactive table.\"\n",
              "              style=\"display:none;\">\n",
              "\n",
              "  <svg xmlns=\"http://www.w3.org/2000/svg\" height=\"24px\"viewBox=\"0 0 24 24\"\n",
              "       width=\"24px\">\n",
              "    <path d=\"M0 0h24v24H0V0z\" fill=\"none\"/>\n",
              "    <path d=\"M18.56 5.44l.94 2.06.94-2.06 2.06-.94-2.06-.94-.94-2.06-.94 2.06-2.06.94zm-11 1L8.5 8.5l.94-2.06 2.06-.94-2.06-.94L8.5 2.5l-.94 2.06-2.06.94zm10 10l.94 2.06.94-2.06 2.06-.94-2.06-.94-.94-2.06-.94 2.06-2.06.94z\"/><path d=\"M17.41 7.96l-1.37-1.37c-.4-.4-.92-.59-1.43-.59-.52 0-1.04.2-1.43.59L10.3 9.45l-7.72 7.72c-.78.78-.78 2.05 0 2.83L4 21.41c.39.39.9.59 1.41.59.51 0 1.02-.2 1.41-.59l7.78-7.78 2.81-2.81c.8-.78.8-2.07 0-2.86zM5.41 20L4 18.59l7.72-7.72 1.47 1.35L5.41 20z\"/>\n",
              "  </svg>\n",
              "      </button>\n",
              "\n",
              "\n",
              "\n",
              "    <div id=\"df-69ac6230-06a1-4a72-8abe-2f5c799d1d8b\">\n",
              "      <button class=\"colab-df-quickchart\" onclick=\"quickchart('df-69ac6230-06a1-4a72-8abe-2f5c799d1d8b')\"\n",
              "              title=\"Suggest charts.\"\n",
              "              style=\"display:none;\">\n",
              "\n",
              "<svg xmlns=\"http://www.w3.org/2000/svg\" height=\"24px\"viewBox=\"0 0 24 24\"\n",
              "     width=\"24px\">\n",
              "    <g>\n",
              "        <path d=\"M19 3H5c-1.1 0-2 .9-2 2v14c0 1.1.9 2 2 2h14c1.1 0 2-.9 2-2V5c0-1.1-.9-2-2-2zM9 17H7v-7h2v7zm4 0h-2V7h2v10zm4 0h-2v-4h2v4z\"/>\n",
              "    </g>\n",
              "</svg>\n",
              "      </button>\n",
              "    </div>\n",
              "\n",
              "<style>\n",
              "  .colab-df-quickchart {\n",
              "    background-color: #E8F0FE;\n",
              "    border: none;\n",
              "    border-radius: 50%;\n",
              "    cursor: pointer;\n",
              "    display: none;\n",
              "    fill: #1967D2;\n",
              "    height: 32px;\n",
              "    padding: 0 0 0 0;\n",
              "    width: 32px;\n",
              "  }\n",
              "\n",
              "  .colab-df-quickchart:hover {\n",
              "    background-color: #E2EBFA;\n",
              "    box-shadow: 0px 1px 2px rgba(60, 64, 67, 0.3), 0px 1px 3px 1px rgba(60, 64, 67, 0.15);\n",
              "    fill: #174EA6;\n",
              "  }\n",
              "\n",
              "  [theme=dark] .colab-df-quickchart {\n",
              "    background-color: #3B4455;\n",
              "    fill: #D2E3FC;\n",
              "  }\n",
              "\n",
              "  [theme=dark] .colab-df-quickchart:hover {\n",
              "    background-color: #434B5C;\n",
              "    box-shadow: 0px 1px 3px 1px rgba(0, 0, 0, 0.15);\n",
              "    filter: drop-shadow(0px 1px 2px rgba(0, 0, 0, 0.3));\n",
              "    fill: #FFFFFF;\n",
              "  }\n",
              "</style>\n",
              "\n",
              "    <script>\n",
              "      async function quickchart(key) {\n",
              "        const containerElement = document.querySelector('#' + key);\n",
              "        const charts = await google.colab.kernel.invokeFunction(\n",
              "            'suggestCharts', [key], {});\n",
              "      }\n",
              "    </script>\n",
              "\n",
              "      <script>\n",
              "\n",
              "function displayQuickchartButton(domScope) {\n",
              "  let quickchartButtonEl =\n",
              "    domScope.querySelector('#df-69ac6230-06a1-4a72-8abe-2f5c799d1d8b button.colab-df-quickchart');\n",
              "  quickchartButtonEl.style.display =\n",
              "    google.colab.kernel.accessAllowed ? 'block' : 'none';\n",
              "}\n",
              "\n",
              "        displayQuickchartButton(document);\n",
              "      </script>\n",
              "      <style>\n",
              "    .colab-df-container {\n",
              "      display:flex;\n",
              "      flex-wrap:wrap;\n",
              "      gap: 12px;\n",
              "    }\n",
              "\n",
              "    .colab-df-convert {\n",
              "      background-color: #E8F0FE;\n",
              "      border: none;\n",
              "      border-radius: 50%;\n",
              "      cursor: pointer;\n",
              "      display: none;\n",
              "      fill: #1967D2;\n",
              "      height: 32px;\n",
              "      padding: 0 0 0 0;\n",
              "      width: 32px;\n",
              "    }\n",
              "\n",
              "    .colab-df-convert:hover {\n",
              "      background-color: #E2EBFA;\n",
              "      box-shadow: 0px 1px 2px rgba(60, 64, 67, 0.3), 0px 1px 3px 1px rgba(60, 64, 67, 0.15);\n",
              "      fill: #174EA6;\n",
              "    }\n",
              "\n",
              "    [theme=dark] .colab-df-convert {\n",
              "      background-color: #3B4455;\n",
              "      fill: #D2E3FC;\n",
              "    }\n",
              "\n",
              "    [theme=dark] .colab-df-convert:hover {\n",
              "      background-color: #434B5C;\n",
              "      box-shadow: 0px 1px 3px 1px rgba(0, 0, 0, 0.15);\n",
              "      filter: drop-shadow(0px 1px 2px rgba(0, 0, 0, 0.3));\n",
              "      fill: #FFFFFF;\n",
              "    }\n",
              "  </style>\n",
              "\n",
              "      <script>\n",
              "        const buttonEl =\n",
              "          document.querySelector('#df-2d2ae4d0-a45e-410d-800c-f6b7cfc2ae32 button.colab-df-convert');\n",
              "        buttonEl.style.display =\n",
              "          google.colab.kernel.accessAllowed ? 'block' : 'none';\n",
              "\n",
              "        async function convertToInteractive(key) {\n",
              "          const element = document.querySelector('#df-2d2ae4d0-a45e-410d-800c-f6b7cfc2ae32');\n",
              "          const dataTable =\n",
              "            await google.colab.kernel.invokeFunction('convertToInteractive',\n",
              "                                                     [key], {});\n",
              "          if (!dataTable) return;\n",
              "\n",
              "          const docLinkHtml = 'Like what you see? Visit the ' +\n",
              "            '<a target=\"_blank\" href=https://colab.research.google.com/notebooks/data_table.ipynb>data table notebook</a>'\n",
              "            + ' to learn more about interactive tables.';\n",
              "          element.innerHTML = '';\n",
              "          dataTable['output_type'] = 'display_data';\n",
              "          await google.colab.output.renderOutput(dataTable, element);\n",
              "          const docLink = document.createElement('div');\n",
              "          docLink.innerHTML = docLinkHtml;\n",
              "          element.appendChild(docLink);\n",
              "        }\n",
              "      </script>\n",
              "    </div>\n",
              "  </div>\n"
            ]
          },
          "metadata": {},
          "execution_count": 81
        }
      ]
    },
    {
      "cell_type": "code",
      "source": [
        "# Timestamp 데이터를 str 타입으로 변환\n",
        "df_r['날짜'] = df_r['날짜'].dt.strftime(\"%Y-%m-%d\")"
      ],
      "metadata": {
        "id": "8H-3q0DPFKbC"
      },
      "execution_count": null,
      "outputs": []
    },
    {
      "cell_type": "code",
      "source": [
        "df_r[['연도', '월', '일']] = df_r['날짜'].str.split('-', expand=True)"
      ],
      "metadata": {
        "id": "uLiTsil1Ipd8"
      },
      "execution_count": null,
      "outputs": []
    },
    {
      "cell_type": "code",
      "source": [
        "df_r['연월'] = df_r['연도'] + '-' + df_r['월']"
      ],
      "metadata": {
        "id": "xXgXuP3CFKXA"
      },
      "execution_count": null,
      "outputs": []
    },
    {
      "cell_type": "code",
      "source": [
        "df_r"
      ],
      "metadata": {
        "colab": {
          "base_uri": "https://localhost:8080/",
          "height": 551
        },
        "id": "3RXMnPmSFKVH",
        "outputId": "b2e24063-f058-49da-96b9-a9b1d1af476d"
      },
      "execution_count": null,
      "outputs": [
        {
          "output_type": "execute_result",
          "data": {
            "text/plain": [
              "            날짜  리뷰개수    연도   월   일       연월\n",
              "0   2023-05-01    19  2023  05  01  2023-05\n",
              "1   2023-04-01    27  2023  04  01  2023-04\n",
              "2   2023-03-01    37  2023  03  01  2023-03\n",
              "3   2023-02-01    23  2023  02  01  2023-02\n",
              "4   2023-01-01    35  2023  01  01  2023-01\n",
              "5   2022-12-01    34  2022  12  01  2022-12\n",
              "6   2022-11-01    28  2022  11  01  2022-11\n",
              "7   2022-10-01    33  2022  10  01  2022-10\n",
              "8   2022-09-01    19  2022  09  01  2022-09\n",
              "9   2022-08-01    33  2022  08  01  2022-08\n",
              "10  2022-07-01    25  2022  07  01  2022-07\n",
              "11  2022-06-01    29  2022  06  01  2022-06\n",
              "12  2022-05-01    25  2022  05  01  2022-05\n",
              "13  2022-04-01    33  2022  04  01  2022-04\n",
              "14  2022-03-01    26  2022  03  01  2022-03\n",
              "15  2022-02-01    13  2022  02  01  2022-02"
            ],
            "text/html": [
              "\n",
              "\n",
              "  <div id=\"df-3964d2e4-e294-45b7-b4e5-f6fae79d3161\">\n",
              "    <div class=\"colab-df-container\">\n",
              "      <div>\n",
              "<style scoped>\n",
              "    .dataframe tbody tr th:only-of-type {\n",
              "        vertical-align: middle;\n",
              "    }\n",
              "\n",
              "    .dataframe tbody tr th {\n",
              "        vertical-align: top;\n",
              "    }\n",
              "\n",
              "    .dataframe thead th {\n",
              "        text-align: right;\n",
              "    }\n",
              "</style>\n",
              "<table border=\"1\" class=\"dataframe\">\n",
              "  <thead>\n",
              "    <tr style=\"text-align: right;\">\n",
              "      <th></th>\n",
              "      <th>날짜</th>\n",
              "      <th>리뷰개수</th>\n",
              "      <th>연도</th>\n",
              "      <th>월</th>\n",
              "      <th>일</th>\n",
              "      <th>연월</th>\n",
              "    </tr>\n",
              "  </thead>\n",
              "  <tbody>\n",
              "    <tr>\n",
              "      <th>0</th>\n",
              "      <td>2023-05-01</td>\n",
              "      <td>19</td>\n",
              "      <td>2023</td>\n",
              "      <td>05</td>\n",
              "      <td>01</td>\n",
              "      <td>2023-05</td>\n",
              "    </tr>\n",
              "    <tr>\n",
              "      <th>1</th>\n",
              "      <td>2023-04-01</td>\n",
              "      <td>27</td>\n",
              "      <td>2023</td>\n",
              "      <td>04</td>\n",
              "      <td>01</td>\n",
              "      <td>2023-04</td>\n",
              "    </tr>\n",
              "    <tr>\n",
              "      <th>2</th>\n",
              "      <td>2023-03-01</td>\n",
              "      <td>37</td>\n",
              "      <td>2023</td>\n",
              "      <td>03</td>\n",
              "      <td>01</td>\n",
              "      <td>2023-03</td>\n",
              "    </tr>\n",
              "    <tr>\n",
              "      <th>3</th>\n",
              "      <td>2023-02-01</td>\n",
              "      <td>23</td>\n",
              "      <td>2023</td>\n",
              "      <td>02</td>\n",
              "      <td>01</td>\n",
              "      <td>2023-02</td>\n",
              "    </tr>\n",
              "    <tr>\n",
              "      <th>4</th>\n",
              "      <td>2023-01-01</td>\n",
              "      <td>35</td>\n",
              "      <td>2023</td>\n",
              "      <td>01</td>\n",
              "      <td>01</td>\n",
              "      <td>2023-01</td>\n",
              "    </tr>\n",
              "    <tr>\n",
              "      <th>5</th>\n",
              "      <td>2022-12-01</td>\n",
              "      <td>34</td>\n",
              "      <td>2022</td>\n",
              "      <td>12</td>\n",
              "      <td>01</td>\n",
              "      <td>2022-12</td>\n",
              "    </tr>\n",
              "    <tr>\n",
              "      <th>6</th>\n",
              "      <td>2022-11-01</td>\n",
              "      <td>28</td>\n",
              "      <td>2022</td>\n",
              "      <td>11</td>\n",
              "      <td>01</td>\n",
              "      <td>2022-11</td>\n",
              "    </tr>\n",
              "    <tr>\n",
              "      <th>7</th>\n",
              "      <td>2022-10-01</td>\n",
              "      <td>33</td>\n",
              "      <td>2022</td>\n",
              "      <td>10</td>\n",
              "      <td>01</td>\n",
              "      <td>2022-10</td>\n",
              "    </tr>\n",
              "    <tr>\n",
              "      <th>8</th>\n",
              "      <td>2022-09-01</td>\n",
              "      <td>19</td>\n",
              "      <td>2022</td>\n",
              "      <td>09</td>\n",
              "      <td>01</td>\n",
              "      <td>2022-09</td>\n",
              "    </tr>\n",
              "    <tr>\n",
              "      <th>9</th>\n",
              "      <td>2022-08-01</td>\n",
              "      <td>33</td>\n",
              "      <td>2022</td>\n",
              "      <td>08</td>\n",
              "      <td>01</td>\n",
              "      <td>2022-08</td>\n",
              "    </tr>\n",
              "    <tr>\n",
              "      <th>10</th>\n",
              "      <td>2022-07-01</td>\n",
              "      <td>25</td>\n",
              "      <td>2022</td>\n",
              "      <td>07</td>\n",
              "      <td>01</td>\n",
              "      <td>2022-07</td>\n",
              "    </tr>\n",
              "    <tr>\n",
              "      <th>11</th>\n",
              "      <td>2022-06-01</td>\n",
              "      <td>29</td>\n",
              "      <td>2022</td>\n",
              "      <td>06</td>\n",
              "      <td>01</td>\n",
              "      <td>2022-06</td>\n",
              "    </tr>\n",
              "    <tr>\n",
              "      <th>12</th>\n",
              "      <td>2022-05-01</td>\n",
              "      <td>25</td>\n",
              "      <td>2022</td>\n",
              "      <td>05</td>\n",
              "      <td>01</td>\n",
              "      <td>2022-05</td>\n",
              "    </tr>\n",
              "    <tr>\n",
              "      <th>13</th>\n",
              "      <td>2022-04-01</td>\n",
              "      <td>33</td>\n",
              "      <td>2022</td>\n",
              "      <td>04</td>\n",
              "      <td>01</td>\n",
              "      <td>2022-04</td>\n",
              "    </tr>\n",
              "    <tr>\n",
              "      <th>14</th>\n",
              "      <td>2022-03-01</td>\n",
              "      <td>26</td>\n",
              "      <td>2022</td>\n",
              "      <td>03</td>\n",
              "      <td>01</td>\n",
              "      <td>2022-03</td>\n",
              "    </tr>\n",
              "    <tr>\n",
              "      <th>15</th>\n",
              "      <td>2022-02-01</td>\n",
              "      <td>13</td>\n",
              "      <td>2022</td>\n",
              "      <td>02</td>\n",
              "      <td>01</td>\n",
              "      <td>2022-02</td>\n",
              "    </tr>\n",
              "  </tbody>\n",
              "</table>\n",
              "</div>\n",
              "      <button class=\"colab-df-convert\" onclick=\"convertToInteractive('df-3964d2e4-e294-45b7-b4e5-f6fae79d3161')\"\n",
              "              title=\"Convert this dataframe to an interactive table.\"\n",
              "              style=\"display:none;\">\n",
              "\n",
              "  <svg xmlns=\"http://www.w3.org/2000/svg\" height=\"24px\"viewBox=\"0 0 24 24\"\n",
              "       width=\"24px\">\n",
              "    <path d=\"M0 0h24v24H0V0z\" fill=\"none\"/>\n",
              "    <path d=\"M18.56 5.44l.94 2.06.94-2.06 2.06-.94-2.06-.94-.94-2.06-.94 2.06-2.06.94zm-11 1L8.5 8.5l.94-2.06 2.06-.94-2.06-.94L8.5 2.5l-.94 2.06-2.06.94zm10 10l.94 2.06.94-2.06 2.06-.94-2.06-.94-.94-2.06-.94 2.06-2.06.94z\"/><path d=\"M17.41 7.96l-1.37-1.37c-.4-.4-.92-.59-1.43-.59-.52 0-1.04.2-1.43.59L10.3 9.45l-7.72 7.72c-.78.78-.78 2.05 0 2.83L4 21.41c.39.39.9.59 1.41.59.51 0 1.02-.2 1.41-.59l7.78-7.78 2.81-2.81c.8-.78.8-2.07 0-2.86zM5.41 20L4 18.59l7.72-7.72 1.47 1.35L5.41 20z\"/>\n",
              "  </svg>\n",
              "      </button>\n",
              "\n",
              "\n",
              "\n",
              "    <div id=\"df-e1495392-bb27-4891-a8ba-da1811948109\">\n",
              "      <button class=\"colab-df-quickchart\" onclick=\"quickchart('df-e1495392-bb27-4891-a8ba-da1811948109')\"\n",
              "              title=\"Suggest charts.\"\n",
              "              style=\"display:none;\">\n",
              "\n",
              "<svg xmlns=\"http://www.w3.org/2000/svg\" height=\"24px\"viewBox=\"0 0 24 24\"\n",
              "     width=\"24px\">\n",
              "    <g>\n",
              "        <path d=\"M19 3H5c-1.1 0-2 .9-2 2v14c0 1.1.9 2 2 2h14c1.1 0 2-.9 2-2V5c0-1.1-.9-2-2-2zM9 17H7v-7h2v7zm4 0h-2V7h2v10zm4 0h-2v-4h2v4z\"/>\n",
              "    </g>\n",
              "</svg>\n",
              "      </button>\n",
              "    </div>\n",
              "\n",
              "<style>\n",
              "  .colab-df-quickchart {\n",
              "    background-color: #E8F0FE;\n",
              "    border: none;\n",
              "    border-radius: 50%;\n",
              "    cursor: pointer;\n",
              "    display: none;\n",
              "    fill: #1967D2;\n",
              "    height: 32px;\n",
              "    padding: 0 0 0 0;\n",
              "    width: 32px;\n",
              "  }\n",
              "\n",
              "  .colab-df-quickchart:hover {\n",
              "    background-color: #E2EBFA;\n",
              "    box-shadow: 0px 1px 2px rgba(60, 64, 67, 0.3), 0px 1px 3px 1px rgba(60, 64, 67, 0.15);\n",
              "    fill: #174EA6;\n",
              "  }\n",
              "\n",
              "  [theme=dark] .colab-df-quickchart {\n",
              "    background-color: #3B4455;\n",
              "    fill: #D2E3FC;\n",
              "  }\n",
              "\n",
              "  [theme=dark] .colab-df-quickchart:hover {\n",
              "    background-color: #434B5C;\n",
              "    box-shadow: 0px 1px 3px 1px rgba(0, 0, 0, 0.15);\n",
              "    filter: drop-shadow(0px 1px 2px rgba(0, 0, 0, 0.3));\n",
              "    fill: #FFFFFF;\n",
              "  }\n",
              "</style>\n",
              "\n",
              "    <script>\n",
              "      async function quickchart(key) {\n",
              "        const containerElement = document.querySelector('#' + key);\n",
              "        const charts = await google.colab.kernel.invokeFunction(\n",
              "            'suggestCharts', [key], {});\n",
              "      }\n",
              "    </script>\n",
              "\n",
              "      <script>\n",
              "\n",
              "function displayQuickchartButton(domScope) {\n",
              "  let quickchartButtonEl =\n",
              "    domScope.querySelector('#df-e1495392-bb27-4891-a8ba-da1811948109 button.colab-df-quickchart');\n",
              "  quickchartButtonEl.style.display =\n",
              "    google.colab.kernel.accessAllowed ? 'block' : 'none';\n",
              "}\n",
              "\n",
              "        displayQuickchartButton(document);\n",
              "      </script>\n",
              "      <style>\n",
              "    .colab-df-container {\n",
              "      display:flex;\n",
              "      flex-wrap:wrap;\n",
              "      gap: 12px;\n",
              "    }\n",
              "\n",
              "    .colab-df-convert {\n",
              "      background-color: #E8F0FE;\n",
              "      border: none;\n",
              "      border-radius: 50%;\n",
              "      cursor: pointer;\n",
              "      display: none;\n",
              "      fill: #1967D2;\n",
              "      height: 32px;\n",
              "      padding: 0 0 0 0;\n",
              "      width: 32px;\n",
              "    }\n",
              "\n",
              "    .colab-df-convert:hover {\n",
              "      background-color: #E2EBFA;\n",
              "      box-shadow: 0px 1px 2px rgba(60, 64, 67, 0.3), 0px 1px 3px 1px rgba(60, 64, 67, 0.15);\n",
              "      fill: #174EA6;\n",
              "    }\n",
              "\n",
              "    [theme=dark] .colab-df-convert {\n",
              "      background-color: #3B4455;\n",
              "      fill: #D2E3FC;\n",
              "    }\n",
              "\n",
              "    [theme=dark] .colab-df-convert:hover {\n",
              "      background-color: #434B5C;\n",
              "      box-shadow: 0px 1px 3px 1px rgba(0, 0, 0, 0.15);\n",
              "      filter: drop-shadow(0px 1px 2px rgba(0, 0, 0, 0.3));\n",
              "      fill: #FFFFFF;\n",
              "    }\n",
              "  </style>\n",
              "\n",
              "      <script>\n",
              "        const buttonEl =\n",
              "          document.querySelector('#df-3964d2e4-e294-45b7-b4e5-f6fae79d3161 button.colab-df-convert');\n",
              "        buttonEl.style.display =\n",
              "          google.colab.kernel.accessAllowed ? 'block' : 'none';\n",
              "\n",
              "        async function convertToInteractive(key) {\n",
              "          const element = document.querySelector('#df-3964d2e4-e294-45b7-b4e5-f6fae79d3161');\n",
              "          const dataTable =\n",
              "            await google.colab.kernel.invokeFunction('convertToInteractive',\n",
              "                                                     [key], {});\n",
              "          if (!dataTable) return;\n",
              "\n",
              "          const docLinkHtml = 'Like what you see? Visit the ' +\n",
              "            '<a target=\"_blank\" href=https://colab.research.google.com/notebooks/data_table.ipynb>data table notebook</a>'\n",
              "            + ' to learn more about interactive tables.';\n",
              "          element.innerHTML = '';\n",
              "          dataTable['output_type'] = 'display_data';\n",
              "          await google.colab.output.renderOutput(dataTable, element);\n",
              "          const docLink = document.createElement('div');\n",
              "          docLink.innerHTML = docLinkHtml;\n",
              "          element.appendChild(docLink);\n",
              "        }\n",
              "      </script>\n",
              "    </div>\n",
              "  </div>\n"
            ]
          },
          "metadata": {},
          "execution_count": 114
        }
      ]
    },
    {
      "cell_type": "code",
      "source": [
        "df_r_list = [i for i in reversed(df_r['리뷰개수'])]"
      ],
      "metadata": {
        "id": "jY9Im7VOFKRa"
      },
      "execution_count": null,
      "outputs": []
    },
    {
      "cell_type": "code",
      "source": [
        "df_r_dlist = [i for i in reversed(df_r['연월'])]"
      ],
      "metadata": {
        "id": "bnH6gJF5LaQH"
      },
      "execution_count": null,
      "outputs": []
    },
    {
      "cell_type": "code",
      "source": [
        "df_r2 = pd.DataFrame({'연월':df_r_dlist,\n",
        "         '리뷰개수':df_r_list})"
      ],
      "metadata": {
        "id": "xOZZ_Fn8La7u"
      },
      "execution_count": null,
      "outputs": []
    },
    {
      "cell_type": "code",
      "source": [
        "df_r2"
      ],
      "metadata": {
        "colab": {
          "base_uri": "https://localhost:8080/",
          "height": 551
        },
        "id": "xXPO5ze6La6A",
        "outputId": "9c5772a9-bcea-4360-c6a2-e27f64bb55da"
      },
      "execution_count": null,
      "outputs": [
        {
          "output_type": "execute_result",
          "data": {
            "text/plain": [
              "         연월  리뷰개수\n",
              "0   2022-02    13\n",
              "1   2022-03    26\n",
              "2   2022-04    33\n",
              "3   2022-05    25\n",
              "4   2022-06    29\n",
              "5   2022-07    25\n",
              "6   2022-08    33\n",
              "7   2022-09    19\n",
              "8   2022-10    33\n",
              "9   2022-11    28\n",
              "10  2022-12    34\n",
              "11  2023-01    35\n",
              "12  2023-02    23\n",
              "13  2023-03    37\n",
              "14  2023-04    27\n",
              "15  2023-05    19"
            ],
            "text/html": [
              "\n",
              "\n",
              "  <div id=\"df-4443b550-7d96-40e6-9856-b2d0053fb825\">\n",
              "    <div class=\"colab-df-container\">\n",
              "      <div>\n",
              "<style scoped>\n",
              "    .dataframe tbody tr th:only-of-type {\n",
              "        vertical-align: middle;\n",
              "    }\n",
              "\n",
              "    .dataframe tbody tr th {\n",
              "        vertical-align: top;\n",
              "    }\n",
              "\n",
              "    .dataframe thead th {\n",
              "        text-align: right;\n",
              "    }\n",
              "</style>\n",
              "<table border=\"1\" class=\"dataframe\">\n",
              "  <thead>\n",
              "    <tr style=\"text-align: right;\">\n",
              "      <th></th>\n",
              "      <th>연월</th>\n",
              "      <th>리뷰개수</th>\n",
              "    </tr>\n",
              "  </thead>\n",
              "  <tbody>\n",
              "    <tr>\n",
              "      <th>0</th>\n",
              "      <td>2022-02</td>\n",
              "      <td>13</td>\n",
              "    </tr>\n",
              "    <tr>\n",
              "      <th>1</th>\n",
              "      <td>2022-03</td>\n",
              "      <td>26</td>\n",
              "    </tr>\n",
              "    <tr>\n",
              "      <th>2</th>\n",
              "      <td>2022-04</td>\n",
              "      <td>33</td>\n",
              "    </tr>\n",
              "    <tr>\n",
              "      <th>3</th>\n",
              "      <td>2022-05</td>\n",
              "      <td>25</td>\n",
              "    </tr>\n",
              "    <tr>\n",
              "      <th>4</th>\n",
              "      <td>2022-06</td>\n",
              "      <td>29</td>\n",
              "    </tr>\n",
              "    <tr>\n",
              "      <th>5</th>\n",
              "      <td>2022-07</td>\n",
              "      <td>25</td>\n",
              "    </tr>\n",
              "    <tr>\n",
              "      <th>6</th>\n",
              "      <td>2022-08</td>\n",
              "      <td>33</td>\n",
              "    </tr>\n",
              "    <tr>\n",
              "      <th>7</th>\n",
              "      <td>2022-09</td>\n",
              "      <td>19</td>\n",
              "    </tr>\n",
              "    <tr>\n",
              "      <th>8</th>\n",
              "      <td>2022-10</td>\n",
              "      <td>33</td>\n",
              "    </tr>\n",
              "    <tr>\n",
              "      <th>9</th>\n",
              "      <td>2022-11</td>\n",
              "      <td>28</td>\n",
              "    </tr>\n",
              "    <tr>\n",
              "      <th>10</th>\n",
              "      <td>2022-12</td>\n",
              "      <td>34</td>\n",
              "    </tr>\n",
              "    <tr>\n",
              "      <th>11</th>\n",
              "      <td>2023-01</td>\n",
              "      <td>35</td>\n",
              "    </tr>\n",
              "    <tr>\n",
              "      <th>12</th>\n",
              "      <td>2023-02</td>\n",
              "      <td>23</td>\n",
              "    </tr>\n",
              "    <tr>\n",
              "      <th>13</th>\n",
              "      <td>2023-03</td>\n",
              "      <td>37</td>\n",
              "    </tr>\n",
              "    <tr>\n",
              "      <th>14</th>\n",
              "      <td>2023-04</td>\n",
              "      <td>27</td>\n",
              "    </tr>\n",
              "    <tr>\n",
              "      <th>15</th>\n",
              "      <td>2023-05</td>\n",
              "      <td>19</td>\n",
              "    </tr>\n",
              "  </tbody>\n",
              "</table>\n",
              "</div>\n",
              "      <button class=\"colab-df-convert\" onclick=\"convertToInteractive('df-4443b550-7d96-40e6-9856-b2d0053fb825')\"\n",
              "              title=\"Convert this dataframe to an interactive table.\"\n",
              "              style=\"display:none;\">\n",
              "\n",
              "  <svg xmlns=\"http://www.w3.org/2000/svg\" height=\"24px\"viewBox=\"0 0 24 24\"\n",
              "       width=\"24px\">\n",
              "    <path d=\"M0 0h24v24H0V0z\" fill=\"none\"/>\n",
              "    <path d=\"M18.56 5.44l.94 2.06.94-2.06 2.06-.94-2.06-.94-.94-2.06-.94 2.06-2.06.94zm-11 1L8.5 8.5l.94-2.06 2.06-.94-2.06-.94L8.5 2.5l-.94 2.06-2.06.94zm10 10l.94 2.06.94-2.06 2.06-.94-2.06-.94-.94-2.06-.94 2.06-2.06.94z\"/><path d=\"M17.41 7.96l-1.37-1.37c-.4-.4-.92-.59-1.43-.59-.52 0-1.04.2-1.43.59L10.3 9.45l-7.72 7.72c-.78.78-.78 2.05 0 2.83L4 21.41c.39.39.9.59 1.41.59.51 0 1.02-.2 1.41-.59l7.78-7.78 2.81-2.81c.8-.78.8-2.07 0-2.86zM5.41 20L4 18.59l7.72-7.72 1.47 1.35L5.41 20z\"/>\n",
              "  </svg>\n",
              "      </button>\n",
              "\n",
              "\n",
              "\n",
              "    <div id=\"df-737ef712-7c10-4df2-9f55-2d069850f577\">\n",
              "      <button class=\"colab-df-quickchart\" onclick=\"quickchart('df-737ef712-7c10-4df2-9f55-2d069850f577')\"\n",
              "              title=\"Suggest charts.\"\n",
              "              style=\"display:none;\">\n",
              "\n",
              "<svg xmlns=\"http://www.w3.org/2000/svg\" height=\"24px\"viewBox=\"0 0 24 24\"\n",
              "     width=\"24px\">\n",
              "    <g>\n",
              "        <path d=\"M19 3H5c-1.1 0-2 .9-2 2v14c0 1.1.9 2 2 2h14c1.1 0 2-.9 2-2V5c0-1.1-.9-2-2-2zM9 17H7v-7h2v7zm4 0h-2V7h2v10zm4 0h-2v-4h2v4z\"/>\n",
              "    </g>\n",
              "</svg>\n",
              "      </button>\n",
              "    </div>\n",
              "\n",
              "<style>\n",
              "  .colab-df-quickchart {\n",
              "    background-color: #E8F0FE;\n",
              "    border: none;\n",
              "    border-radius: 50%;\n",
              "    cursor: pointer;\n",
              "    display: none;\n",
              "    fill: #1967D2;\n",
              "    height: 32px;\n",
              "    padding: 0 0 0 0;\n",
              "    width: 32px;\n",
              "  }\n",
              "\n",
              "  .colab-df-quickchart:hover {\n",
              "    background-color: #E2EBFA;\n",
              "    box-shadow: 0px 1px 2px rgba(60, 64, 67, 0.3), 0px 1px 3px 1px rgba(60, 64, 67, 0.15);\n",
              "    fill: #174EA6;\n",
              "  }\n",
              "\n",
              "  [theme=dark] .colab-df-quickchart {\n",
              "    background-color: #3B4455;\n",
              "    fill: #D2E3FC;\n",
              "  }\n",
              "\n",
              "  [theme=dark] .colab-df-quickchart:hover {\n",
              "    background-color: #434B5C;\n",
              "    box-shadow: 0px 1px 3px 1px rgba(0, 0, 0, 0.15);\n",
              "    filter: drop-shadow(0px 1px 2px rgba(0, 0, 0, 0.3));\n",
              "    fill: #FFFFFF;\n",
              "  }\n",
              "</style>\n",
              "\n",
              "    <script>\n",
              "      async function quickchart(key) {\n",
              "        const containerElement = document.querySelector('#' + key);\n",
              "        const charts = await google.colab.kernel.invokeFunction(\n",
              "            'suggestCharts', [key], {});\n",
              "      }\n",
              "    </script>\n",
              "\n",
              "      <script>\n",
              "\n",
              "function displayQuickchartButton(domScope) {\n",
              "  let quickchartButtonEl =\n",
              "    domScope.querySelector('#df-737ef712-7c10-4df2-9f55-2d069850f577 button.colab-df-quickchart');\n",
              "  quickchartButtonEl.style.display =\n",
              "    google.colab.kernel.accessAllowed ? 'block' : 'none';\n",
              "}\n",
              "\n",
              "        displayQuickchartButton(document);\n",
              "      </script>\n",
              "      <style>\n",
              "    .colab-df-container {\n",
              "      display:flex;\n",
              "      flex-wrap:wrap;\n",
              "      gap: 12px;\n",
              "    }\n",
              "\n",
              "    .colab-df-convert {\n",
              "      background-color: #E8F0FE;\n",
              "      border: none;\n",
              "      border-radius: 50%;\n",
              "      cursor: pointer;\n",
              "      display: none;\n",
              "      fill: #1967D2;\n",
              "      height: 32px;\n",
              "      padding: 0 0 0 0;\n",
              "      width: 32px;\n",
              "    }\n",
              "\n",
              "    .colab-df-convert:hover {\n",
              "      background-color: #E2EBFA;\n",
              "      box-shadow: 0px 1px 2px rgba(60, 64, 67, 0.3), 0px 1px 3px 1px rgba(60, 64, 67, 0.15);\n",
              "      fill: #174EA6;\n",
              "    }\n",
              "\n",
              "    [theme=dark] .colab-df-convert {\n",
              "      background-color: #3B4455;\n",
              "      fill: #D2E3FC;\n",
              "    }\n",
              "\n",
              "    [theme=dark] .colab-df-convert:hover {\n",
              "      background-color: #434B5C;\n",
              "      box-shadow: 0px 1px 3px 1px rgba(0, 0, 0, 0.15);\n",
              "      filter: drop-shadow(0px 1px 2px rgba(0, 0, 0, 0.3));\n",
              "      fill: #FFFFFF;\n",
              "    }\n",
              "  </style>\n",
              "\n",
              "      <script>\n",
              "        const buttonEl =\n",
              "          document.querySelector('#df-4443b550-7d96-40e6-9856-b2d0053fb825 button.colab-df-convert');\n",
              "        buttonEl.style.display =\n",
              "          google.colab.kernel.accessAllowed ? 'block' : 'none';\n",
              "\n",
              "        async function convertToInteractive(key) {\n",
              "          const element = document.querySelector('#df-4443b550-7d96-40e6-9856-b2d0053fb825');\n",
              "          const dataTable =\n",
              "            await google.colab.kernel.invokeFunction('convertToInteractive',\n",
              "                                                     [key], {});\n",
              "          if (!dataTable) return;\n",
              "\n",
              "          const docLinkHtml = 'Like what you see? Visit the ' +\n",
              "            '<a target=\"_blank\" href=https://colab.research.google.com/notebooks/data_table.ipynb>data table notebook</a>'\n",
              "            + ' to learn more about interactive tables.';\n",
              "          element.innerHTML = '';\n",
              "          dataTable['output_type'] = 'display_data';\n",
              "          await google.colab.output.renderOutput(dataTable, element);\n",
              "          const docLink = document.createElement('div');\n",
              "          docLink.innerHTML = docLinkHtml;\n",
              "          element.appendChild(docLink);\n",
              "        }\n",
              "      </script>\n",
              "    </div>\n",
              "  </div>\n"
            ]
          },
          "metadata": {},
          "execution_count": 126
        }
      ]
    },
    {
      "cell_type": "code",
      "source": [
        "round((df_r2['리뷰개수'][0] / df_ad_date_group['합계'][0])*100, 2)"
      ],
      "metadata": {
        "colab": {
          "base_uri": "https://localhost:8080/"
        },
        "id": "zKmTrZ4ZLa24",
        "outputId": "4d02f7d2-e4a1-43f4-cb48-5f1cc8f5cc60"
      },
      "execution_count": null,
      "outputs": [
        {
          "output_type": "execute_result",
          "data": {
            "text/plain": [
              "0.5"
            ]
          },
          "metadata": {},
          "execution_count": 130
        }
      ]
    },
    {
      "cell_type": "code",
      "source": [
        "re_rate = []\n",
        "for i in range(16):\n",
        "    re_rate.append(round((df_r2['리뷰개수'][i] / df_ad_date_group['합계'][i])*100, 2))"
      ],
      "metadata": {
        "id": "zDwUhGdWLa0o"
      },
      "execution_count": null,
      "outputs": []
    },
    {
      "cell_type": "code",
      "source": [
        "re_rate"
      ],
      "metadata": {
        "colab": {
          "base_uri": "https://localhost:8080/"
        },
        "id": "HZW0zVi9Layf",
        "outputId": "b8925aa6-2e51-45e6-e505-f01b2034525b"
      },
      "execution_count": null,
      "outputs": [
        {
          "output_type": "execute_result",
          "data": {
            "text/plain": [
              "[0.5,\n",
              " 0.51,\n",
              " 0.57,\n",
              " 0.46,\n",
              " 0.65,\n",
              " 0.66,\n",
              " 0.84,\n",
              " 0.54,\n",
              " 0.83,\n",
              " 0.75,\n",
              " 0.97,\n",
              " 0.98,\n",
              " 0.64,\n",
              " 0.83,\n",
              " 0.65,\n",
              " 0.45]"
            ]
          },
          "metadata": {},
          "execution_count": 133
        }
      ]
    },
    {
      "cell_type": "code",
      "source": [
        "df_r2['리뷰비율'] = re_rate"
      ],
      "metadata": {
        "id": "EPqTlJpfNJ2H"
      },
      "execution_count": null,
      "outputs": []
    },
    {
      "cell_type": "code",
      "source": [
        "df_r2"
      ],
      "metadata": {
        "colab": {
          "base_uri": "https://localhost:8080/",
          "height": 551
        },
        "id": "k2atc3DwNNwj",
        "outputId": "77350afa-34d0-4f3f-8ae8-e77aadbf8fd1"
      },
      "execution_count": null,
      "outputs": [
        {
          "output_type": "execute_result",
          "data": {
            "text/plain": [
              "         연월  리뷰개수  리뷰비율\n",
              "0   2022-02    13  0.50\n",
              "1   2022-03    26  0.51\n",
              "2   2022-04    33  0.57\n",
              "3   2022-05    25  0.46\n",
              "4   2022-06    29  0.65\n",
              "5   2022-07    25  0.66\n",
              "6   2022-08    33  0.84\n",
              "7   2022-09    19  0.54\n",
              "8   2022-10    33  0.83\n",
              "9   2022-11    28  0.75\n",
              "10  2022-12    34  0.97\n",
              "11  2023-01    35  0.98\n",
              "12  2023-02    23  0.64\n",
              "13  2023-03    37  0.83\n",
              "14  2023-04    27  0.65\n",
              "15  2023-05    19  0.45"
            ],
            "text/html": [
              "\n",
              "\n",
              "  <div id=\"df-1ef7aca7-f06d-4723-b7c9-667560200cb7\">\n",
              "    <div class=\"colab-df-container\">\n",
              "      <div>\n",
              "<style scoped>\n",
              "    .dataframe tbody tr th:only-of-type {\n",
              "        vertical-align: middle;\n",
              "    }\n",
              "\n",
              "    .dataframe tbody tr th {\n",
              "        vertical-align: top;\n",
              "    }\n",
              "\n",
              "    .dataframe thead th {\n",
              "        text-align: right;\n",
              "    }\n",
              "</style>\n",
              "<table border=\"1\" class=\"dataframe\">\n",
              "  <thead>\n",
              "    <tr style=\"text-align: right;\">\n",
              "      <th></th>\n",
              "      <th>연월</th>\n",
              "      <th>리뷰개수</th>\n",
              "      <th>리뷰비율</th>\n",
              "    </tr>\n",
              "  </thead>\n",
              "  <tbody>\n",
              "    <tr>\n",
              "      <th>0</th>\n",
              "      <td>2022-02</td>\n",
              "      <td>13</td>\n",
              "      <td>0.50</td>\n",
              "    </tr>\n",
              "    <tr>\n",
              "      <th>1</th>\n",
              "      <td>2022-03</td>\n",
              "      <td>26</td>\n",
              "      <td>0.51</td>\n",
              "    </tr>\n",
              "    <tr>\n",
              "      <th>2</th>\n",
              "      <td>2022-04</td>\n",
              "      <td>33</td>\n",
              "      <td>0.57</td>\n",
              "    </tr>\n",
              "    <tr>\n",
              "      <th>3</th>\n",
              "      <td>2022-05</td>\n",
              "      <td>25</td>\n",
              "      <td>0.46</td>\n",
              "    </tr>\n",
              "    <tr>\n",
              "      <th>4</th>\n",
              "      <td>2022-06</td>\n",
              "      <td>29</td>\n",
              "      <td>0.65</td>\n",
              "    </tr>\n",
              "    <tr>\n",
              "      <th>5</th>\n",
              "      <td>2022-07</td>\n",
              "      <td>25</td>\n",
              "      <td>0.66</td>\n",
              "    </tr>\n",
              "    <tr>\n",
              "      <th>6</th>\n",
              "      <td>2022-08</td>\n",
              "      <td>33</td>\n",
              "      <td>0.84</td>\n",
              "    </tr>\n",
              "    <tr>\n",
              "      <th>7</th>\n",
              "      <td>2022-09</td>\n",
              "      <td>19</td>\n",
              "      <td>0.54</td>\n",
              "    </tr>\n",
              "    <tr>\n",
              "      <th>8</th>\n",
              "      <td>2022-10</td>\n",
              "      <td>33</td>\n",
              "      <td>0.83</td>\n",
              "    </tr>\n",
              "    <tr>\n",
              "      <th>9</th>\n",
              "      <td>2022-11</td>\n",
              "      <td>28</td>\n",
              "      <td>0.75</td>\n",
              "    </tr>\n",
              "    <tr>\n",
              "      <th>10</th>\n",
              "      <td>2022-12</td>\n",
              "      <td>34</td>\n",
              "      <td>0.97</td>\n",
              "    </tr>\n",
              "    <tr>\n",
              "      <th>11</th>\n",
              "      <td>2023-01</td>\n",
              "      <td>35</td>\n",
              "      <td>0.98</td>\n",
              "    </tr>\n",
              "    <tr>\n",
              "      <th>12</th>\n",
              "      <td>2023-02</td>\n",
              "      <td>23</td>\n",
              "      <td>0.64</td>\n",
              "    </tr>\n",
              "    <tr>\n",
              "      <th>13</th>\n",
              "      <td>2023-03</td>\n",
              "      <td>37</td>\n",
              "      <td>0.83</td>\n",
              "    </tr>\n",
              "    <tr>\n",
              "      <th>14</th>\n",
              "      <td>2023-04</td>\n",
              "      <td>27</td>\n",
              "      <td>0.65</td>\n",
              "    </tr>\n",
              "    <tr>\n",
              "      <th>15</th>\n",
              "      <td>2023-05</td>\n",
              "      <td>19</td>\n",
              "      <td>0.45</td>\n",
              "    </tr>\n",
              "  </tbody>\n",
              "</table>\n",
              "</div>\n",
              "      <button class=\"colab-df-convert\" onclick=\"convertToInteractive('df-1ef7aca7-f06d-4723-b7c9-667560200cb7')\"\n",
              "              title=\"Convert this dataframe to an interactive table.\"\n",
              "              style=\"display:none;\">\n",
              "\n",
              "  <svg xmlns=\"http://www.w3.org/2000/svg\" height=\"24px\"viewBox=\"0 0 24 24\"\n",
              "       width=\"24px\">\n",
              "    <path d=\"M0 0h24v24H0V0z\" fill=\"none\"/>\n",
              "    <path d=\"M18.56 5.44l.94 2.06.94-2.06 2.06-.94-2.06-.94-.94-2.06-.94 2.06-2.06.94zm-11 1L8.5 8.5l.94-2.06 2.06-.94-2.06-.94L8.5 2.5l-.94 2.06-2.06.94zm10 10l.94 2.06.94-2.06 2.06-.94-2.06-.94-.94-2.06-.94 2.06-2.06.94z\"/><path d=\"M17.41 7.96l-1.37-1.37c-.4-.4-.92-.59-1.43-.59-.52 0-1.04.2-1.43.59L10.3 9.45l-7.72 7.72c-.78.78-.78 2.05 0 2.83L4 21.41c.39.39.9.59 1.41.59.51 0 1.02-.2 1.41-.59l7.78-7.78 2.81-2.81c.8-.78.8-2.07 0-2.86zM5.41 20L4 18.59l7.72-7.72 1.47 1.35L5.41 20z\"/>\n",
              "  </svg>\n",
              "      </button>\n",
              "\n",
              "\n",
              "\n",
              "    <div id=\"df-2b8d9e3a-f939-4eaa-92cd-c4fe8d3c21d4\">\n",
              "      <button class=\"colab-df-quickchart\" onclick=\"quickchart('df-2b8d9e3a-f939-4eaa-92cd-c4fe8d3c21d4')\"\n",
              "              title=\"Suggest charts.\"\n",
              "              style=\"display:none;\">\n",
              "\n",
              "<svg xmlns=\"http://www.w3.org/2000/svg\" height=\"24px\"viewBox=\"0 0 24 24\"\n",
              "     width=\"24px\">\n",
              "    <g>\n",
              "        <path d=\"M19 3H5c-1.1 0-2 .9-2 2v14c0 1.1.9 2 2 2h14c1.1 0 2-.9 2-2V5c0-1.1-.9-2-2-2zM9 17H7v-7h2v7zm4 0h-2V7h2v10zm4 0h-2v-4h2v4z\"/>\n",
              "    </g>\n",
              "</svg>\n",
              "      </button>\n",
              "    </div>\n",
              "\n",
              "<style>\n",
              "  .colab-df-quickchart {\n",
              "    background-color: #E8F0FE;\n",
              "    border: none;\n",
              "    border-radius: 50%;\n",
              "    cursor: pointer;\n",
              "    display: none;\n",
              "    fill: #1967D2;\n",
              "    height: 32px;\n",
              "    padding: 0 0 0 0;\n",
              "    width: 32px;\n",
              "  }\n",
              "\n",
              "  .colab-df-quickchart:hover {\n",
              "    background-color: #E2EBFA;\n",
              "    box-shadow: 0px 1px 2px rgba(60, 64, 67, 0.3), 0px 1px 3px 1px rgba(60, 64, 67, 0.15);\n",
              "    fill: #174EA6;\n",
              "  }\n",
              "\n",
              "  [theme=dark] .colab-df-quickchart {\n",
              "    background-color: #3B4455;\n",
              "    fill: #D2E3FC;\n",
              "  }\n",
              "\n",
              "  [theme=dark] .colab-df-quickchart:hover {\n",
              "    background-color: #434B5C;\n",
              "    box-shadow: 0px 1px 3px 1px rgba(0, 0, 0, 0.15);\n",
              "    filter: drop-shadow(0px 1px 2px rgba(0, 0, 0, 0.3));\n",
              "    fill: #FFFFFF;\n",
              "  }\n",
              "</style>\n",
              "\n",
              "    <script>\n",
              "      async function quickchart(key) {\n",
              "        const containerElement = document.querySelector('#' + key);\n",
              "        const charts = await google.colab.kernel.invokeFunction(\n",
              "            'suggestCharts', [key], {});\n",
              "      }\n",
              "    </script>\n",
              "\n",
              "      <script>\n",
              "\n",
              "function displayQuickchartButton(domScope) {\n",
              "  let quickchartButtonEl =\n",
              "    domScope.querySelector('#df-2b8d9e3a-f939-4eaa-92cd-c4fe8d3c21d4 button.colab-df-quickchart');\n",
              "  quickchartButtonEl.style.display =\n",
              "    google.colab.kernel.accessAllowed ? 'block' : 'none';\n",
              "}\n",
              "\n",
              "        displayQuickchartButton(document);\n",
              "      </script>\n",
              "      <style>\n",
              "    .colab-df-container {\n",
              "      display:flex;\n",
              "      flex-wrap:wrap;\n",
              "      gap: 12px;\n",
              "    }\n",
              "\n",
              "    .colab-df-convert {\n",
              "      background-color: #E8F0FE;\n",
              "      border: none;\n",
              "      border-radius: 50%;\n",
              "      cursor: pointer;\n",
              "      display: none;\n",
              "      fill: #1967D2;\n",
              "      height: 32px;\n",
              "      padding: 0 0 0 0;\n",
              "      width: 32px;\n",
              "    }\n",
              "\n",
              "    .colab-df-convert:hover {\n",
              "      background-color: #E2EBFA;\n",
              "      box-shadow: 0px 1px 2px rgba(60, 64, 67, 0.3), 0px 1px 3px 1px rgba(60, 64, 67, 0.15);\n",
              "      fill: #174EA6;\n",
              "    }\n",
              "\n",
              "    [theme=dark] .colab-df-convert {\n",
              "      background-color: #3B4455;\n",
              "      fill: #D2E3FC;\n",
              "    }\n",
              "\n",
              "    [theme=dark] .colab-df-convert:hover {\n",
              "      background-color: #434B5C;\n",
              "      box-shadow: 0px 1px 3px 1px rgba(0, 0, 0, 0.15);\n",
              "      filter: drop-shadow(0px 1px 2px rgba(0, 0, 0, 0.3));\n",
              "      fill: #FFFFFF;\n",
              "    }\n",
              "  </style>\n",
              "\n",
              "      <script>\n",
              "        const buttonEl =\n",
              "          document.querySelector('#df-1ef7aca7-f06d-4723-b7c9-667560200cb7 button.colab-df-convert');\n",
              "        buttonEl.style.display =\n",
              "          google.colab.kernel.accessAllowed ? 'block' : 'none';\n",
              "\n",
              "        async function convertToInteractive(key) {\n",
              "          const element = document.querySelector('#df-1ef7aca7-f06d-4723-b7c9-667560200cb7');\n",
              "          const dataTable =\n",
              "            await google.colab.kernel.invokeFunction('convertToInteractive',\n",
              "                                                     [key], {});\n",
              "          if (!dataTable) return;\n",
              "\n",
              "          const docLinkHtml = 'Like what you see? Visit the ' +\n",
              "            '<a target=\"_blank\" href=https://colab.research.google.com/notebooks/data_table.ipynb>data table notebook</a>'\n",
              "            + ' to learn more about interactive tables.';\n",
              "          element.innerHTML = '';\n",
              "          dataTable['output_type'] = 'display_data';\n",
              "          await google.colab.output.renderOutput(dataTable, element);\n",
              "          const docLink = document.createElement('div');\n",
              "          docLink.innerHTML = docLinkHtml;\n",
              "          element.appendChild(docLink);\n",
              "        }\n",
              "      </script>\n",
              "    </div>\n",
              "  </div>\n"
            ]
          },
          "metadata": {},
          "execution_count": 135
        }
      ]
    },
    {
      "cell_type": "code",
      "source": [
        "sns.barplot(x=df_r2['연월'], y=df_r2['리뷰비율'], data=df_r2, color='#8BBAF0', label='리뷰 작성 비율')\n",
        "\n",
        "plt.xlabel('날짜')\n",
        "plt.ylabel('비율 (단위 : %)')\n",
        "\n",
        "plt.legend()\n",
        "\n",
        "plt.xticks(rotation=45)\n",
        "\n",
        "plt.title('오프라인 월별 리뷰 작성 비율')\n",
        "\n",
        "plt.show()"
      ],
      "metadata": {
        "colab": {
          "base_uri": "https://localhost:8080/",
          "height": 504
        },
        "id": "FIJaq_HRM6hC",
        "outputId": "37bca5aa-6f02-4b3f-d0ab-8be8ee1fc98b"
      },
      "execution_count": null,
      "outputs": [
        {
          "output_type": "display_data",
          "data": {
            "text/plain": [
              "<Figure size 640x480 with 1 Axes>"
            ],
            "image/png": "[encoded data removed]"
          },
          "metadata": {}
        }
      ]
    },
    {
      "cell_type": "code",
      "source": [
        "sns.barplot(x=df_r2['연월'], y=df_r2['리뷰비율'], data=df_r2, color='#8BBAF0', label='리뷰 작성 비율')\n",
        "\n",
        "plt.xlabel('날짜')\n",
        "plt.ylabel('비율 (단위 : %)')\n",
        "\n",
        "plt.legend()\n",
        "\n",
        "plt.xticks(rotation=45)\n",
        "\n",
        "plt.title('오프라인 월별 리뷰 작성 비율')\n",
        "\n",
        "plt.show()"
      ],
      "metadata": {
        "id": "wRNWWN1A3xux"
      },
      "execution_count": null,
      "outputs": []
    },
    {
      "cell_type": "code",
      "source": [
        "df_pur = [2605,5134,5831,5382,4443,\n",
        "            3772,3933,3545,3998,3731,\n",
        "            3521,3568,3578,4436,4130,4267]"
      ],
      "metadata": {
        "id": "ahHmDLyB3xsa"
      },
      "execution_count": null,
      "outputs": []
    },
    {
      "cell_type": "code",
      "source": [
        "df_review = [13,26,33,25,29,25,33,19,33,28,34,35,23,37,27,19]"
      ],
      "metadata": {
        "id": "EtYKrQzpM6Zs"
      },
      "execution_count": null,
      "outputs": []
    },
    {
      "cell_type": "code",
      "source": [
        "df_date = ['2022-02','2022-03','2022-04','2022-05','2022-06','2022-07','2022-08','2022-09','2022-10','2022-11','2022-12','2023-01','2023-02','2023-03','2023-04','2023-05']"
      ],
      "metadata": {
        "id": "2xDeIIfF5SII"
      },
      "execution_count": null,
      "outputs": []
    },
    {
      "cell_type": "code",
      "source": [
        "import matplotlib.pyplot as plt\n",
        "\n",
        "# Figure와 서브플롯 생성\n",
        "fig, (ax1, ax2) = plt.subplots(1, 2, figsize=(10, 5))\n",
        "\n",
        "# 첫 번째 라인 차트\n",
        "ax1.plot(df_date, df_pur, label='월별 구매수', marker='o', linestyle='-', color='#8BBAF0')\n",
        "ax1.set_ylabel('개수')\n",
        "ax1.set_title('월별 구매수')\n",
        "ax1.legend()\n",
        "\n",
        "# 두 번째 라인 차트\n",
        "ax2.plot(df_date, df_review, label='월별 리뷰수', marker='o', linestyle='-', color='#ff9999')\n",
        "ax2.set_xlabel('날짜')\n",
        "ax2.set_ylabel('개수')\n",
        "ax2.set_title('월별 리뷰수')\n",
        "ax2.legend()\n",
        "\n",
        "# 서브플롯의 x축 눈금 레이블을 회전\n",
        "ax1.tick_params(axis='x', rotation=45)\n",
        "ax2.tick_params(axis='x', rotation=45)\n",
        "\n",
        "# 그래프 간 간격 조정\n",
        "plt.tight_layout()\n",
        "\n",
        "# 그래프 그리기\n",
        "plt.show()\n"
      ],
      "metadata": {
        "colab": {
          "base_uri": "https://localhost:8080/",
          "height": 507
        },
        "id": "rPeUieQU6Omf",
        "outputId": "95e9f525-f771-4ce0-cf91-d3509cac3db6"
      },
      "execution_count": null,
      "outputs": [
        {
          "output_type": "display_data",
          "data": {
            "text/plain": [
              "<Figure size 1000x500 with 2 Axes>"
            ],
            "image/png": "[encoded data removed]"
          },
          "metadata": {}
        }
      ]
    },
    {
      "cell_type": "code",
      "source": [
        "df_rm = []\n",
        "for i in range(len(df_review)):\n",
        "    df_rm.append(df_review[i] * 1800)"
      ],
      "metadata": {
        "id": "dqR4sY5s6Odr"
      },
      "execution_count": null,
      "outputs": []
    },
    {
      "cell_type": "code",
      "source": [
        "df_rm"
      ],
      "metadata": {
        "colab": {
          "base_uri": "https://localhost:8080/"
        },
        "id": "6K1GTDaLHnrV",
        "outputId": "bb223083-5d21-4f3a-895b-ec50b90ea6f2"
      },
      "execution_count": null,
      "outputs": [
        {
          "output_type": "execute_result",
          "data": {
            "text/plain": [
              "[23400,\n",
              " 46800,\n",
              " 59400,\n",
              " 45000,\n",
              " 52200,\n",
              " 45000,\n",
              " 59400,\n",
              " 34200,\n",
              " 59400,\n",
              " 50400,\n",
              " 61200,\n",
              " 63000,\n",
              " 41400,\n",
              " 66600,\n",
              " 48600,\n",
              " 34200]"
            ]
          },
          "metadata": {},
          "execution_count": 57
        }
      ]
    },
    {
      "cell_type": "code",
      "source": [
        "df_ad_date_sum = df_ad.groupby('연월')['합계'].sum()"
      ],
      "metadata": {
        "id": "nHzwmjuoIGgy"
      },
      "execution_count": null,
      "outputs": []
    },
    {
      "cell_type": "code",
      "source": [
        "df_ad_date_sum = pd.DataFrame(df_ad_date_sum)"
      ],
      "metadata": {
        "id": "UiPsmSlwIGgy"
      },
      "execution_count": null,
      "outputs": []
    },
    {
      "cell_type": "code",
      "source": [
        "df_ad_date_sum"
      ],
      "metadata": {
        "colab": {
          "base_uri": "https://localhost:8080/",
          "height": 582
        },
        "outputId": "4ee4fe45-0610-4351-b6a8-66fffdffaf32",
        "id": "w0MmvivgIGgz"
      },
      "execution_count": null,
      "outputs": [
        {
          "output_type": "execute_result",
          "data": {
            "text/plain": [
              "                합계\n",
              "연월                \n",
              "2022-02   48337300\n",
              "2022-03   93119200\n",
              "2022-04  100824800\n",
              "2022-05   97623600\n",
              "2022-06   81317700\n",
              "2022-07   70041802\n",
              "2022-08   71376200\n",
              "2022-09   66923300\n",
              "2022-10   73047700\n",
              "2022-11   66627200\n",
              "2022-12   63064000\n",
              "2023-01   67270000\n",
              "2023-02   66635300\n",
              "2023-03   81336200\n",
              "2023-04   77255500\n",
              "2023-05   81331700"
            ],
            "text/html": [
              "\n",
              "\n",
              "  <div id=\"df-2bc4d2db-64d3-4145-817e-ec0613e70506\">\n",
              "    <div class=\"colab-df-container\">\n",
              "      <div>\n",
              "<style scoped>\n",
              "    .dataframe tbody tr th:only-of-type {\n",
              "        vertical-align: middle;\n",
              "    }\n",
              "\n",
              "    .dataframe tbody tr th {\n",
              "        vertical-align: top;\n",
              "    }\n",
              "\n",
              "    .dataframe thead th {\n",
              "        text-align: right;\n",
              "    }\n",
              "</style>\n",
              "<table border=\"1\" class=\"dataframe\">\n",
              "  <thead>\n",
              "    <tr style=\"text-align: right;\">\n",
              "      <th></th>\n",
              "      <th>합계</th>\n",
              "    </tr>\n",
              "    <tr>\n",
              "      <th>연월</th>\n",
              "      <th></th>\n",
              "    </tr>\n",
              "  </thead>\n",
              "  <tbody>\n",
              "    <tr>\n",
              "      <th>2022-02</th>\n",
              "      <td>48337300</td>\n",
              "    </tr>\n",
              "    <tr>\n",
              "      <th>2022-03</th>\n",
              "      <td>93119200</td>\n",
              "    </tr>\n",
              "    <tr>\n",
              "      <th>2022-04</th>\n",
              "      <td>100824800</td>\n",
              "    </tr>\n",
              "    <tr>\n",
              "      <th>2022-05</th>\n",
              "      <td>97623600</td>\n",
              "    </tr>\n",
              "    <tr>\n",
              "      <th>2022-06</th>\n",
              "      <td>81317700</td>\n",
              "    </tr>\n",
              "    <tr>\n",
              "      <th>2022-07</th>\n",
              "      <td>70041802</td>\n",
              "    </tr>\n",
              "    <tr>\n",
              "      <th>2022-08</th>\n",
              "      <td>71376200</td>\n",
              "    </tr>\n",
              "    <tr>\n",
              "      <th>2022-09</th>\n",
              "      <td>66923300</td>\n",
              "    </tr>\n",
              "    <tr>\n",
              "      <th>2022-10</th>\n",
              "      <td>73047700</td>\n",
              "    </tr>\n",
              "    <tr>\n",
              "      <th>2022-11</th>\n",
              "      <td>66627200</td>\n",
              "    </tr>\n",
              "    <tr>\n",
              "      <th>2022-12</th>\n",
              "      <td>63064000</td>\n",
              "    </tr>\n",
              "    <tr>\n",
              "      <th>2023-01</th>\n",
              "      <td>67270000</td>\n",
              "    </tr>\n",
              "    <tr>\n",
              "      <th>2023-02</th>\n",
              "      <td>66635300</td>\n",
              "    </tr>\n",
              "    <tr>\n",
              "      <th>2023-03</th>\n",
              "      <td>81336200</td>\n",
              "    </tr>\n",
              "    <tr>\n",
              "      <th>2023-04</th>\n",
              "      <td>77255500</td>\n",
              "    </tr>\n",
              "    <tr>\n",
              "      <th>2023-05</th>\n",
              "      <td>81331700</td>\n",
              "    </tr>\n",
              "  </tbody>\n",
              "</table>\n",
              "</div>\n",
              "      <button class=\"colab-df-convert\" onclick=\"convertToInteractive('df-2bc4d2db-64d3-4145-817e-ec0613e70506')\"\n",
              "              title=\"Convert this dataframe to an interactive table.\"\n",
              "              style=\"display:none;\">\n",
              "\n",
              "  <svg xmlns=\"http://www.w3.org/2000/svg\" height=\"24px\"viewBox=\"0 0 24 24\"\n",
              "       width=\"24px\">\n",
              "    <path d=\"M0 0h24v24H0V0z\" fill=\"none\"/>\n",
              "    <path d=\"M18.56 5.44l.94 2.06.94-2.06 2.06-.94-2.06-.94-.94-2.06-.94 2.06-2.06.94zm-11 1L8.5 8.5l.94-2.06 2.06-.94-2.06-.94L8.5 2.5l-.94 2.06-2.06.94zm10 10l.94 2.06.94-2.06 2.06-.94-2.06-.94-.94-2.06-.94 2.06-2.06.94z\"/><path d=\"M17.41 7.96l-1.37-1.37c-.4-.4-.92-.59-1.43-.59-.52 0-1.04.2-1.43.59L10.3 9.45l-7.72 7.72c-.78.78-.78 2.05 0 2.83L4 21.41c.39.39.9.59 1.41.59.51 0 1.02-.2 1.41-.59l7.78-7.78 2.81-2.81c.8-.78.8-2.07 0-2.86zM5.41 20L4 18.59l7.72-7.72 1.47 1.35L5.41 20z\"/>\n",
              "  </svg>\n",
              "      </button>\n",
              "\n",
              "\n",
              "\n",
              "    <div id=\"df-3b777824-5365-4df2-ad9c-11272b072d88\">\n",
              "      <button class=\"colab-df-quickchart\" onclick=\"quickchart('df-3b777824-5365-4df2-ad9c-11272b072d88')\"\n",
              "              title=\"Suggest charts.\"\n",
              "              style=\"display:none;\">\n",
              "\n",
              "<svg xmlns=\"http://www.w3.org/2000/svg\" height=\"24px\"viewBox=\"0 0 24 24\"\n",
              "     width=\"24px\">\n",
              "    <g>\n",
              "        <path d=\"M19 3H5c-1.1 0-2 .9-2 2v14c0 1.1.9 2 2 2h14c1.1 0 2-.9 2-2V5c0-1.1-.9-2-2-2zM9 17H7v-7h2v7zm4 0h-2V7h2v10zm4 0h-2v-4h2v4z\"/>\n",
              "    </g>\n",
              "</svg>\n",
              "      </button>\n",
              "    </div>\n",
              "\n",
              "<style>\n",
              "  .colab-df-quickchart {\n",
              "    background-color: #E8F0FE;\n",
              "    border: none;\n",
              "    border-radius: 50%;\n",
              "    cursor: pointer;\n",
              "    display: none;\n",
              "    fill: #1967D2;\n",
              "    height: 32px;\n",
              "    padding: 0 0 0 0;\n",
              "    width: 32px;\n",
              "  }\n",
              "\n",
              "  .colab-df-quickchart:hover {\n",
              "    background-color: #E2EBFA;\n",
              "    box-shadow: 0px 1px 2px rgba(60, 64, 67, 0.3), 0px 1px 3px 1px rgba(60, 64, 67, 0.15);\n",
              "    fill: #174EA6;\n",
              "  }\n",
              "\n",
              "  [theme=dark] .colab-df-quickchart {\n",
              "    background-color: #3B4455;\n",
              "    fill: #D2E3FC;\n",
              "  }\n",
              "\n",
              "  [theme=dark] .colab-df-quickchart:hover {\n",
              "    background-color: #434B5C;\n",
              "    box-shadow: 0px 1px 3px 1px rgba(0, 0, 0, 0.15);\n",
              "    filter: drop-shadow(0px 1px 2px rgba(0, 0, 0, 0.3));\n",
              "    fill: #FFFFFF;\n",
              "  }\n",
              "</style>\n",
              "\n",
              "    <script>\n",
              "      async function quickchart(key) {\n",
              "        const containerElement = document.querySelector('#' + key);\n",
              "        const charts = await google.colab.kernel.invokeFunction(\n",
              "            'suggestCharts', [key], {});\n",
              "      }\n",
              "    </script>\n",
              "\n",
              "      <script>\n",
              "\n",
              "function displayQuickchartButton(domScope) {\n",
              "  let quickchartButtonEl =\n",
              "    domScope.querySelector('#df-3b777824-5365-4df2-ad9c-11272b072d88 button.colab-df-quickchart');\n",
              "  quickchartButtonEl.style.display =\n",
              "    google.colab.kernel.accessAllowed ? 'block' : 'none';\n",
              "}\n",
              "\n",
              "        displayQuickchartButton(document);\n",
              "      </script>\n",
              "      <style>\n",
              "    .colab-df-container {\n",
              "      display:flex;\n",
              "      flex-wrap:wrap;\n",
              "      gap: 12px;\n",
              "    }\n",
              "\n",
              "    .colab-df-convert {\n",
              "      background-color: #E8F0FE;\n",
              "      border: none;\n",
              "      border-radius: 50%;\n",
              "      cursor: pointer;\n",
              "      display: none;\n",
              "      fill: #1967D2;\n",
              "      height: 32px;\n",
              "      padding: 0 0 0 0;\n",
              "      width: 32px;\n",
              "    }\n",
              "\n",
              "    .colab-df-convert:hover {\n",
              "      background-color: #E2EBFA;\n",
              "      box-shadow: 0px 1px 2px rgba(60, 64, 67, 0.3), 0px 1px 3px 1px rgba(60, 64, 67, 0.15);\n",
              "      fill: #174EA6;\n",
              "    }\n",
              "\n",
              "    [theme=dark] .colab-df-convert {\n",
              "      background-color: #3B4455;\n",
              "      fill: #D2E3FC;\n",
              "    }\n",
              "\n",
              "    [theme=dark] .colab-df-convert:hover {\n",
              "      background-color: #434B5C;\n",
              "      box-shadow: 0px 1px 3px 1px rgba(0, 0, 0, 0.15);\n",
              "      filter: drop-shadow(0px 1px 2px rgba(0, 0, 0, 0.3));\n",
              "      fill: #FFFFFF;\n",
              "    }\n",
              "  </style>\n",
              "\n",
              "      <script>\n",
              "        const buttonEl =\n",
              "          document.querySelector('#df-2bc4d2db-64d3-4145-817e-ec0613e70506 button.colab-df-convert');\n",
              "        buttonEl.style.display =\n",
              "          google.colab.kernel.accessAllowed ? 'block' : 'none';\n",
              "\n",
              "        async function convertToInteractive(key) {\n",
              "          const element = document.querySelector('#df-2bc4d2db-64d3-4145-817e-ec0613e70506');\n",
              "          const dataTable =\n",
              "            await google.colab.kernel.invokeFunction('convertToInteractive',\n",
              "                                                     [key], {});\n",
              "          if (!dataTable) return;\n",
              "\n",
              "          const docLinkHtml = 'Like what you see? Visit the ' +\n",
              "            '<a target=\"_blank\" href=https://colab.research.google.com/notebooks/data_table.ipynb>data table notebook</a>'\n",
              "            + ' to learn more about interactive tables.';\n",
              "          element.innerHTML = '';\n",
              "          dataTable['output_type'] = 'display_data';\n",
              "          await google.colab.output.renderOutput(dataTable, element);\n",
              "          const docLink = document.createElement('div');\n",
              "          docLink.innerHTML = docLinkHtml;\n",
              "          element.appendChild(docLink);\n",
              "        }\n",
              "      </script>\n",
              "    </div>\n",
              "  </div>\n"
            ]
          },
          "metadata": {},
          "execution_count": 65
        }
      ]
    },
    {
      "cell_type": "code",
      "source": [
        "import matplotlib.pyplot as plt\n",
        "\n",
        "# 첫 번째 라인 차트\n",
        "plt.plot(df_date, df_rm, label='마케팅 비용', marker='o', linestyle='-', color='#8BBAF0')\n",
        "\n",
        "# X, Y 축 레이블\n",
        "plt.xlabel('날짜')\n",
        "plt.ylabel('비용(단위 : 원)')\n",
        "\n",
        "# 그래프 제목\n",
        "plt.title('월별 오프라인 최소 마케팅 비용')\n",
        "\n",
        "# 범례 표시\n",
        "plt.legend()\n",
        "\n",
        "plt.xticks(rotation=45)\n",
        "\n",
        "# 그래프 그리기\n",
        "plt.show()\n"
      ],
      "metadata": {
        "colab": {
          "base_uri": "https://localhost:8080/",
          "height": 504
        },
        "id": "hHbw40i4JA7N",
        "outputId": "bf96e26c-44ef-4937-b041-358303d73083"
      },
      "execution_count": null,
      "outputs": [
        {
          "output_type": "display_data",
          "data": {
            "text/plain": [
              "<Figure size 640x480 with 1 Axes>"
            ],
            "image/png": "[encoded data removed]"
          },
          "metadata": {}
        }
      ]
    },
    {
      "cell_type": "code",
      "source": [
        "df_rm10 = []\n",
        "for i in df_rm:\n",
        "    df_rm10.append(i*10)"
      ],
      "metadata": {
        "id": "tWpKBiZRImKK"
      },
      "execution_count": null,
      "outputs": []
    },
    {
      "cell_type": "code",
      "source": [
        "# 리뷰 작성률 10배 증가 시\n",
        "\n",
        "import matplotlib.pyplot as plt\n",
        "\n",
        "# 첫 번째 라인 차트\n",
        "plt.plot(df_date, df_rm10, label='마케팅 비용', marker='o', linestyle='-', color='#8BBAF0')\n",
        "\n",
        "# X, Y 축 레이블\n",
        "plt.xlabel('날짜')\n",
        "plt.ylabel('비용(단위 : 원)')\n",
        "\n",
        "# 그래프 제목\n",
        "plt.title('월별 오프라인 마케팅 비용(10배 증가)')\n",
        "\n",
        "# 범례 표시\n",
        "plt.legend()\n",
        "\n",
        "plt.xticks(rotation=45)\n",
        "\n",
        "# 그래프 그리기\n",
        "plt.show()"
      ],
      "metadata": {
        "colab": {
          "base_uri": "https://localhost:8080/",
          "height": 505
        },
        "id": "2_LIbxh5JA5T",
        "outputId": "24806cb0-068f-436e-e9fb-edaf176b5d64"
      },
      "execution_count": null,
      "outputs": [
        {
          "output_type": "display_data",
          "data": {
            "text/plain": [
              "<Figure size 640x480 with 1 Axes>"
            ],
            "image/png": "[encoded data removed]"
          },
          "metadata": {}
        }
      ]
    },
    {
      "cell_type": "code",
      "source": [
        "df_rm20 = []\n",
        "for i in df_rm:\n",
        "    df_rm20.append(i*20)"
      ],
      "metadata": {
        "id": "oviZ-aM2JXN7"
      },
      "execution_count": null,
      "outputs": []
    },
    {
      "cell_type": "code",
      "source": [
        "# 리뷰 작성률 20배 증가 시\n",
        "\n",
        "import matplotlib.pyplot as plt\n",
        "\n",
        "# 첫 번째 라인 차트\n",
        "plt.plot(df_date, df_rm20, label='마케팅 비용', marker='o', linestyle='-', color='#8BBAF0')\n",
        "\n",
        "# X, Y 축 레이블\n",
        "plt.xlabel('날짜')\n",
        "plt.ylabel('비용(단위 : 원)')\n",
        "\n",
        "# 그래프 제목\n",
        "plt.title('월별 오프라인 마케팅 비용(20배 증가)')\n",
        "\n",
        "# 범례 표시\n",
        "plt.legend()\n",
        "\n",
        "plt.xticks(rotation=45)\n",
        "\n",
        "# 그래프 그리기\n",
        "plt.show()"
      ],
      "metadata": {
        "colab": {
          "base_uri": "https://localhost:8080/",
          "height": 505
        },
        "id": "EBsI08x0JovE",
        "outputId": "75cffabe-8d4c-4874-e570-d9a829e17617"
      },
      "execution_count": null,
      "outputs": [
        {
          "output_type": "display_data",
          "data": {
            "text/plain": [
              "<Figure size 640x480 with 1 Axes>"
            ],
            "image/png": "[encoded data removed]"
          },
          "metadata": {}
        }
      ]
    },
    {
      "cell_type": "code",
      "source": [
        "import numpy as np\n",
        "\n",
        "average = np.mean(df_rm)\n",
        "average10 = np.mean(df_rm10)\n",
        "average20 = np.mean(df_rm20)\n",
        "print(average, average10, average20)"
      ],
      "metadata": {
        "colab": {
          "base_uri": "https://localhost:8080/"
        },
        "id": "zNFbhHRhJzld",
        "outputId": "cd53c1a7-8af4-40cf-ac76-3e3a3534db6d"
      },
      "execution_count": null,
      "outputs": [
        {
          "output_type": "stream",
          "name": "stdout",
          "text": [
            "49387.5 493875.0 987750.0\n"
          ]
        }
      ]
    },
    {
      "cell_type": "code",
      "source": [
        "df_sr = []\n",
        "for i in range(len(df_rm)):\n",
        "    df_sr.append(round((df_rm[i] / df_ad_date_sum['합계'][i])*100, 2))"
      ],
      "metadata": {
        "id": "aPhNR4paHTGi"
      },
      "execution_count": null,
      "outputs": []
    },
    {
      "cell_type": "code",
      "source": [
        "df_sr"
      ],
      "metadata": {
        "colab": {
          "base_uri": "https://localhost:8080/"
        },
        "id": "7_a7lDXfHTEg",
        "outputId": "1d72b6d0-7cfd-4c45-d083-04b4d49d8761"
      },
      "execution_count": null,
      "outputs": [
        {
          "output_type": "execute_result",
          "data": {
            "text/plain": [
              "[0.05,\n",
              " 0.05,\n",
              " 0.06,\n",
              " 0.05,\n",
              " 0.06,\n",
              " 0.06,\n",
              " 0.08,\n",
              " 0.05,\n",
              " 0.08,\n",
              " 0.08,\n",
              " 0.1,\n",
              " 0.09,\n",
              " 0.06,\n",
              " 0.08,\n",
              " 0.06,\n",
              " 0.04]"
            ]
          },
          "metadata": {},
          "execution_count": 67
        }
      ]
    },
    {
      "cell_type": "code",
      "source": [
        "import matplotlib.pyplot as plt\n",
        "\n",
        "# 첫 번째 라인 차트\n",
        "plt.plot(df_date, df_sr, label='마케팅 비용 비율', marker='o', linestyle='-', color='#8BBAF0')\n",
        "\n",
        "# X, Y 축 레이블\n",
        "plt.xlabel('날짜')\n",
        "plt.ylabel('비율(단위 : %)')\n",
        "\n",
        "# 그래프 제목\n",
        "plt.title('월별 오프라인 최소 마케팅 비용 비율')\n",
        "\n",
        "# 범례 표시\n",
        "plt.legend()\n",
        "\n",
        "plt.xticks(rotation=45)\n",
        "\n",
        "# 그래프 그리기\n",
        "plt.show()\n"
      ],
      "metadata": {
        "colab": {
          "base_uri": "https://localhost:8080/",
          "height": 504
        },
        "id": "0vUj2BRLImOY",
        "outputId": "1b3dffd1-fe9b-4cbc-a028-d8341ff0019d"
      },
      "execution_count": null,
      "outputs": [
        {
          "output_type": "display_data",
          "data": {
            "text/plain": [
              "<Figure size 640x480 with 1 Axes>"
            ],
            "image/png": "[encoded data removed]"
          },
          "metadata": {}
        }
      ]
    },
    {
      "cell_type": "code",
      "source": [
        "df_sr10 = []\n",
        "for i in range(len(df_rm)):\n",
        "    df_sr10.append(round((df_rm10[i] / df_ad_date_sum['합계'][i])*100, 2))"
      ],
      "metadata": {
        "id": "Sdc8GRkcMJH_"
      },
      "execution_count": null,
      "outputs": []
    },
    {
      "cell_type": "code",
      "source": [
        "# 10배 증가 시 마케팅 비용\n",
        "\n",
        "import matplotlib.pyplot as plt\n",
        "\n",
        "# 첫 번째 라인 차트\n",
        "plt.plot(df_date, df_sr10, label='마케팅 비용 비율', marker='o', linestyle='-', color='#8BBAF0')\n",
        "\n",
        "# X, Y 축 레이블\n",
        "plt.xlabel('날짜')\n",
        "plt.ylabel('비율(단위 : %)')\n",
        "\n",
        "# 그래프 제목\n",
        "plt.title('월별 오프라인 마케팅 비용 비율(10배 증가)')\n",
        "\n",
        "# 범례 표시\n",
        "plt.legend()\n",
        "\n",
        "plt.xticks(rotation=45)\n",
        "\n",
        "# 그래프 그리기\n",
        "plt.show()\n"
      ],
      "metadata": {
        "colab": {
          "base_uri": "https://localhost:8080/",
          "height": 505
        },
        "id": "9oqUhG_6MJGE",
        "outputId": "ec43b365-6c02-4acb-dbb5-c4c9520c5709"
      },
      "execution_count": null,
      "outputs": [
        {
          "output_type": "display_data",
          "data": {
            "text/plain": [
              "<Figure size 640x480 with 1 Axes>"
            ],
            "image/png": "[encoded data removed]"
          },
          "metadata": {}
        }
      ]
    },
    {
      "cell_type": "code",
      "source": [
        "df_sr20 = []\n",
        "for i in range(len(df_rm)):\n",
        "    df_sr20.append(round((df_rm20[i] / df_ad_date_sum['합계'][i])*100, 2))"
      ],
      "metadata": {
        "id": "3aJOdY5AMadA"
      },
      "execution_count": null,
      "outputs": []
    },
    {
      "cell_type": "code",
      "source": [
        "# 20배 증가 시 마케팅 비용\n",
        "\n",
        "import matplotlib.pyplot as plt\n",
        "\n",
        "# 첫 번째 라인 차트\n",
        "plt.plot(df_date, df_sr20, label='마케팅 비용 비율', marker='o', linestyle='-', color='#8BBAF0')\n",
        "\n",
        "# X, Y 축 레이블\n",
        "plt.xlabel('날짜')\n",
        "plt.ylabel('비율(단위 : %)')\n",
        "\n",
        "# 그래프 제목\n",
        "plt.title('월별 오프라인 마케팅 비용 비율(20배 증가)')\n",
        "\n",
        "# 범례 표시\n",
        "plt.legend()\n",
        "\n",
        "plt.xticks(rotation=45)\n",
        "\n",
        "# 그래프 그리기\n",
        "plt.show()\n"
      ],
      "metadata": {
        "colab": {
          "base_uri": "https://localhost:8080/",
          "height": 505
        },
        "id": "kYnW_Q9_Mabd",
        "outputId": "0f5ee7aa-c925-4d60-c684-e273f9a07a8a"
      },
      "execution_count": null,
      "outputs": [
        {
          "output_type": "display_data",
          "data": {
            "text/plain": [
              "<Figure size 640x480 with 1 Axes>"
            ],
            "image/png": "[encoded data removed]"
          },
          "metadata": {}
        }
      ]
    },
    {
      "cell_type": "code",
      "source": [],
      "metadata": {
        "id": "MtpFCS0jJotG"
      },
      "execution_count": null,
      "outputs": []
    },
    {
      "cell_type": "code",
      "source": [],
      "metadata": {
        "id": "Xti7b3XA5RPp"
      },
      "execution_count": null,
      "outputs": []
    },
    {
      "cell_type": "markdown",
      "source": [
        "# 커피템플 온라인 리뷰 마케팅 비용"
      ],
      "metadata": {
        "id": "UkJT8OXaO7px"
      }
    },
    {
      "cell_type": "code",
      "source": [
        "import matplotlib.pyplot as plt\n",
        "\n",
        "# 데이터 예시 (라벨과 값)\n",
        "labels = ['마케팅비용', '매출']\n",
        "values = [3.97, 96.03]\n",
        "\n",
        "# 색상 설정\n",
        "colors = ['#ff9999', '#66b3ff']\n",
        "\n",
        "explode = (0.1, 0)\n",
        "\n",
        "# Figure 크기 지정\n",
        "plt.figure(figsize=(6, 6))\n",
        "\n",
        "# 파이 차트 그리기\n",
        "plt.pie(values, labels=labels, colors=colors, autopct='%.2f%%', startangle=90, explode=explode)\n",
        "\n",
        "# 차트 타이틀\n",
        "plt.title('온라인 리뷰이벤트 최소 마케팅 비용 비율')\n",
        "\n",
        "# 파이 차트 그리기\n",
        "plt.show()\n"
      ],
      "metadata": {
        "colab": {
          "base_uri": "https://localhost:8080/",
          "height": 520
        },
        "id": "vdI556G9M6LP",
        "outputId": "e98dae4d-9998-452d-f413-93f4930a49fa"
      },
      "execution_count": null,
      "outputs": [
        {
          "output_type": "display_data",
          "data": {
            "text/plain": [
              "<Figure size 600x600 with 1 Axes>"
            ],
            "image/png": "[encoded data removed]"
          },
          "metadata": {}
        }
      ]
    },
    {
      "cell_type": "code",
      "source": [
        "# 데이터 예시 (라벨과 값)\n",
        "labels = ['마케팅비용', '매출']\n",
        "values = [6.25, 93.75]\n",
        "\n",
        "# 색상 설정\n",
        "colors = ['#ff9999', '#66b3ff']\n",
        "\n",
        "explode = (0.1, 0)\n",
        "\n",
        "# Figure 크기 지정\n",
        "plt.figure(figsize=(6, 6))\n",
        "\n",
        "# 파이 차트 그리기\n",
        "plt.pie(values, labels=labels, colors=colors, autopct='%.2f%%', startangle=90, explode=explode)\n",
        "\n",
        "# 차트 타이틀\n",
        "plt.title('온라인 리뷰이벤트 최대 마케팅 비용 비율')\n",
        "\n",
        "# 파이 차트 그리기\n",
        "plt.show()"
      ],
      "metadata": {
        "colab": {
          "base_uri": "https://localhost:8080/",
          "height": 520
        },
        "id": "ZfClQpY8vB-a",
        "outputId": "670ba4e5-c805-4389-a753-62865c3b2bb6"
      },
      "execution_count": null,
      "outputs": [
        {
          "output_type": "display_data",
          "data": {
            "text/plain": [
              "<Figure size 600x600 with 1 Axes>"
            ],
            "image/png": "[encoded data removed]"
          },
          "metadata": {}
        }
      ]
    },
    {
      "cell_type": "code",
      "source": [
        "# 드립백 제공 시\n",
        "\n",
        "# 데이터 예시 (라벨과 값)\n",
        "labels = ['마케팅비용', '매출']\n",
        "values = [9.21, 90.79]\n",
        "\n",
        "# 색상 설정\n",
        "colors = ['#ff9999', '#66b3ff']\n",
        "\n",
        "explode = (0.1, 0)\n",
        "\n",
        "# Figure 크기 지정\n",
        "plt.figure(figsize=(6, 6))\n",
        "\n",
        "# 파이 차트 그리기\n",
        "plt.pie(values, labels=labels, colors=colors, autopct='%.2f%%', startangle=90, explode=explode)\n",
        "\n",
        "# 차트 타이틀\n",
        "plt.title('온라인 리뷰이벤트 마케팅 비용 비율')\n",
        "\n",
        "# 파이 차트 그리기\n",
        "plt.show()"
      ],
      "metadata": {
        "colab": {
          "base_uri": "https://localhost:8080/",
          "height": 520
        },
        "id": "7ypfybAxxghh",
        "outputId": "2f963570-2cc4-4976-a2dd-dcb162b2bd14"
      },
      "execution_count": null,
      "outputs": [
        {
          "output_type": "display_data",
          "data": {
            "text/plain": [
              "<Figure size 600x600 with 1 Axes>"
            ],
            "image/png": "[encoded data removed]"
          },
          "metadata": {}
        }
      ]
    },
    {
      "cell_type": "code",
      "source": [
        "# 드립백 제공 시\n",
        "\n",
        "# 데이터 예시 (라벨과 값)\n",
        "labels = ['마케팅비용', '매출']\n",
        "values = [11.25, 88.75]\n",
        "\n",
        "# 색상 설정\n",
        "colors = ['#ff9999', '#66b3ff']\n",
        "\n",
        "explode = (0.1, 0)\n",
        "\n",
        "# Figure 크기 지정\n",
        "plt.figure(figsize=(6, 6))\n",
        "\n",
        "# 파이 차트 그리기\n",
        "plt.pie(values, labels=labels, colors=colors, autopct='%.2f%%', startangle=90, explode=explode)\n",
        "\n",
        "# 차트 타이틀\n",
        "plt.title('온라인 리뷰이벤트 최대 마케팅 비용 비율')\n",
        "\n",
        "# 파이 차트 그리기\n",
        "plt.show()"
      ],
      "metadata": {
        "colab": {
          "base_uri": "https://localhost:8080/",
          "height": 520
        },
        "id": "AlkpgvchydFv",
        "outputId": "4ebc6663-41af-47dc-c5ab-47fb8b8efeb7"
      },
      "execution_count": null,
      "outputs": [
        {
          "output_type": "display_data",
          "data": {
            "text/plain": [
              "<Figure size 600x600 with 1 Axes>"
            ],
            "image/png": "[encoded data removed]"
          },
          "metadata": {}
        }
      ]
    },
    {
      "cell_type": "markdown",
      "source": [
        "# 온라인 리뷰전환율"
      ],
      "metadata": {
        "id": "lLAv892MHKbj"
      }
    },
    {
      "cell_type": "code",
      "source": [
        "# 데이터 예시 (라벨과 값)\n",
        "labels = ['리뷰작성', '리뷰미작성']\n",
        "values = [82.04, 17.96]\n",
        "\n",
        "# 색상 설정\n",
        "colors = ['#66b3ff', '#ff9999']\n",
        "\n",
        "explode = (0.1, 0)\n",
        "\n",
        "# Figure 크기 지정\n",
        "plt.figure(figsize=(6, 6))\n",
        "\n",
        "# 파이 차트 그리기\n",
        "plt.pie(values, labels=labels, colors=colors, autopct='%.2f%%', startangle=90, explode=explode)\n",
        "\n",
        "# 차트 타이틀\n",
        "plt.title('온라인 리뷰 작성 전환율([원두커피] 쥬시 블렌딩 200g)')\n",
        "\n",
        "# 파이 차트 그리기\n",
        "plt.show()"
      ],
      "metadata": {
        "colab": {
          "base_uri": "https://localhost:8080/",
          "height": 521
        },
        "id": "KWT7JJ--HSie",
        "outputId": "6e18b0dd-3ab2-4e27-ce30-19c738d3a378"
      },
      "execution_count": null,
      "outputs": [
        {
          "output_type": "display_data",
          "data": {
            "text/plain": [
              "<Figure size 600x600 with 1 Axes>"
            ],
            "image/png": "[encoded data removed]"
          },
          "metadata": {}
        }
      ]
    },
    {
      "cell_type": "code",
      "source": [
        "# 데이터 예시 (라벨과 값)\n",
        "labels = ['리뷰작성', '리뷰미작성']\n",
        "values = [99.15, 0.85]\n",
        "\n",
        "# 색상 설정\n",
        "colors = ['#66b3ff', '#ff9999']\n",
        "\n",
        "explode = (0.1, 0)\n",
        "\n",
        "# Figure 크기 지정\n",
        "plt.figure(figsize=(6, 6))\n",
        "\n",
        "# 파이 차트 그리기\n",
        "plt.pie(values, labels=labels, colors=colors, autopct='%.2f%%', startangle=90, explode=explode)\n",
        "\n",
        "# 차트 타이틀\n",
        "plt.title('온라인 리뷰 작성 전환율([원두커피] 클래식 블렌딩 200g)')\n",
        "\n",
        "# 파이 차트 그리기\n",
        "plt.show()"
      ],
      "metadata": {
        "colab": {
          "base_uri": "https://localhost:8080/",
          "height": 521
        },
        "id": "yu4HV5h0HSie",
        "outputId": "aa48d065-4fb8-4c62-9013-0e78abc710d9"
      },
      "execution_count": null,
      "outputs": [
        {
          "output_type": "display_data",
          "data": {
            "text/plain": [
              "<Figure size 600x600 with 1 Axes>"
            ],
            "image/png": "[encoded data removed]"
          },
          "metadata": {}
        }
      ]
    },
    {
      "cell_type": "code",
      "source": [
        "# 데이터 예시 (라벨과 값)\n",
        "labels = ['리뷰작성', '리뷰미작성']\n",
        "values = [79.58, 20.42]\n",
        "\n",
        "# 색상 설정\n",
        "colors = ['#66b3ff', '#ff9999']\n",
        "\n",
        "explode = (0.1, 0)\n",
        "\n",
        "# Figure 크기 지정\n",
        "plt.figure(figsize=(6, 6))\n",
        "\n",
        "# 파이 차트 그리기\n",
        "plt.pie(values, labels=labels, colors=colors, autopct='%.2f%%', startangle=90, explode=explode)\n",
        "\n",
        "# 차트 타이틀\n",
        "plt.title('온라인 리뷰 작성 전환율([대용량/원두커피] 쥬시 블렌딩 1kg)')\n",
        "\n",
        "# 파이 차트 그리기\n",
        "plt.show()"
      ],
      "metadata": {
        "colab": {
          "base_uri": "https://localhost:8080/",
          "height": 521
        },
        "id": "Nyp0HJaCBr-2",
        "outputId": "924fd2ab-720c-4c94-ed8f-6a26ca7ee043"
      },
      "execution_count": null,
      "outputs": [
        {
          "output_type": "display_data",
          "data": {
            "text/plain": [
              "<Figure size 600x600 with 1 Axes>"
            ],
            "image/png": "[encoded data removed]"
          },
          "metadata": {}
        }
      ]
    },
    {
      "cell_type": "code",
      "source": [
        "# 데이터 예시 (라벨과 값)\n",
        "labels = ['리뷰작성', '리뷰미작성']\n",
        "values = [88.31, 11.69]\n",
        "\n",
        "# 색상 설정\n",
        "colors = ['#66b3ff', '#ff9999']\n",
        "\n",
        "explode = (0.1, 0)\n",
        "\n",
        "# Figure 크기 지정\n",
        "plt.figure(figsize=(6, 6))\n",
        "\n",
        "# 파이 차트 그리기\n",
        "plt.pie(values, labels=labels, colors=colors, autopct='%.2f%%', startangle=90, explode=explode)\n",
        "\n",
        "# 차트 타이틀\n",
        "plt.title('온라인 리뷰 작성 전환율([대용량/원두커피] 클래식 블렌딩 1kg)')\n",
        "\n",
        "# 파이 차트 그리기\n",
        "plt.show()"
      ],
      "metadata": {
        "colab": {
          "base_uri": "https://localhost:8080/",
          "height": 521
        },
        "id": "cJ6scxVnBr9A",
        "outputId": "f2373ffa-914b-4555-a92d-2da110367fb4"
      },
      "execution_count": null,
      "outputs": [
        {
          "output_type": "display_data",
          "data": {
            "text/plain": [
              "<Figure size 600x600 with 1 Axes>"
            ],
            "image/png": "[encoded data removed]"
          },
          "metadata": {}
        }
      ]
    },
    {
      "cell_type": "code",
      "source": [
        "# 스마트스토어 구매 Top4 리뷰전환율 평균\n",
        "\n",
        "labels = ['리뷰작성', '리뷰미작성']\n",
        "values = [87.27, 12.73]\n",
        "\n",
        "# 색상 설정\n",
        "colors = ['#66b3ff', '#ff9999']\n",
        "\n",
        "explode = (0.1, 0)\n",
        "\n",
        "# Figure 크기 지정\n",
        "plt.figure(figsize=(6, 6))\n",
        "\n",
        "# 파이 차트 그리기\n",
        "plt.pie(values, labels=labels, colors=colors, autopct='%.2f%%', startangle=90, explode=explode)\n",
        "\n",
        "# 차트 타이틀\n",
        "plt.title('온라인 구매 Top4 리뷰 작성 평균 전환율')\n",
        "\n",
        "# 파이 차트 그리기\n",
        "plt.show()"
      ],
      "metadata": {
        "colab": {
          "base_uri": "https://localhost:8080/",
          "height": 520
        },
        "id": "l4QAMi3aBr6o",
        "outputId": "e253ad1e-b760-45af-b468-b99c03ef5d3b"
      },
      "execution_count": null,
      "outputs": [
        {
          "output_type": "display_data",
          "data": {
            "text/plain": [
              "<Figure size 600x600 with 1 Axes>"
            ],
            "image/png": "[encoded data removed]"
          },
          "metadata": {}
        }
      ]
    },
    {
      "cell_type": "code",
      "source": [
        "# 평균 별점\n",
        "df_star = {'별점':[5, 5, 4.9, 4.9],\n",
        "           '순위' : [1, 2, 3, 4]}\n",
        "\n",
        "sns.barplot(x='순위', y='별점', data=df_star, color = '#ff9999')\n",
        "\n",
        "# 평균 추세선 그리기\n",
        "mean_value = 4.95\n",
        "plt.axhline(y=mean_value, color='red', linestyle='--', label='평균')\n",
        "\n",
        "plt.xlabel('순위')\n",
        "plt.ylabel('별점')\n",
        "\n",
        "plt.legend()\n",
        "\n",
        "plt.title('커피템플 온라인 구매 Top4 별점')\n",
        "\n",
        "# plt.xticks(rotation = 45)\n",
        "\n",
        "plt.show()"
      ],
      "metadata": {
        "id": "JV0DmxTXBr4k",
        "colab": {
          "base_uri": "https://localhost:8080/",
          "height": 469
        },
        "outputId": "a62616bb-3fe7-46c4-f936-39594a74162d"
      },
      "execution_count": null,
      "outputs": [
        {
          "output_type": "display_data",
          "data": {
            "text/plain": [
              "<Figure size 640x480 with 1 Axes>"
            ],
            "image/png": "[encoded data removed]"
          },
          "metadata": {}
        }
      ]
    }
  ]
}