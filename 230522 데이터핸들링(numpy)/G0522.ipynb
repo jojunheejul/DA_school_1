{
  "nbformat": 4,
  "nbformat_minor": 0,
  "metadata": {
    "colab": {
      "provenance": []
    },
    "kernelspec": {
      "name": "python3",
      "display_name": "Python 3"
    },
    "language_info": {
      "name": "python"
    }
  },
  "cells": [
    {
      "cell_type": "code",
      "execution_count": 1,
      "metadata": {
        "id": "CY0hvwHR0Xmx"
      },
      "outputs": [],
      "source": [
        "import numpy as np"
      ]
    },
    {
      "cell_type": "code",
      "source": [
        "a = np.array([1, 2, 3, 4]) #1차원 배열 생성"
      ],
      "metadata": {
        "id": "qEp1qC-E2RQW"
      },
      "execution_count": 2,
      "outputs": []
    },
    {
      "cell_type": "code",
      "source": [
        "print(a)"
      ],
      "metadata": {
        "colab": {
          "base_uri": "https://localhost:8080/"
        },
        "id": "K4_P5q912d1j",
        "outputId": "e33bbfd7-9424-4b00-ebac-8e859d87e993"
      },
      "execution_count": 3,
      "outputs": [
        {
          "output_type": "stream",
          "name": "stdout",
          "text": [
            "[1 2 3 4]\n"
          ]
        }
      ]
    },
    {
      "cell_type": "code",
      "source": [
        "l = [1, 2, 3, 4]\n",
        "print(l)"
      ],
      "metadata": {
        "colab": {
          "base_uri": "https://localhost:8080/"
        },
        "id": "-YeiVipa2iIC",
        "outputId": "17d766ce-aa60-485f-8687-55bd7cf774d3"
      },
      "execution_count": 4,
      "outputs": [
        {
          "output_type": "stream",
          "name": "stdout",
          "text": [
            "[1, 2, 3, 4]\n"
          ]
        }
      ]
    },
    {
      "cell_type": "code",
      "source": [
        "print(a.shape) # 4행 0열(튜플)"
      ],
      "metadata": {
        "colab": {
          "base_uri": "https://localhost:8080/"
        },
        "id": "7wWhEqpR2sG4",
        "outputId": "3078a6f3-8a20-49df-c88e-a5aabdb626a0"
      },
      "execution_count": 5,
      "outputs": [
        {
          "output_type": "stream",
          "name": "stdout",
          "text": [
            "(4,)\n"
          ]
        }
      ]
    },
    {
      "cell_type": "code",
      "source": [
        "print(a.ndim)"
      ],
      "metadata": {
        "colab": {
          "base_uri": "https://localhost:8080/"
        },
        "id": "AGSv6YYw3CIP",
        "outputId": "5b08f699-cb35-4e04-edf6-e3e4550f0bb0"
      },
      "execution_count": 6,
      "outputs": [
        {
          "output_type": "stream",
          "name": "stdout",
          "text": [
            "1\n"
          ]
        }
      ]
    },
    {
      "cell_type": "code",
      "source": [
        "print(a.dtype) # 배열의 데이터 타입"
      ],
      "metadata": {
        "colab": {
          "base_uri": "https://localhost:8080/"
        },
        "id": "JeHyzSBq3LEZ",
        "outputId": "c35a3d6f-9b4c-499a-c66f-afb32ee6b93a"
      },
      "execution_count": 7,
      "outputs": [
        {
          "output_type": "stream",
          "name": "stdout",
          "text": [
            "int64\n"
          ]
        }
      ]
    },
    {
      "cell_type": "code",
      "source": [
        "print(a.itemsize) # 각 요소의 바이트 단위 크기"
      ],
      "metadata": {
        "colab": {
          "base_uri": "https://localhost:8080/"
        },
        "id": "PEV56RAe3TEF",
        "outputId": "d57234b9-9ee6-4b40-8219-43a85e5525b6"
      },
      "execution_count": 8,
      "outputs": [
        {
          "output_type": "stream",
          "name": "stdout",
          "text": [
            "8\n"
          ]
        }
      ]
    },
    {
      "cell_type": "code",
      "source": [
        "b = np.array([[1, 2], [3,4]])\n",
        "print(b)"
      ],
      "metadata": {
        "colab": {
          "base_uri": "https://localhost:8080/"
        },
        "id": "-21xx8Zj3jsa",
        "outputId": "f070d770-c434-4d41-993f-1ec12ad28053"
      },
      "execution_count": 9,
      "outputs": [
        {
          "output_type": "stream",
          "name": "stdout",
          "text": [
            "[[1 2]\n",
            " [3 4]]\n"
          ]
        }
      ]
    },
    {
      "cell_type": "code",
      "source": [
        "print(b)\n",
        "print(b.ndim)\n",
        "print(b.dtype)\n",
        "print(b.dtype)\n",
        "print(b.nbytes)"
      ],
      "metadata": {
        "colab": {
          "base_uri": "https://localhost:8080/"
        },
        "id": "bQu70afz36KL",
        "outputId": "793b6b5d-a8b7-4cc5-de57-342e81fcdc35"
      },
      "execution_count": 10,
      "outputs": [
        {
          "output_type": "stream",
          "name": "stdout",
          "text": [
            "[[1 2]\n",
            " [3 4]]\n",
            "2\n",
            "int64\n",
            "int64\n",
            "32\n"
          ]
        }
      ]
    },
    {
      "cell_type": "code",
      "source": [
        "c = np.array([[[1, 2], [3,4]], [[5, 6],[7, 8]]])\n",
        "\n",
        "print(c)\n",
        "print(c.ndim)\n",
        "print(c.dtype)\n",
        "print(c.dtype)\n",
        "print(c.nbytes)"
      ],
      "metadata": {
        "colab": {
          "base_uri": "https://localhost:8080/"
        },
        "id": "ABvV0Hc44OPF",
        "outputId": "643b170d-148d-4ff0-b751-fe05e8d7ae42"
      },
      "execution_count": 11,
      "outputs": [
        {
          "output_type": "stream",
          "name": "stdout",
          "text": [
            "[[[1 2]\n",
            "  [3 4]]\n",
            "\n",
            " [[5 6]\n",
            "  [7 8]]]\n",
            "3\n",
            "int64\n",
            "int64\n",
            "64\n"
          ]
        }
      ]
    },
    {
      "cell_type": "code",
      "source": [
        "#하나의 숫자값: 스칼라\n",
        "\n",
        "s = np.array(1)\n",
        "print(s)"
      ],
      "metadata": {
        "colab": {
          "base_uri": "https://localhost:8080/"
        },
        "id": "t1DqrOgy5OhL",
        "outputId": "07140891-9c9a-457e-ddbd-2035bfbe140d"
      },
      "execution_count": 12,
      "outputs": [
        {
          "output_type": "stream",
          "name": "stdout",
          "text": [
            "1\n"
          ]
        }
      ]
    },
    {
      "cell_type": "code",
      "source": [
        "# 1차원 : 백터 \n",
        "# 2차원 : 행렬(matrix) \n",
        "# 3차원 : 텐서(tensor) "
      ],
      "metadata": {
        "id": "3KuXnUbt5dU4"
      },
      "execution_count": null,
      "outputs": []
    },
    {
      "cell_type": "code",
      "source": [
        "# for 문을 이용해서 베영 생성\n",
        "\n",
        "f = np.array([i for i in range(0, 10, 2)])\n",
        "\n",
        "print(f)\n",
        "print(f.ndim)\n",
        "print(f.dtype)\n",
        "print(f.itemsize)\n",
        "print(f.nbytes)"
      ],
      "metadata": {
        "colab": {
          "base_uri": "https://localhost:8080/"
        },
        "id": "mq7fXGqE6MI9",
        "outputId": "f15c0961-8aa5-4d71-be31-4721e442030b"
      },
      "execution_count": 15,
      "outputs": [
        {
          "output_type": "stream",
          "name": "stdout",
          "text": [
            "[0 2 4 6 8]\n",
            "1\n",
            "int64\n",
            "8\n",
            "40\n"
          ]
        }
      ]
    },
    {
      "cell_type": "code",
      "source": [
        "data = [1.1, 2, 3]\n",
        "\n",
        "i = np.array(data, dtype=np.int32)\n",
        "print(i)"
      ],
      "metadata": {
        "colab": {
          "base_uri": "https://localhost:8080/"
        },
        "id": "81XrwziO7lR4",
        "outputId": "6b0aa19d-4667-4283-c143-4e35c8f24195"
      },
      "execution_count": 16,
      "outputs": [
        {
          "output_type": "stream",
          "name": "stdout",
          "text": [
            "[1 2 3]\n"
          ]
        }
      ]
    },
    {
      "cell_type": "code",
      "source": [
        "print(i.dtype)"
      ],
      "metadata": {
        "colab": {
          "base_uri": "https://localhost:8080/"
        },
        "id": "Wg2laWaZ_qK8",
        "outputId": "1791ce9c-88ea-4fdb-e5a8-9deb516fbefb"
      },
      "execution_count": 17,
      "outputs": [
        {
          "output_type": "stream",
          "name": "stdout",
          "text": [
            "int32\n"
          ]
        }
      ]
    },
    {
      "cell_type": "code",
      "source": [
        "data2 = [-1, 2, 3]\n",
        "\n",
        "ui = np.array(data2, dtype=np.uint32)\n",
        "print(ui)"
      ],
      "metadata": {
        "colab": {
          "base_uri": "https://localhost:8080/"
        },
        "id": "fpA_NH4QAKWA",
        "outputId": "decd57a3-823a-4ae7-cdea-802d1bc2ef7b"
      },
      "execution_count": 18,
      "outputs": [
        {
          "output_type": "stream",
          "name": "stdout",
          "text": [
            "[4294967295          2          3]\n"
          ]
        }
      ]
    },
    {
      "cell_type": "code",
      "source": [
        "c = np.array([1 + 2j, 3 + 2j, 5 + 2j], dtype=np.complex64)"
      ],
      "metadata": {
        "id": "sLdVD0h2BfW3"
      },
      "execution_count": 22,
      "outputs": []
    },
    {
      "cell_type": "code",
      "source": [
        "print(c.real) # 실수\n",
        "print(c.imag) # 허수\n"
      ],
      "metadata": {
        "colab": {
          "base_uri": "https://localhost:8080/"
        },
        "id": "m2PMqKPpB2OH",
        "outputId": "d81af058-1843-4836-e2a3-55cb2ace5683"
      },
      "execution_count": 23,
      "outputs": [
        {
          "output_type": "stream",
          "name": "stdout",
          "text": [
            "[1. 3. 5.]\n",
            "[2. 2. 2.]\n"
          ]
        }
      ]
    },
    {
      "cell_type": "code",
      "source": [
        "data = [1, 2, 3]\n",
        "\n",
        "s = np.string_(data)\n",
        "print(s)"
      ],
      "metadata": {
        "colab": {
          "base_uri": "https://localhost:8080/"
        },
        "id": "ytq0bIiwCN4d",
        "outputId": "46c94bd9-b692-4b9b-e3db-2047fb654fe6"
      },
      "execution_count": 24,
      "outputs": [
        {
          "output_type": "stream",
          "name": "stdout",
          "text": [
            "b'\\x01\\x02\\x03'\n"
          ]
        }
      ]
    },
    {
      "cell_type": "code",
      "source": [
        "print(s.dtype)"
      ],
      "metadata": {
        "colab": {
          "base_uri": "https://localhost:8080/"
        },
        "id": "NzAXOCI-ClyX",
        "outputId": "8bb3729a-eab6-4232-98f7-febf426ed7e6"
      },
      "execution_count": 25,
      "outputs": [
        {
          "output_type": "stream",
          "name": "stdout",
          "text": [
            "|S3\n"
          ]
        }
      ]
    },
    {
      "cell_type": "code",
      "source": [
        "data3 = [1, 2, 3, 4, 5]\n",
        "\n",
        "s2 = np.string_(data3)\n",
        "print(s2)\n",
        "print(s2.dtype)"
      ],
      "metadata": {
        "colab": {
          "base_uri": "https://localhost:8080/"
        },
        "id": "CTxvyus8CsOn",
        "outputId": "c3748788-dd60-4c24-893c-0a365262e8ff"
      },
      "execution_count": 28,
      "outputs": [
        {
          "output_type": "stream",
          "name": "stdout",
          "text": [
            "b'\\x01\\x02\\x03\\x04\\x05'\n",
            "|S5\n"
          ]
        }
      ]
    },
    {
      "cell_type": "code",
      "source": [
        "u = np.array(data3, dtype='U')\n",
        "\n",
        "print(u)\n",
        "print(u.dtype)\n"
      ],
      "metadata": {
        "colab": {
          "base_uri": "https://localhost:8080/"
        },
        "id": "XT-p8fD-DV5A",
        "outputId": "6a072e90-7897-4a13-fd04-08d165591741"
      },
      "execution_count": 29,
      "outputs": [
        {
          "output_type": "stream",
          "name": "stdout",
          "text": [
            "['1' '2' '3' '4' '5']\n",
            "<U1\n"
          ]
        }
      ]
    },
    {
      "cell_type": "code",
      "source": [
        "l1 = np.array([True, False, True])\n",
        "l2 = np.array([False, True, False])"
      ],
      "metadata": {
        "id": "6AoM_P2jEWLA"
      },
      "execution_count": 30,
      "outputs": []
    },
    {
      "cell_type": "code",
      "source": [
        "data = [1.1, 2, 3]\n",
        "\n",
        "a = np.float64(data)\n",
        "print(a)\n",
        "print(a.dtype) "
      ],
      "metadata": {
        "colab": {
          "base_uri": "https://localhost:8080/"
        },
        "id": "WuapVRrnMKAu",
        "outputId": "ed56a3fa-11d8-48c8-ea1d-c1277ae6398d"
      },
      "execution_count": 31,
      "outputs": [
        {
          "output_type": "stream",
          "name": "stdout",
          "text": [
            "[1.1 2.  3. ]\n",
            "float64\n"
          ]
        }
      ]
    },
    {
      "cell_type": "code",
      "source": [
        "a = a.astype(np.int64)\n",
        "\n",
        "print(a)\n",
        "print(a.dtype) "
      ],
      "metadata": {
        "colab": {
          "base_uri": "https://localhost:8080/"
        },
        "id": "oLSPQGFuOIfZ",
        "outputId": "60a0eabc-c0b4-4dbd-ef25-07e1f3b3269c"
      },
      "execution_count": 32,
      "outputs": [
        {
          "output_type": "stream",
          "name": "stdout",
          "text": [
            "[1 2 3]\n",
            "int64\n"
          ]
        }
      ]
    },
    {
      "cell_type": "code",
      "source": [
        "b = np.uint16(0)\n",
        "\n",
        "print(b)\n",
        "print(b.dtype) "
      ],
      "metadata": {
        "colab": {
          "base_uri": "https://localhost:8080/"
        },
        "id": "QlGe4LL9OdSJ",
        "outputId": "f586647b-5ba5-4c57-b410-f6887c2a5405"
      },
      "execution_count": 33,
      "outputs": [
        {
          "output_type": "stream",
          "name": "stdout",
          "text": [
            "0\n",
            "uint16\n"
          ]
        }
      ]
    },
    {
      "cell_type": "code",
      "source": [
        "b = b - 1"
      ],
      "metadata": {
        "id": "uiXWeRsiO7GA"
      },
      "execution_count": 34,
      "outputs": []
    },
    {
      "cell_type": "code",
      "source": [
        "print(b)\n",
        "print(b.dtype) "
      ],
      "metadata": {
        "colab": {
          "base_uri": "https://localhost:8080/"
        },
        "id": "FLeapOZOO-bA",
        "outputId": "663c661d-9e2b-449f-e3aa-2db4e28a22c9"
      },
      "execution_count": 35,
      "outputs": [
        {
          "output_type": "stream",
          "name": "stdout",
          "text": [
            "-1\n",
            "int64\n"
          ]
        }
      ]
    },
    {
      "cell_type": "code",
      "source": [
        "import time\n",
        "\n",
        "data =[[1,2,3], [4,5,6]]\n",
        "data2 =[[1,1,1], [2,2,2], [3,3,3]]\n",
        "\n",
        "start_time = time.time()\n",
        "\n",
        "for i in range(len(data)):\n",
        "    for j in range(len(data[0])):"
      ],
      "metadata": {
        "id": "zPf7Rlo6PUSz"
      },
      "execution_count": 36,
      "outputs": []
    },
    {
      "cell_type": "code",
      "source": [
        "d = np.array([0, np.pi/2, np.pi])\n",
        "\n",
        "sin_ = np.sin(d)\n",
        "cos_ = np.cos(d)\n",
        "tan_ = np.tan(d)\n",
        "\n",
        "print(sin_)\n",
        "print(cos_)\n",
        "print(tan_)"
      ],
      "metadata": {
        "colab": {
          "base_uri": "https://localhost:8080/"
        },
        "id": "sZkUGfXnRf-m",
        "outputId": "344e2b40-0085-4069-fba4-2ff5d1b94f88"
      },
      "execution_count": 38,
      "outputs": [
        {
          "output_type": "stream",
          "name": "stdout",
          "text": [
            "[0.0000000e+00 1.0000000e+00 1.2246468e-16]\n",
            "[ 1.000000e+00  6.123234e-17 -1.000000e+00]\n",
            "[ 0.00000000e+00  1.63312394e+16 -1.22464680e-16]\n"
          ]
        }
      ]
    },
    {
      "cell_type": "code",
      "source": [
        "print('a' + 'b')"
      ],
      "metadata": {
        "colab": {
          "base_uri": "https://localhost:8080/"
        },
        "id": "rXwulQJVojp_",
        "outputId": "0b142415-1a0b-4c5c-99bd-87f20570e280"
      },
      "execution_count": 39,
      "outputs": [
        {
          "output_type": "stream",
          "name": "stdout",
          "text": [
            "ab\n"
          ]
        }
      ]
    },
    {
      "cell_type": "code",
      "source": [
        "x = [1, 2, 3]\n",
        "y = [4, 5, 6]"
      ],
      "metadata": {
        "id": "oa9SKycvqngW"
      },
      "execution_count": 40,
      "outputs": []
    },
    {
      "cell_type": "code",
      "source": [
        "concat = np.concatenate([x,y])\n",
        "print(concat)"
      ],
      "metadata": {
        "colab": {
          "base_uri": "https://localhost:8080/"
        },
        "id": "O6sX30Mrqurp",
        "outputId": "ea878e91-85a4-4a10-aec2-9e8a84b7cf59"
      },
      "execution_count": 41,
      "outputs": [
        {
          "output_type": "stream",
          "name": "stdout",
          "text": [
            "[1 2 3 4 5 6]\n"
          ]
        }
      ]
    },
    {
      "cell_type": "code",
      "source": [
        "x2 = [[1,2], [3,4]]\n",
        "y2 = [[4,5], [6,7]]\n",
        "\n",
        "concat2 = np.concatenate([x2,y2], axis=1)\n",
        "concat3 = np.concatenate([x2,y2], axis=0)\n",
        "print(concat2)\n",
        "print(concat3)"
      ],
      "metadata": {
        "colab": {
          "base_uri": "https://localhost:8080/"
        },
        "id": "HKSnPY55q4LY",
        "outputId": "d75a7bc5-5277-4ee7-9c73-47dee5f3891b"
      },
      "execution_count": 43,
      "outputs": [
        {
          "output_type": "stream",
          "name": "stdout",
          "text": [
            "[[1 2 4 5]\n",
            " [3 4 6 7]]\n",
            "[[1 2]\n",
            " [3 4]\n",
            " [4 5]\n",
            " [6 7]]\n"
          ]
        }
      ]
    },
    {
      "cell_type": "code",
      "source": [
        "arr = np.arange(10)\n",
        "print(arr)"
      ],
      "metadata": {
        "colab": {
          "base_uri": "https://localhost:8080/"
        },
        "id": "pyDKr83PrVt9",
        "outputId": "c43b6813-b25a-4f82-d8bb-e23f5c47dbaf"
      },
      "execution_count": 44,
      "outputs": [
        {
          "output_type": "stream",
          "name": "stdout",
          "text": [
            "[0 1 2 3 4 5 6 7 8 9]\n"
          ]
        }
      ]
    },
    {
      "cell_type": "code",
      "source": [
        "arr.reshape(2, 5)"
      ],
      "metadata": {
        "colab": {
          "base_uri": "https://localhost:8080/"
        },
        "id": "OafAmqZAsoZb",
        "outputId": "35c83ee6-9536-4291-d61b-7ea19fdead0f"
      },
      "execution_count": 45,
      "outputs": [
        {
          "output_type": "execute_result",
          "data": {
            "text/plain": [
              "array([[0, 1, 2, 3, 4],\n",
              "       [5, 6, 7, 8, 9]])"
            ]
          },
          "metadata": {},
          "execution_count": 45
        }
      ]
    },
    {
      "cell_type": "code",
      "source": [
        "h = np.hstack([x2, y2])\n",
        "print(h)"
      ],
      "metadata": {
        "colab": {
          "base_uri": "https://localhost:8080/"
        },
        "id": "u6sAM_iDswCa",
        "outputId": "786f274f-19b7-4995-d112-e8f857a1cb08"
      },
      "execution_count": 46,
      "outputs": [
        {
          "output_type": "stream",
          "name": "stdout",
          "text": [
            "[[1 2 4 5]\n",
            " [3 4 6 7]]\n"
          ]
        }
      ]
    },
    {
      "cell_type": "code",
      "source": [
        "v = np.vstack([x2, y2])\n",
        "print(v)"
      ],
      "metadata": {
        "colab": {
          "base_uri": "https://localhost:8080/"
        },
        "id": "gz5z9jpNvINZ",
        "outputId": "81d7efe5-cb5c-4969-9955-a70761a0fcb7"
      },
      "execution_count": 47,
      "outputs": [
        {
          "output_type": "stream",
          "name": "stdout",
          "text": [
            "[[1 2]\n",
            " [3 4]\n",
            " [4 5]\n",
            " [6 7]]\n"
          ]
        }
      ]
    },
    {
      "cell_type": "code",
      "source": [
        "x2 = np.array([[1,2], [3,4], [5,6]])\n",
        "\n",
        "h2 = np.hsplit(x2, 2)\n",
        "\n",
        "h2"
      ],
      "metadata": {
        "colab": {
          "base_uri": "https://localhost:8080/"
        },
        "id": "OSEXWBpovOC-",
        "outputId": "11a06d30-2289-414f-8300-9341344a8b5d"
      },
      "execution_count": 49,
      "outputs": [
        {
          "output_type": "execute_result",
          "data": {
            "text/plain": [
              "[array([[1],\n",
              "        [3],\n",
              "        [5]]),\n",
              " array([[2],\n",
              "        [4],\n",
              "        [6]])]"
            ]
          },
          "metadata": {},
          "execution_count": 49
        }
      ]
    },
    {
      "cell_type": "code",
      "source": [
        "v2 = np.vsplit(x2, 3)\n",
        "\n",
        "v2"
      ],
      "metadata": {
        "colab": {
          "base_uri": "https://localhost:8080/"
        },
        "id": "EbNwT4M4xXJC",
        "outputId": "c4d3e3a2-dd85-4cfe-fe6c-b794162d8727"
      },
      "execution_count": 51,
      "outputs": [
        {
          "output_type": "execute_result",
          "data": {
            "text/plain": [
              "[array([[1, 2]]), array([[3, 4]]), array([[5, 6]])]"
            ]
          },
          "metadata": {},
          "execution_count": 51
        }
      ]
    },
    {
      "cell_type": "code",
      "source": [
        "zero = np.zeros([3,4])"
      ],
      "metadata": {
        "id": "9j_72qiUxiUh"
      },
      "execution_count": 52,
      "outputs": []
    },
    {
      "cell_type": "code",
      "source": [
        "print(zero)"
      ],
      "metadata": {
        "colab": {
          "base_uri": "https://localhost:8080/"
        },
        "id": "JvS1wgYv2s-K",
        "outputId": "8f16d6ce-de90-4844-d348-c6dab43c21b6"
      },
      "execution_count": 56,
      "outputs": [
        {
          "output_type": "stream",
          "name": "stdout",
          "text": [
            "[[0. 0. 0. 0.]\n",
            " [0. 0. 0. 0.]\n",
            " [0. 0. 0. 0.]]\n"
          ]
        }
      ]
    },
    {
      "cell_type": "code",
      "source": [
        "one = np.ones([3,4])\n",
        "\n",
        "one"
      ],
      "metadata": {
        "colab": {
          "base_uri": "https://localhost:8080/"
        },
        "id": "crZ2T7Bl2t7a",
        "outputId": "f88617d5-236a-4226-f58e-8beb4a2f785c"
      },
      "execution_count": 54,
      "outputs": [
        {
          "output_type": "execute_result",
          "data": {
            "text/plain": [
              "array([[1., 1., 1., 1.],\n",
              "       [1., 1., 1., 1.],\n",
              "       [1., 1., 1., 1.]])"
            ]
          },
          "metadata": {},
          "execution_count": 54
        }
      ]
    },
    {
      "cell_type": "code",
      "source": [
        "eye = np.eye(3)\n",
        "\n",
        "eye"
      ],
      "metadata": {
        "colab": {
          "base_uri": "https://localhost:8080/"
        },
        "id": "DHYszCfX3Mwh",
        "outputId": "2cb6ee97-e44e-4639-8a30-11e86d71208d"
      },
      "execution_count": 55,
      "outputs": [
        {
          "output_type": "execute_result",
          "data": {
            "text/plain": [
              "array([[1., 0., 0.],\n",
              "       [0., 1., 0.],\n",
              "       [0., 0., 1.]])"
            ]
          },
          "metadata": {},
          "execution_count": 55
        }
      ]
    },
    {
      "cell_type": "code",
      "source": [
        "arr1 = np.array([-1,-2,-3,-4])\n",
        "abs_arr = np.abs(arr1)\n",
        "\n",
        "print(abs_arr)"
      ],
      "metadata": {
        "colab": {
          "base_uri": "https://localhost:8080/"
        },
        "id": "bxU4HHYp3YH4",
        "outputId": "10f9041c-083d-410e-fe70-5cf6425ddf75"
      },
      "execution_count": 57,
      "outputs": [
        {
          "output_type": "stream",
          "name": "stdout",
          "text": [
            "[1 2 3 4]\n"
          ]
        }
      ]
    },
    {
      "cell_type": "code",
      "source": [
        "arr2 = np.array([1,4,9,16])\n",
        "sqrt_arr = np.sqrt(arr2)\n",
        "\n",
        "print(sqrt_arr)"
      ],
      "metadata": {
        "colab": {
          "base_uri": "https://localhost:8080/"
        },
        "id": "hI7Pi7wX47RE",
        "outputId": "3d92d794-ddd5-4474-81fc-364e411b2a56"
      },
      "execution_count": 58,
      "outputs": [
        {
          "output_type": "stream",
          "name": "stdout",
          "text": [
            "[1. 2. 3. 4.]\n"
          ]
        }
      ]
    },
    {
      "cell_type": "code",
      "source": [
        "a = np.array([1,2,3,4,5])\n",
        "a_mean = np.mean(a)\n",
        "\n",
        "print(a_mean)"
      ],
      "metadata": {
        "colab": {
          "base_uri": "https://localhost:8080/"
        },
        "id": "QDcobOjS5bHx",
        "outputId": "048c2583-b85d-40ff-d041-9da3f35ec010"
      },
      "execution_count": 59,
      "outputs": [
        {
          "output_type": "stream",
          "name": "stdout",
          "text": [
            "3.0\n"
          ]
        }
      ]
    },
    {
      "cell_type": "code",
      "source": [
        "b = np.array([1,3,5,7,9])\n",
        "b_median = np.median(b)\n",
        "\n",
        "print(b_median)"
      ],
      "metadata": {
        "colab": {
          "base_uri": "https://localhost:8080/"
        },
        "id": "D-e8gbll54WL",
        "outputId": "fc9f4af1-cb75-439f-9298-24c4d6cdbbd6"
      },
      "execution_count": 60,
      "outputs": [
        {
          "output_type": "stream",
          "name": "stdout",
          "text": [
            "5.0\n"
          ]
        }
      ]
    },
    {
      "cell_type": "code",
      "source": [
        "c = np.array([1,2,3,4,5])\n",
        "c_std = np.std(c)\n",
        "\n",
        "print(c_std)"
      ],
      "metadata": {
        "colab": {
          "base_uri": "https://localhost:8080/"
        },
        "id": "blB3Pcqx6Kl1",
        "outputId": "ec9908b6-dbc7-4e55-9a23-eb2a90f7fb00"
      },
      "execution_count": 61,
      "outputs": [
        {
          "output_type": "stream",
          "name": "stdout",
          "text": [
            "1.4142135623730951\n"
          ]
        }
      ]
    },
    {
      "cell_type": "code",
      "source": [
        "d = np.array([1,2,3,4,5])\n",
        "d_var = np.var(d)\n",
        "\n",
        "print(d_var)"
      ],
      "metadata": {
        "colab": {
          "base_uri": "https://localhost:8080/"
        },
        "id": "VUIXTr__6lNZ",
        "outputId": "e5fbf348-5459-4a89-c59c-a9988f2250f7"
      },
      "execution_count": 62,
      "outputs": [
        {
          "output_type": "stream",
          "name": "stdout",
          "text": [
            "2.0\n"
          ]
        }
      ]
    },
    {
      "cell_type": "code",
      "source": [
        "d = np.array([1,2,3,4,5])\n",
        "d_sum = np.sum(d)\n",
        "\n",
        "print(d_sum)"
      ],
      "metadata": {
        "colab": {
          "base_uri": "https://localhost:8080/"
        },
        "id": "FuIhvVZ969ji",
        "outputId": "6640ba41-e2d9-42f2-a389-6658390dc0c6"
      },
      "execution_count": 64,
      "outputs": [
        {
          "output_type": "stream",
          "name": "stdout",
          "text": [
            "15\n"
          ]
        }
      ]
    },
    {
      "cell_type": "code",
      "source": [
        "d_cumsum = np.cumsum(d)\n",
        "print(d_cumsum)"
      ],
      "metadata": {
        "colab": {
          "base_uri": "https://localhost:8080/"
        },
        "id": "miAY1-b97Lcg",
        "outputId": "d0ef27d7-0153-4ba4-eb21-7f4b9f4ba230"
      },
      "execution_count": 65,
      "outputs": [
        {
          "output_type": "stream",
          "name": "stdout",
          "text": [
            "[ 1  3  6 10 15]\n"
          ]
        }
      ]
    },
    {
      "cell_type": "code",
      "source": [
        "min = np.argmin(d)\n",
        "print(min)"
      ],
      "metadata": {
        "colab": {
          "base_uri": "https://localhost:8080/"
        },
        "id": "npaRDZpD7I7U",
        "outputId": "b2d2d0dd-27b0-41cb-e3ca-51a60a24c160"
      },
      "execution_count": 66,
      "outputs": [
        {
          "output_type": "stream",
          "name": "stdout",
          "text": [
            "0\n"
          ]
        }
      ]
    },
    {
      "cell_type": "code",
      "source": [
        "max = np.argmax(d)\n",
        "print(max)"
      ],
      "metadata": {
        "colab": {
          "base_uri": "https://localhost:8080/"
        },
        "id": "w_6U9sNi8RE0",
        "outputId": "f8f6d2a0-9793-489c-8601-e9d15e6ccbef"
      },
      "execution_count": 68,
      "outputs": [
        {
          "output_type": "stream",
          "name": "stdout",
          "text": [
            "4\n"
          ]
        }
      ]
    },
    {
      "cell_type": "code",
      "source": [
        "a = np.array([0,0,0,1])\n",
        "\n",
        "a_true = np.any(a)\n",
        "print(a_true)"
      ],
      "metadata": {
        "colab": {
          "base_uri": "https://localhost:8080/"
        },
        "id": "TpLlTrxy8xHZ",
        "outputId": "5b9922f0-39d2-4d2e-a7ba-c5742a7a0318"
      },
      "execution_count": 69,
      "outputs": [
        {
          "output_type": "stream",
          "name": "stdout",
          "text": [
            "True\n"
          ]
        }
      ]
    },
    {
      "cell_type": "code",
      "source": [
        "a_all = np.all(a)\n",
        "\n",
        "print(a_all)"
      ],
      "metadata": {
        "colab": {
          "base_uri": "https://localhost:8080/"
        },
        "id": "LzWnmFGF9Bpy",
        "outputId": "40280f50-b43e-40b1-c355-86ad3c7d340d"
      },
      "execution_count": 70,
      "outputs": [
        {
          "output_type": "stream",
          "name": "stdout",
          "text": [
            "False\n"
          ]
        }
      ]
    },
    {
      "cell_type": "code",
      "source": [
        "a = np.array([1,2,np.nan,4])\n",
        "a_nsum = np.nansum(a)\n",
        "print(a_nsum)"
      ],
      "metadata": {
        "colab": {
          "base_uri": "https://localhost:8080/"
        },
        "id": "RmzxZUpr9l2A",
        "outputId": "6b0f1dcc-7c43-4ce9-a4ec-245f065b50e8"
      },
      "execution_count": 74,
      "outputs": [
        {
          "output_type": "stream",
          "name": "stdout",
          "text": [
            "7.0\n"
          ]
        }
      ]
    },
    {
      "cell_type": "code",
      "source": [
        "a_sum = np.sum(a)\n",
        "print(a_sum)"
      ],
      "metadata": {
        "colab": {
          "base_uri": "https://localhost:8080/"
        },
        "id": "y8HZhqWB-dkn",
        "outputId": "9fb36fac-9974-4db1-d173-0ae886ad908d"
      },
      "execution_count": 75,
      "outputs": [
        {
          "output_type": "stream",
          "name": "stdout",
          "text": [
            "nan\n"
          ]
        }
      ]
    },
    {
      "cell_type": "code",
      "source": [
        "d = np.array([1,2,3,4,5])\n",
        "condition = np.where(d<3, d, 0)\n",
        "condition1 = np.where(d<3)\n",
        "print(condition)\n",
        "print(condition1)"
      ],
      "metadata": {
        "colab": {
          "base_uri": "https://localhost:8080/"
        },
        "id": "N3V4hlqc_vGc",
        "outputId": "d6568c8b-91c7-4915-edb6-9e6fe4063d61"
      },
      "execution_count": 78,
      "outputs": [
        {
          "output_type": "stream",
          "name": "stdout",
          "text": [
            "[1 2 0 0 0]\n",
            "(array([0, 1]),)\n"
          ]
        }
      ]
    },
    {
      "cell_type": "code",
      "source": [
        "a = np.array([1,2,3,4,5,6,7,8,9,10])\n",
        "\n",
        "even_a = a[a % 2 ==0]\n",
        "\n",
        "print(even_a)\n",
        "print(a)"
      ],
      "metadata": {
        "colab": {
          "base_uri": "https://localhost:8080/"
        },
        "id": "Ds9fjItM_7Rb",
        "outputId": "ba14fdc9-d395-4e66-ee48-d4d81f97ee8a"
      },
      "execution_count": 81,
      "outputs": [
        {
          "output_type": "stream",
          "name": "stdout",
          "text": [
            "[ 2  4  6  8 10]\n",
            "[ 1  2  3  4  5  6  7  8  9 10]\n"
          ]
        }
      ]
    },
    {
      "cell_type": "code",
      "source": [
        "a = np.array([1,2,3])\n",
        "b = np.array([4,5,6])\n",
        "\n",
        "c = a + b\n",
        "print(c)"
      ],
      "metadata": {
        "colab": {
          "base_uri": "https://localhost:8080/"
        },
        "id": "s1p2kbhDGjg9",
        "outputId": "4fab36e7-fc70-4cf3-d1e9-d447380cd6c4"
      },
      "execution_count": 82,
      "outputs": [
        {
          "output_type": "stream",
          "name": "stdout",
          "text": [
            "[5 7 9]\n"
          ]
        }
      ]
    },
    {
      "cell_type": "code",
      "source": [
        "d = np.array([[1],[2],[3]])\n",
        "e = np.array([4,5,6])\n",
        "\n",
        "f = d + e\n",
        "\n",
        "print(f)"
      ],
      "metadata": {
        "colab": {
          "base_uri": "https://localhost:8080/"
        },
        "id": "Gq9Tac3xInqJ",
        "outputId": "e953e6d3-df6a-4e9c-9252-4cd175091dbd"
      },
      "execution_count": 87,
      "outputs": [
        {
          "output_type": "stream",
          "name": "stdout",
          "text": [
            "[[5 6 7]\n",
            " [6 7 8]\n",
            " [7 8 9]]\n"
          ]
        }
      ]
    },
    {
      "cell_type": "markdown",
      "source": [
        "- 두 배열의 차원 수가 다를 경우, 더 작은 차원의 배열에 큰 차원의 배열이 맞을 때까지 1을 추가한다.\n",
        "\n",
        "- 두 배열의 차원 수가 같을 경우에도, 크기가 1인 차원이 있다면 다른 배열의 크기와 일치하도록 복제된다.\n",
        "\n",
        "- 두 배열의 차원 수가 같을 경우에도, 모든 "
      ],
      "metadata": {
        "id": "oLdKIUywKDGx"
      }
    }
  ]
}