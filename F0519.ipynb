{
  "nbformat": 4,
  "nbformat_minor": 0,
  "metadata": {
    "colab": {
      "provenance": []
    },
    "kernelspec": {
      "name": "python3",
      "display_name": "Python 3"
    },
    "language_info": {
      "name": "python"
    }
  },
  "cells": [
    {
      "cell_type": "markdown",
      "source": [
        "# 반복문(리스트, 딕셔너리)\n"
      ],
      "metadata": {
        "id": "msJyRf17dts6"
      }
    },
    {
      "cell_type": "code",
      "execution_count": 13,
      "metadata": {
        "id": "n8ixA-0VUKrZ"
      },
      "outputs": [],
      "source": [
        "import random\n",
        "import time\n",
        "\n",
        "while True:\n",
        "    break\n",
        "    print(random.choice(['된장찌개', '피자', '치킨', '떡볶이', '라면', '감튀']))\n",
        "    print('이 문장도 반복되나?')\n",
        "    time.sleep(1)"
      ]
    },
    {
      "cell_type": "code",
      "source": [
        "lunch = random.choice(['된찌', '피자', '제볶'])\n",
        "lunch = '냉장고'\n",
        "dinner = random.choice(['김밥', '쫄면', '돈까스'])\n",
        "print(lunch)"
      ],
      "metadata": {
        "colab": {
          "base_uri": "https://localhost:8080/"
        },
        "id": "ssksBGczX1jH",
        "outputId": "cc67b07f-442a-41cc-9115-f571d4b71f38"
      },
      "execution_count": 17,
      "outputs": [
        {
          "output_type": "stream",
          "name": "stdout",
          "text": [
            "냉장고\n"
          ]
        }
      ]
    },
    {
      "cell_type": "code",
      "source": [
        "info = {'고향':'수원', '취미':'영화관람', '좋아하는 음식':'국수', '특기':'피아노', '사는 곳': '서울'}\n",
        "print(info)\n",
        "print(info.get('특기'))"
      ],
      "metadata": {
        "colab": {
          "base_uri": "https://localhost:8080/"
        },
        "id": "orWh9zRidb5k",
        "outputId": "2a87961d-5b14-4da8-ed3c-9976100d7c60"
      },
      "execution_count": 19,
      "outputs": [
        {
          "output_type": "stream",
          "name": "stdout",
          "text": [
            "{'고향': '수원', '취미': '영화관람', '좋아하는 음식': '국수', '특기': '피아노', '사는 곳': '서울'}\n",
            "피아노\n"
          ]
        }
      ]
    },
    {
      "cell_type": "code",
      "source": [
        "info = {'고향':'수원', '취미':'영화관람', '좋아하는 음식':'국수'}\n",
        "foods = ['된찌', '피자', '제볶']\n",
        "print(info.get('취미'))\n",
        "info['특기'] = '피아노'\n",
        "info['사는곳'] = '서울'\n",
        "del info['좋아하는 음식']\n",
        "print(len(info))\n",
        "print(info)\n",
        "foods.append('김밥')\n",
        "print(foods)\n",
        "del foods[1]\n",
        "print(foods)"
      ],
      "metadata": {
        "colab": {
          "base_uri": "https://localhost:8080/"
        },
        "id": "nmErqQ79fQ9u",
        "outputId": "edcebaa8-dceb-404b-9122-58ad097d2214"
      },
      "execution_count": 24,
      "outputs": [
        {
          "output_type": "stream",
          "name": "stdout",
          "text": [
            "영화관람\n",
            "4\n",
            "{'고향': '수원', '취미': '영화관람', '특기': '피아노', '사는곳': '서울'}\n",
            "['된찌', '피자', '제볶', '김밥']\n",
            "['된찌', '제볶', '김밥']\n"
          ]
        }
      ]
    },
    {
      "cell_type": "code",
      "source": [
        "foods = [\"된장찌개\", \"피자\", \"제육볶음\"]\n",
        "for x in range(3):\n",
        "    print(foods[x])\n",
        "for x in foods:\n",
        "    print(x)"
      ],
      "metadata": {
        "colab": {
          "base_uri": "https://localhost:8080/"
        },
        "id": "PoIvmAIVly6J",
        "outputId": "62655fad-28e0-4d3a-a71b-361e419d6cb2"
      },
      "execution_count": 25,
      "outputs": [
        {
          "output_type": "stream",
          "name": "stdout",
          "text": [
            "된장찌개\n",
            "피자\n",
            "제육볶음\n",
            "된장찌개\n",
            "피자\n",
            "제육볶음\n"
          ]
        }
      ]
    },
    {
      "cell_type": "code",
      "source": [
        "information = {\"고향\":\"수원\", \"취미\":\"영화관람\", \"좋아하는 음식\":\"국수\"}\n",
        "for x, y in information.items():\n",
        "    print(x)\n",
        "    print(y)"
      ],
      "metadata": {
        "id": "fQ7PTWOTncmj"
      },
      "execution_count": null,
      "outputs": []
    },
    {
      "cell_type": "code",
      "source": [
        "foods = ['된찌', '피자', '제볶', '된찌']\n",
        "foods_set = set(foods)\n",
        "print(foods)\n",
        "print(foods_set)\n"
      ],
      "metadata": {
        "colab": {
          "base_uri": "https://localhost:8080/"
        },
        "id": "oyNfIVMEoV-9",
        "outputId": "e7ca1ad6-e8e7-413b-d0d6-0d479b8191b7"
      },
      "execution_count": 31,
      "outputs": [
        {
          "output_type": "stream",
          "name": "stdout",
          "text": [
            "['된찌', '피자', '제볶', '된찌']\n",
            "{'제볶', '피자', '된찌'}\n"
          ]
        }
      ]
    },
    {
      "cell_type": "code",
      "source": [
        "# 합집합\n",
        "menu1 = set([\"된장찌개\", \"피자\", \"제육볶음\"])\n",
        "menu2 = set([\"된장찌개\", \"떡국\", \"김밥\"])\n",
        "menu3 = menu1 | menu2\n",
        "print(menu3)"
      ],
      "metadata": {
        "colab": {
          "base_uri": "https://localhost:8080/"
        },
        "id": "6h64IINVpGmz",
        "outputId": "8c408328-775b-4012-da86-9cad26e1d929"
      },
      "execution_count": 32,
      "outputs": [
        {
          "output_type": "stream",
          "name": "stdout",
          "text": [
            "{'김밥', '제육볶음', '된장찌개', '떡국', '피자'}\n"
          ]
        }
      ]
    },
    {
      "cell_type": "code",
      "source": [
        "# 교집합\n",
        "menu1 = set([\"된장찌개\", \"피자\", \"제육볶음\"])\n",
        "menu2 = set([\"된장찌개\", \"떡국\", \"김밥\"])\n",
        "menu3 = menu1 & menu2\n",
        "print(menu3)"
      ],
      "metadata": {
        "colab": {
          "base_uri": "https://localhost:8080/"
        },
        "id": "VrrdaLbspfMm",
        "outputId": "191ddd78-44a6-4d89-8415-c05acdd37a6c"
      },
      "execution_count": 33,
      "outputs": [
        {
          "output_type": "stream",
          "name": "stdout",
          "text": [
            "{'된장찌개'}\n"
          ]
        }
      ]
    },
    {
      "cell_type": "code",
      "source": [
        "# 차집합\n",
        "menu1 = set([\"된장찌개\", \"피자\", \"제육볶음\"])\n",
        "menu2 = set([\"된장찌개\", \"떡국\", \"김밥\"])\n",
        "menu3 = menu1 - menu2\n",
        "print(menu3)"
      ],
      "metadata": {
        "colab": {
          "base_uri": "https://localhost:8080/"
        },
        "id": "K8TwxcmiphaQ",
        "outputId": "c7208a21-8500-4c45-8fc6-33660995367c"
      },
      "execution_count": 35,
      "outputs": [
        {
          "output_type": "stream",
          "name": "stdout",
          "text": [
            "{'떡국', '김밥'}\n"
          ]
        }
      ]
    },
    {
      "cell_type": "code",
      "source": [
        "foods = random.choice(['된장찌개', '피자', '제볶'])\n",
        "\n",
        "print(foods)\n",
        "\n",
        "if (foods == '제볶'):\n",
        "    print('곱뺴기 주세요')\n",
        "else:\n",
        "    print('그냥 주세요')\n",
        "\n",
        "print('종료')\n"
      ],
      "metadata": {
        "colab": {
          "base_uri": "https://localhost:8080/"
        },
        "id": "20OgyZUAqTnt",
        "outputId": "9a034888-1843-4773-da77-39df93cb8c0a"
      },
      "execution_count": 40,
      "outputs": [
        {
          "output_type": "stream",
          "name": "stdout",
          "text": [
            "제볶\n",
            "곱뺴기 주세요\n",
            "종료\n"
          ]
        }
      ]
    },
    {
      "cell_type": "code",
      "source": [
        "import random\n",
        "import time\n",
        "\n",
        "lunch = ['된찌', '피자', '제볶', '짜장면']\n",
        "while True:\n",
        "    print(lunch)\n",
        "    item = input('음식을 추가해주세요 : ')\n",
        "    if(item == 'q'):\n",
        "        break\n",
        "    else:\n",
        "        lunch.append(item)\n",
        "print(lunch)\n",
        "\n",
        "set_lunch = set(lunch)\n",
        "while True:\n",
        "    print(set_lunch)\n",
        "    item = input('음식을 삭제해주세요 : ')\n",
        "    if(item == 'q'):\n",
        "        break\n",
        "    else:\n",
        "        set_lunch = set_lunch - set([item])\n",
        "\n",
        "print(set_lunch, '중에서 선택합니다.')\n",
        "\n",
        "print(\"5\")\n",
        "time.sleep(1)\n",
        "print(\"4\")\n",
        "time.sleep(1)\n",
        "print(\"3\")\n",
        "time.sleep(1)\n",
        "print(\"2\")\n",
        "time.sleep(1)\n",
        "print(\"1\")\n",
        "time.sleep(1)\n",
        "\n",
        "print(random.choice(list(set_lunch)))"
      ],
      "metadata": {
        "id": "WqLJCqv8rYOD"
      },
      "execution_count": null,
      "outputs": []
    },
    {
      "cell_type": "code",
      "source": [
        "lunch = ['된찌', '피자', '김밥', '제육']\n",
        "while True:\n",
        "    print(lunch)\n",
        "    item = input('메뉴를 추가해주세요 : ')\n",
        "    if item == 'q':\n",
        "        break\n",
        "    else:\n",
        "        lunch.append(item)\n",
        "print(lunch)\n",
        "\n",
        "set_lunch = set(lunch)\n",
        "while True:\n",
        "    print(set_lunch)\n",
        "    item = input('음식을 삭제해주세요 : ')\n",
        "    if item == 'q':\n",
        "        break\n",
        "    else:\n",
        "        set_lunch = set_lunch - set([item])\n",
        "\n",
        "print(f'{set_lunch} 중에서 선택합니다.')\n",
        "\n",
        "print(\"5\")\n",
        "time.sleep(1)\n",
        "print(\"4\")\n",
        "time.sleep(1)\n",
        "print(\"3\")\n",
        "time.sleep(1)\n",
        "print(\"2\")\n",
        "time.sleep(1)\n",
        "print(\"1\")\n",
        "time.sleep(1)\n",
        "\n",
        "print(random.choice(list(set_lunch)))"
      ],
      "metadata": {
        "colab": {
          "base_uri": "https://localhost:8080/"
        },
        "id": "fp7Npwecx6GX",
        "outputId": "90d83b10-b6f9-4377-9908-35594bac2b01"
      },
      "execution_count": 48,
      "outputs": [
        {
          "output_type": "stream",
          "name": "stdout",
          "text": [
            "['된찌', '피자', '김밥', '제육']\n",
            "메뉴를 추가해주세요 : 돈까스\n",
            "['된찌', '피자', '김밥', '제육', '돈까스']\n",
            "메뉴를 추가해주세요 : 제육\n",
            "['된찌', '피자', '김밥', '제육', '돈까스', '제육']\n",
            "메뉴를 추가해주세요 : 피자\n",
            "['된찌', '피자', '김밥', '제육', '돈까스', '제육', '피자']\n",
            "메뉴를 추가해주세요 : q\n",
            "['된찌', '피자', '김밥', '제육', '돈까스', '제육', '피자']\n",
            "{'돈까스', '김밥', '피자', '된찌', '제육'}\n",
            "음식을 삭제해주세요 : 피자\n",
            "{'제육', '돈까스', '김밥', '된찌'}\n",
            "음식을 삭제해주세요 : q\n",
            "{'제육', '돈까스', '김밥', '된찌'} 중에서 선택합니다.\n",
            "5\n",
            "4\n",
            "3\n",
            "2\n",
            "1\n",
            "김밥\n"
          ]
        }
      ]
    },
    {
      "cell_type": "code",
      "source": [
        "total_list = []\n",
        "\n",
        "while True:\n",
        "    question = input('질문을 입력해주세요 : ')\n",
        "    if question == 'q':\n",
        "        break\n",
        "    else:\n",
        "        total_list.append({\"질문\" : question, \"답변\" : \"\"})\n",
        "for i in total_list:\n",
        "    print(i['질문'])\n",
        "    answer = input('답변을 입력해주세요 : ')\n",
        "    i['답변'] = answer\n",
        "\n",
        "print(total_list)"
      ],
      "metadata": {
        "colab": {
          "base_uri": "https://localhost:8080/"
        },
        "id": "ZhvF8hJojx0Z",
        "outputId": "852730d7-c1b6-48e9-a4db-b7424b6c38b4"
      },
      "execution_count": 51,
      "outputs": [
        {
          "output_type": "stream",
          "name": "stdout",
          "text": [
            "질문을 입력해주세요 : 취미는\n",
            "질문을 입력해주세요 : 특기는\n",
            "질문을 입력해주세요 : q\n",
            "취미는\n",
            "답변을 입력해주세요 : 줄넘기\n",
            "특기는\n",
            "답변을 입력해주세요 : 피아노\n",
            "[{'질문': '취미는', '답변': '줄넘기'}, {'질문': '특기는', '답변': '피아노'}]\n"
          ]
        }
      ]
    },
    {
      "cell_type": "code",
      "source": [
        "total_dictionary = {}\n",
        "\n",
        "while True:\n",
        "    question = input(\"질문을 입력해주세요 : \")\n",
        "    if question == \"q\":\n",
        "        break\n",
        "    else:\n",
        "        total_dictionary[question] = \"\"\n",
        "\n",
        "for i in total_dictionary:\n",
        "    print(i)\n",
        "    answer = input(\"답변을 입력해주세요 : \")\n",
        "    total_dictionary[i] = answer\n",
        "print(total_dictionary)"
      ],
      "metadata": {
        "colab": {
          "base_uri": "https://localhost:8080/"
        },
        "id": "d-Alifa1o1yT",
        "outputId": "cd5c74f3-2ed3-48c1-e619-71f52043eb9a"
      },
      "execution_count": 52,
      "outputs": [
        {
          "output_type": "stream",
          "name": "stdout",
          "text": [
            "질문을 입력해주세요 : 취미는\n",
            "질문을 입력해주세요 : 특기는\n",
            "질문을 입력해주세요 : q\n",
            "취미는\n",
            "답변을 입력해주세요 : 축구\n",
            "특기는\n",
            "답변을 입력해주세요 : 야구\n",
            "{'취미는': '축구', '특기는': '야구'}\n"
          ]
        }
      ]
    },
    {
      "cell_type": "code",
      "source": [
        "print([\"HI! GLAD TO MEET YOU\"])\n",
        "print(\"HI! NICE TO MEET YOU\")"
      ],
      "metadata": {
        "colab": {
          "base_uri": "https://localhost:8080/"
        },
        "id": "gzfZykjkquzu",
        "outputId": "ca854550-84d3-44f0-b801-7818771e9ca9"
      },
      "execution_count": 53,
      "outputs": [
        {
          "output_type": "stream",
          "name": "stdout",
          "text": [
            "['HI! GLAD TO MEET YOU']\n",
            "HI! NICE TO MEET YOU\n"
          ]
        }
      ]
    },
    {
      "cell_type": "code",
      "source": [
        "season = input(\"계절을 입력하세요 :\")\n",
        "\n",
        "if (season == '봄') :\n",
        "\tprint(\"가디건\")\n",
        "if (season == '여름') :\n",
        "\tprint(\"반팔\")\n",
        "if (season == '가을') :\n",
        "\tprint(\"코트\")\n",
        "if (season == '겨울') :\n",
        "\tprint(\"패딩\")\n",
        "else:\n",
        "    print(\"잘못 입력하셨습니다.\")"
      ],
      "metadata": {
        "colab": {
          "base_uri": "https://localhost:8080/"
        },
        "id": "hSJuay0zr4VF",
        "outputId": "f2f018e1-3c83-4a1b-b004-a572e2fc90a8"
      },
      "execution_count": 56,
      "outputs": [
        {
          "output_type": "stream",
          "name": "stdout",
          "text": [
            "계절을 입력하세요 :여름\n",
            "반팔\n",
            "잘못 입력하셨습니다.\n"
          ]
        }
      ]
    }
  ]
}