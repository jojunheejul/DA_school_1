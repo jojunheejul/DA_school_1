{
  "nbformat": 4,
  "nbformat_minor": 0,
  "metadata": {
    "colab": {
      "provenance": []
    },
    "kernelspec": {
      "name": "python3",
      "display_name": "Python 3"
    },
    "language_info": {
      "name": "python"
    }
  },
  "cells": [
    {
      "cell_type": "code",
      "source": [
        "class pokemon_select:\n",
        "  def __init__(self, name, hp, attack, defense, s_attack, s_defense, speed):\n",
        "    # 메서드에 정의한 변수는 인스턴스 변수\n",
        "    self.name = name \n",
        "    self.hp = hp\n",
        "    self.defense = defense\n",
        "    self.s_attack = s_attack\n",
        "    self.s_defense = s_defense\n",
        "    self.speed = speed\n",
        "\n",
        "    print(f\"{self.name}을 생성했습니다.\")\n",
        "    print(f\"체력은 {self.hp}, 공격력은 {self.defense}, 방어력은 {self.defense}, 특수공격은 {self.s_attack}, 특수방어는 {self.s_defense}, 민첩성은 {self.speed} 입니다.\")\n",
        "\n",
        "    # 다시 만들어 볼까요??\n",
        "# 더이상 변수명은 많이 안만들어도 되고 일일히 수정하지 않아도되요^^\n",
        "\n",
        "pikachu_025 = pokemon_select(\"피카츄\", 35, 55, 40, 50, 50, 90)\n",
        "charmander_004 = pokemon_select(\"파이리\", 35, 52, 43, 60, 50, 65)\n",
        "squirtle_007 = pokemon_select(\"꼬부기\", 44, 48, 65, 50, 64, 43)"
      ],
      "metadata": {
        "colab": {
          "base_uri": "https://localhost:8080/"
        },
        "id": "cqWhWodU9W9r",
        "outputId": "a79d165d-40db-4c83-ee4c-b8e98231ac09"
      },
      "execution_count": 1,
      "outputs": [
        {
          "output_type": "stream",
          "name": "stdout",
          "text": [
            "피카츄을 생성했습니다.\n",
            "체력은 35, 공격력은 40, 방어력은 40, 특수공격은 50, 특수방어는 50, 민첩성은 90 입니다.\n",
            "파이리을 생성했습니다.\n",
            "체력은 35, 공격력은 43, 방어력은 43, 특수공격은 60, 특수방어는 50, 민첩성은 65 입니다.\n",
            "꼬부기을 생성했습니다.\n",
            "체력은 44, 공격력은 65, 방어력은 65, 특수공격은 50, 특수방어는 64, 민첩성은 43 입니다.\n"
          ]
        }
      ]
    },
    {
      "cell_type": "code",
      "source": [
        "class ParkingManager:\n",
        "    def __init__(self, capacity):\n",
        "        self.capacity = capacity\n",
        "        self.registered_cars = 0\n",
        "\n",
        "    def register(self):\n",
        "        if self.registered_cars < self.capacity:\n",
        "            self.registered_cars += 1\n",
        "            print(f\"신규 차량이 등록되었습니다. ({self.registered_cars}/{self.capacity})\")\n",
        "        else:\n",
        "            print(\"주차 공간이 모두 차있습니다.\")\n",
        "\n",
        "# 테스트\n",
        "manager = ParkingManager(5)\n",
        "for i in range(6):\n",
        "    manager.register()\n"
      ],
      "metadata": {
        "colab": {
          "base_uri": "https://localhost:8080/"
        },
        "id": "Osmsu83mDTzp",
        "outputId": "9ebc4b7e-e6c8-4d68-c0f7-f3c080b5cff5"
      },
      "execution_count": 2,
      "outputs": [
        {
          "output_type": "stream",
          "name": "stdout",
          "text": [
            "신규 차량이 등록되었습니다. (1/5)\n",
            "신규 차량이 등록되었습니다. (2/5)\n",
            "신규 차량이 등록되었습니다. (3/5)\n",
            "신규 차량이 등록되었습니다. (4/5)\n",
            "신규 차량이 등록되었습니다. (5/5)\n",
            "주차 공간이 모두 차있습니다.\n"
          ]
        }
      ]
    },
    {
      "cell_type": "code",
      "source": [
        "class House:\n",
        "\n",
        "    def __init__(self, location, house_type, price, completion_year):\n",
        "        pass\n",
        "    \n",
        "    def show_detail(self):\n",
        "        pass"
      ],
      "metadata": {
        "id": "0bndkuaDFEwd"
      },
      "execution_count": null,
      "outputs": []
    },
    {
      "cell_type": "code",
      "source": [
        "class House:\n",
        "    def __init__(self, location, house_type, price, completion_year):\n",
        "        self.location = location\n",
        "        self.house_type = house_type\n",
        "        self.price = price\n",
        "        self.completion_year = completion_year\n",
        "\n",
        "    def show_detail(self):\n",
        "        print(f\"{self.location} {self.house_type} {self.price} {self.completion_year}\")\n",
        "\n",
        "# 매물 정보\n",
        "house1 = House(\"강남아파트\", \"매매\", \"10.5억\", \"2010년\")\n",
        "house2 = House(\"강남 빌라\", \"전세\", \"12.5억\", \"2015년\")\n",
        "house3 = House(\"강남 빌라\", \"전세\", \"12.5억\", \"2015년\")\n",
        "\n",
        "# 매물 상세 정보 출력\n",
        "house1.show_detail()\n",
        "house2.show_detail()\n",
        "house3.show_detail()\n"
      ],
      "metadata": {
        "colab": {
          "base_uri": "https://localhost:8080/"
        },
        "id": "JEI-AqZ3GUJ5",
        "outputId": "63f6c89d-cd08-40cf-c447-191ed0ad006a"
      },
      "execution_count": 3,
      "outputs": [
        {
          "output_type": "stream",
          "name": "stdout",
          "text": [
            "강남아파트 매매 10.5억 2010년\n",
            "강남 빌라 전세 12.5억 2015년\n",
            "강남 빌라 전세 12.5억 2015년\n"
          ]
        }
      ]
    }
  ]
}