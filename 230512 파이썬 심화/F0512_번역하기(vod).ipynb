{
  "nbformat": 4,
  "nbformat_minor": 0,
  "metadata": {
    "colab": {
      "provenance": []
    },
    "kernelspec": {
      "name": "python3",
      "display_name": "Python 3"
    },
    "language_info": {
      "name": "python"
    }
  },
  "cells": [
    {
      "cell_type": "code",
      "source": [
        "!pip install googletrans==4.0.0-rc1"
      ],
      "metadata": {
        "id": "01ZfT-NDcr57"
      },
      "execution_count": null,
      "outputs": []
    },
    {
      "cell_type": "code",
      "execution_count": 5,
      "metadata": {
        "colab": {
          "base_uri": "https://localhost:8080/"
        },
        "id": "vKdOtDCEb9N1",
        "outputId": "d1d72cb3-0700-44ad-9833-d4cac8203754"
      },
      "outputs": [
        {
          "output_type": "stream",
          "name": "stdout",
          "text": [
            "번역을 원하는 문장을 입력하세요 : 안녕하세요 교수님\n",
            "\n",
            "============= 번역 결과 ============\n",
            "\n",
            "ko : 안녕하세요 교수님\n",
            "sv : Hej professor\n",
            "\n",
            "====================================\n",
            "\n"
          ]
        }
      ],
      "source": [
        "from googletrans import Translator\n",
        "\n",
        "translator = Translator()\n",
        "# sentence = \"좋은 아침이에요\"\n",
        "sentence = input(\"번역을 원하는 문장을 입력하세요 : \")\n",
        "result = translator.translate(sentence, dest=\"sv\")\n",
        "detect = translator.detect(sentence)\n",
        "\n",
        "print(\"\\n============= 번역 결과 ============\\n\")\n",
        "print(detect.lang,\":\", result.origin)\n",
        "print(result.dest,\":\", result.text)\n",
        "print(\"\\n====================================\\n\")"
      ]
    }
  ]
}