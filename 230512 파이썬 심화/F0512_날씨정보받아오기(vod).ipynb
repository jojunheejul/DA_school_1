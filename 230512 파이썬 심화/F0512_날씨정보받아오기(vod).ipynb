{
  "nbformat": 4,
  "nbformat_minor": 0,
  "metadata": {
    "colab": {
      "provenance": []
    },
    "kernelspec": {
      "name": "python3",
      "display_name": "Python 3"
    },
    "language_info": {
      "name": "python"
    }
  },
  "cells": [
    {
      "cell_type": "code",
      "execution_count": 6,
      "metadata": {
        "colab": {
          "base_uri": "https://localhost:8080/"
        },
        "id": "leRKxIKjKysm",
        "outputId": "e2a7ae74-a033-4ad8-cad0-458154c3bf11"
      },
      "outputs": [
        {
          "output_type": "stream",
          "name": "stdout",
          "text": [
            "Seoul 의 날씨입니다.\n",
            "날씨는  맑음 입니다.\n",
            "현재 온도는  23.02 입니다.\n",
            "하지만 체감 온도는  22.24 입니다.\n",
            "최저 기온은  20.69 입니다.\n",
            "최고 기온은  24.66 입니다.\n",
            "습도는  33 입니다.\n",
            "기압은  1017 입니다.\n",
            "풍향은  260 입니다.\n",
            "풍속은  1.54 입니다.\n"
          ]
        }
      ],
      "source": [
        "import requests\n",
        "import json\n",
        "\n",
        "city = \"Seoul\"\n",
        "apikey = \"89f0dd34b36aa62601438b41f8cdf580\"\n",
        "lang = \"kr\"\n",
        "\n",
        "api = f\"http://api.openweathermap.org/data/2.5/weather?q={city}&appid={apikey}&lang={lang}&units=metric\"\n",
        "\n",
        "result = requests.get(api)\n",
        "# print(result.text)\n",
        "\n",
        "data = json.loads(result.text)\n",
        "\n",
        "print(data[\"name\"],\"의 날씨입니다.\")\n",
        "print(\"날씨는 \",data[\"weather\"][0][\"description\"],\"입니다.\")\n",
        "print(\"현재 온도는 \",data[\"main\"][\"temp\"],\"입니다.\")\n",
        "print(\"하지만 체감 온도는 \",data[\"main\"][\"feels_like\"],\"입니다.\")\n",
        "print(\"최저 기온은 \",data[\"main\"][\"temp_min\"],\"입니다.\")\n",
        "print(\"최고 기온은 \",data[\"main\"][\"temp_max\"],\"입니다.\")\n",
        "print(\"습도는 \",data[\"main\"][\"humidity\"],\"입니다.\")\n",
        "print(\"기압은 \",data[\"main\"][\"pressure\"],\"입니다.\")\n",
        "print(\"풍향은 \",data[\"wind\"][\"deg\"],\"입니다.\")\n",
        "print(\"풍속은 \",data[\"wind\"][\"speed\"],\"입니다.\")"
      ]
    }
  ]
}