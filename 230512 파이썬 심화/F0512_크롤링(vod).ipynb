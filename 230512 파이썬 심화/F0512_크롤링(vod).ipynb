{
  "nbformat": 4,
  "nbformat_minor": 0,
  "metadata": {
    "colab": {
      "provenance": []
    },
    "kernelspec": {
      "name": "python3",
      "display_name": "Python 3"
    },
    "language_info": {
      "name": "python"
    }
  },
  "cells": [
    {
      "cell_type": "code",
      "execution_count": 1,
      "metadata": {
        "colab": {
          "base_uri": "https://localhost:8080/"
        },
        "id": "icRcm8jHVF-e",
        "outputId": "cf9246ba-5b4e-4879-e3ca-4d7aa7be36e4"
      },
      "outputs": [
        {
          "output_type": "stream",
          "name": "stdout",
          "text": [
            "Looking in indexes: https://pypi.org/simple, https://us-python.pkg.dev/colab-wheels/public/simple/\n",
            "Requirement already satisfied: requests in /usr/local/lib/python3.10/dist-packages (2.27.1)\n",
            "Requirement already satisfied: urllib3<1.27,>=1.21.1 in /usr/local/lib/python3.10/dist-packages (from requests) (1.26.15)\n",
            "Requirement already satisfied: certifi>=2017.4.17 in /usr/local/lib/python3.10/dist-packages (from requests) (2022.12.7)\n",
            "Requirement already satisfied: charset-normalizer~=2.0.0 in /usr/local/lib/python3.10/dist-packages (from requests) (2.0.12)\n",
            "Requirement already satisfied: idna<4,>=2.5 in /usr/local/lib/python3.10/dist-packages (from requests) (3.4)\n"
          ]
        }
      ],
      "source": [
        "!pip install requests"
      ]
    },
    {
      "cell_type": "code",
      "source": [
        "import requests\n",
        "\n",
        "url = \"http://www.daum.net\"\n",
        "print(requests.get(url)) #200은 성공을 의미한다"
      ],
      "metadata": {
        "colab": {
          "base_uri": "https://localhost:8080/"
        },
        "id": "GQIaFU0DVSjB",
        "outputId": "ef96cff4-e558-4198-a073-3cc6979baafc"
      },
      "execution_count": 5,
      "outputs": [
        {
          "output_type": "stream",
          "name": "stdout",
          "text": [
            "<Response [200]>\n"
          ]
        }
      ]
    },
    {
      "cell_type": "code",
      "source": [
        "import requests\n",
        "\n",
        "url = \"http://www.daum.net\"\n",
        "response = requests.get(url)\n",
        "\n",
        "# print(response.text)\n",
        "\n",
        "#print(response.url)\n",
        "\n",
        "# print(response.content)\n",
        "\n",
        "# print(response.encoding)\n",
        "\n",
        "# print(response.headers)\n",
        "\n",
        "# print(response.json)\n",
        "\n",
        "# print(response.links)\n",
        "\n",
        "# print(response.ok)\n",
        "\n",
        "# print(response.status_code)"
      ],
      "metadata": {
        "colab": {
          "base_uri": "https://localhost:8080/"
        },
        "id": "xuLLlhZPj1qI",
        "outputId": "1104447f-95f0-4925-8f91-78383581e443"
      },
      "execution_count": 15,
      "outputs": [
        {
          "output_type": "stream",
          "name": "stdout",
          "text": [
            "ISO-8859-1\n"
          ]
        }
      ]
    },
    {
      "cell_type": "code",
      "source": [
        "import requests\n",
        "from bs4 import BeautifulSoup\n",
        "\n",
        "url = \"http://www.daum.net\"\n",
        "response = requests.get(url)\n",
        "\n",
        "# print(response.text[:500])\n",
        "\n",
        "soup = BeautifulSoup(response.text, 'html.parser')\n",
        "\n",
        "print(soup.title)\n",
        "print(soup.title.string)\n",
        "print(soup.span)\n",
        "print(soup.findall('span'))"
      ],
      "metadata": {
        "id": "ciNV2UcklC2B"
      },
      "execution_count": null,
      "outputs": []
    },
    {
      "cell_type": "code",
      "source": [
        "import requests\n",
        "from bs4 import BeautifulSoup\n",
        "\n",
        "url = \"http://www.daum.net/\"\n",
        "response = requests.get(url)\n",
        "print(response.text)\n",
        "\n",
        "soup = BeautifulSoup(response.text, 'html.parser')\n",
        "\n",
        "file = open(\"daum.html\",\"w\")\n",
        "file.write(response.text)\n",
        "file.close()\n",
        "\n",
        "print(soup.title)\n",
        "print(soup.title.string)\n",
        "print(soup.span)\n",
        "print(soup.findAll('span'))"
      ],
      "metadata": {
        "id": "TH3bIG1plVsO"
      },
      "execution_count": null,
      "outputs": []
    },
    {
      "cell_type": "code",
      "source": [
        "import requests\n",
        "from bs4 import BeautifulSoup\n",
        "from datetime import datetime\n",
        "\n",
        "# from_encoding='euc-kr'으로 디코딩 작업하니까 한글깨짐 현상 없어졌어요 ! \n",
        "url = \"https://search.daum.net/search?w=tot&q=%EB%8B%A4%EC%9D%8C%20%EC%8B%A4%EC%8B%9C%EA%B0%84%20%EA%B2%80%EC%83%89%EC%96%B4&nzq=%EC%8B%A4%EC%8B%9C%EA%B0%84%20%EA%B2%80%EC%83%89%EC%96%B4&DA=RSJ\"\n",
        "response = requests.get(url)\n",
        "\n",
        "soup = BeautifulSoup(response.content, 'html.parser', from_encoding='euc-kr') \n",
        "rank = 1\n",
        "# file = open('daum1.html','w') \n",
        "# file.write(response.text)\n",
        "# file.close()\n",
        "\n",
        "# print(soup.title)\n",
        "# print(soup.title.string)\n",
        "# print(soup.span)\n",
        "# print(soup.findAll('span'))\n",
        "\n",
        "# html 문서에서 모든 a태그를 가져오는 코드\n",
        "results = soup.findAll(\"a\", \"link_txt\" ) \n",
        "\n",
        "search_rank_file = open('rankresult.txt', 'w')\n",
        "\n",
        "print(datetime.today().strftime(\"%Y년 %m월 %d일의 실시간 검색어 순위입니다.\\n\"))\n",
        "\n",
        "for result in results:\n",
        "    search_rank_file.write(str(rank)+\"위:\"+result.get_text()+\"\\n\")\n",
        "    print(rank,'위 : ', result.get_text(),\"\\n\")\n",
        "    rank += 1\n",
        "search_rank_file.close()"
      ],
      "metadata": {
        "id": "RgBc0Q7SqrNw"
      },
      "execution_count": null,
      "outputs": []
    },
    {
      "cell_type": "code",
      "source": [
        "from bs4 import BeautifulSoup\n",
        "import requests\n",
        "from datetime import datetime\n",
        "\n",
        "headers = {'User-Agent':'Mozilla/5.0 (Macintosh; Intel Mac OS X 10_15_7) AppleWebKit/537.36 (KHTML, like Gecko) Chrome/113.0.0.0 Safari/537.36'}\n",
        "url = \"https://datalab.naver.com/keyword/realtimeList.naver?age=20s\"\n",
        "response = requests.get(url,headers=headers)\n",
        "soup = BeautifulSoup(response.text, 'html.parser')\n",
        "rank = 1\n",
        "# span - item_title\n",
        "results = soup.findAll('span','item_title')\n",
        "\n",
        "print(response.text)\n",
        "\n",
        "search_rank_file_1 = open(\"rankresult_1.txt\",\"w\")\n",
        "\n",
        "print(datetime.today().strftime(\"%Y년 %m월 %d일의 실시간 검색어 순위입니다.\\n\"))\n",
        "\n",
        "for result in results:\n",
        "    search_rank_file_1.write(str(rank)+\"위:\"+result.get_text()+\"\\n\")\n",
        "    print(rank,\"위 : \",result.get_text(),\"\\n\")\n",
        "    rank += 1\n",
        "search_rank_file_1.close()"
      ],
      "metadata": {
        "colab": {
          "base_uri": "https://localhost:8080/"
        },
        "id": "_6OARDGnyHhx",
        "outputId": "db8cc368-4780-4681-c1b7-a38c70d517ba"
      },
      "execution_count": 45,
      "outputs": [
        {
          "output_type": "stream",
          "name": "stdout",
          "text": [
            "<!DOCTYPE html>\n",
            "<html lang=\"ko\">\n",
            "<head>\n",
            "    <meta charset=\"utf-8\">\n",
            "    <!-- [D] Internet Explorer Document Mode 최신으로 설정 -->\n",
            "    <meta http-equiv=\"X-UA-Compatible\" content=\"IE=edge\">\n",
            "    <title>페이지를 찾을 수 없습니다. : 빅데이터포털</title>\n",
            "    <style type=\"text/css\">\n",
            "        /* NHN Technology Services MJH 151228 */\n",
            "        /* Common */\n",
            "        html, body { height: 100%; }\n",
            "        body, p, h1, h2, h3, h4, h5, h6, ul, ol, li, dl, dt, dd, table, th, td, form, fieldset, legend, input, textarea, button, select { margin: 0; padding: 0; }\n",
            "        body{ background: #3a3d40; font-family: '나눔고딕',NanumGothic,'돋움',Dotum,Helvetica,sans-serif; font-size: 16px; color: #404d5d; letter-spacing: -1px; }\n",
            "        a { color: inherit; text-decoration: none; }\n",
            "        .blind { overflow: hidden; position: absolute; clip: rect(0 0 0 0); width: 1px; height: 1px; margin: -1px; }\n",
            "        .sp,\n",
            "        .sp_before:before { background-image: url(https://ssl.pstatic.net/static.datalab/202303080631/img/sp_error.png); background-repeat: no-repeat; }\n",
            "        .wrap { min-width: 1200px; }\n",
            "        .container { background: #fff; }\n",
            "        .content_error { min-height: 910px; padding-top: 240px; text-align: center; box-sizing: border-box; }\n",
            "        .error_title { font-weight: normal; font-size: 33px; }\n",
            "        .error_title:before { display:block; width: 40px; height: 40px; margin: 0 auto 26px; background-position: 0 0; content: ''; }\n",
            "        .error_title:after { display: block; width: 50px; height: 2px; margin: 25px auto 0; background: #d5dce2; content: ''; }\n",
            "        .error_desc { margin-top: 31px; line-height: 30px; }\n",
            "        .error_desc .link { color: #4a8fda; text-decoration: underline; }\n",
            "        .error_prev { display: inline-block; margin-top: 70px; color: #777; }\n",
            "        .error_prev:before { display:inline-block; width: 18px; height: 17px; margin-right: 7px; background-position: -44px 0 ; vertical-align: -3px; content: ''; }\n",
            "        .footer { width: 100%; height: 120px; background: #3a3d40; color: #999; }\n",
            "        .footer a { color: inherit; }\n",
            "        .footer .footer_inner { width: 1090px; margin: 0 auto; padding-top: 40px; text-align: center; }\n",
            "        .footer .footer_info { font-size: 12px; }\n",
            "        .footer .footer_info strong { color: #ccc; }\n",
            "        .footer .footer_info a:hover { text-decoration: underline; }\n",
            "        .footer .footer_info a + a:before { display: inline-block; width: 1px; height: 11px; margin: 0 6px; background: #4d4f52; vertical-align: -2px; content: ''; }\n",
            "        .footer .footer_copyright { margin-top: 19px; font-family: Verdana; font-size: 9px; letter-spacing: 0; }\n",
            "        .footer .footer_copyright strong a:hover { color: #ccc; text-decoration: underline; }\n",
            "        .footer .footer_logo { height: 11px; width: 62px; background-position: 0px -44px; display: inline-block; margin-right: 10px; vertical-align: -2px; }\n",
            "        .footer .copyright { font-family: Tahoma; font-size: 10px; }\n",
            "    </style>\n",
            "</head>\n",
            "\n",
            "<body>\n",
            "<div id=\"wrap\" class=\"wrap\">\n",
            "\n",
            "    <!-- container -->\n",
            "    <div id=\"container\" class=\"container\" role=\"main\">\n",
            "        <!-- content -->\n",
            "        <div id=\"content\" class=\"content_error\">\n",
            "            <h1 class=\"error_title sp_before\">오류로 데이터 표시를 할 수 없습니다.</h1>\n",
            "            <p class=\"error_desc\">\n",
            "                이용에 불편을 드려서 죄송합니다.\n",
            "                궁금한 사항은 <a href=\"https://help.naver.com/service/17528?lang=ko\" target=\"_blank\" class=\"link\">고객센터</a>에 문의해주시면 안내드리겠습니다.<br>\n",
            "                감사합니다.\n",
            "            </p>\n",
            "            <a href=\"javascript:history.back()\" class=\"error_prev sp_before\">이전 페이지로</a>\n",
            "        </div>\n",
            "        <!-- //content -->\n",
            "    </div>\n",
            "    <!-- //container -->\n",
            "\n",
            "    <!-- footer -->\n",
            "    <div id=\"footer\" class=\"footer\">\n",
            "        <div class=\"footer_inner\">\n",
            "            <div class=\"footer_info\">\n",
            "                <a href=\"https://policy.naver.com/rules/service.html\" target=\"_blank\">이용약관</a>\n",
            "                <a href=\"https://policy.naver.com/rules/privacy.html\" target=\"_blank\"><strong>개인정보취급방침</strong></a>\n",
            "                <a href=\"https://policy.naver.com/rules/disclaimer.html\" target=\"_blank\">책임의 한계와 법적고지</a>\n",
            "                <a href=\"https://help.naver.com/service/17528?lang=ko\" target=\"_blank\">고객센터</a>\n",
            "            </div>\n",
            "            <div class=\"footer_copyright\">\n",
            "                <a href=\"https://www.naver.com/\" target=\"_blank\" class=\"footer_logo sp\"><span class=\"blind\">NAVER</span></a>\n",
            "                <em class=\"copyright\">Copyright ©</em>\n",
            "                <strong><a href=\"https://www.navercorp.com/ko/index.nhn\" target=\"_blank\">NAVER Corp.</a></strong> All Rights Reserved.\n",
            "            </div>\n",
            "        </div>\n",
            "    </div>\n",
            "    <!-- //footer -->\n",
            "\n",
            "</div>\n",
            "\n",
            "</body>\n",
            "</html>\n",
            "\n",
            "2023년 05월 12일의 실시간 검색어 순위입니다.\n",
            "\n"
          ]
        }
      ]
    }
  ]
}